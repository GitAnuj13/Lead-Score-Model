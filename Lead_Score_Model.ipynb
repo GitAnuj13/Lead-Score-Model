{
 "cells": [
  {
   "cell_type": "code",
   "execution_count": 1,
   "id": "e6b82cd2",
   "metadata": {
    "_cell_guid": "b1076dfc-b9ad-4769-8c92-a6c4dae69d19",
    "_uuid": "8f2839f25d086af736a60e9eeb907d3b93b6e0e5",
    "execution": {
     "iopub.execute_input": "2023-06-13T13:47:53.085255Z",
     "iopub.status.busy": "2023-06-13T13:47:53.084760Z",
     "iopub.status.idle": "2023-06-13T13:47:54.674324Z",
     "shell.execute_reply": "2023-06-13T13:47:54.673060Z"
    },
    "papermill": {
     "duration": 1.623562,
     "end_time": "2023-06-13T13:47:54.677141",
     "exception": false,
     "start_time": "2023-06-13T13:47:53.053579",
     "status": "completed"
    },
    "tags": []
   },
   "outputs": [
    {
     "name": "stdout",
     "output_type": "stream",
     "text": [
      "/kaggle/input/leads-score/Leads.csv\n"
     ]
    }
   ],
   "source": [
    "# This Python 3 environment comes with many helpful analytics libraries installed\n",
    "# It is defined by the kaggle/python Docker image: https://github.com/kaggle/docker-python\n",
    "# For example, here's several helpful packages to load\n",
    "\n",
    "import numpy as np # linear algebra\n",
    "import pandas as pd # data processing, CSV file I/O (e.g. pd.read_csv)\n",
    "import matplotlib.pyplot as plt\n",
    "import seaborn as sns\n",
    "\n",
    "# Input data files are available in the read-only \"../input/\" directory\n",
    "# For example, running this (by clicking run or pressing Shift+Enter) will list all files under the input directory\n",
    "\n",
    "import os\n",
    "for dirname, _, filenames in os.walk('/kaggle/input'):\n",
    "    for filename in filenames:\n",
    "        print(os.path.join(dirname, filename))\n",
    "\n",
    "# You can write up to 20GB to the current directory (/kaggle/working/) that gets preserved as output when you create a version using \"Save & Run All\" \n",
    "# You can also write temporary files to /kaggle/temp/, but they won't be saved outside of the current session"
   ]
  },
  {
   "cell_type": "code",
   "execution_count": 2,
   "id": "906c5101",
   "metadata": {
    "execution": {
     "iopub.execute_input": "2023-06-13T13:47:54.737366Z",
     "iopub.status.busy": "2023-06-13T13:47:54.736971Z",
     "iopub.status.idle": "2023-06-13T13:47:54.875768Z",
     "shell.execute_reply": "2023-06-13T13:47:54.874567Z"
    },
    "papermill": {
     "duration": 0.172065,
     "end_time": "2023-06-13T13:47:54.878469",
     "exception": false,
     "start_time": "2023-06-13T13:47:54.706404",
     "status": "completed"
    },
    "tags": []
   },
   "outputs": [],
   "source": [
    "df=pd.read_csv(\"/kaggle/input/leads-score/Leads.csv\")"
   ]
  },
  {
   "cell_type": "code",
   "execution_count": 3,
   "id": "a7c520b8",
   "metadata": {
    "execution": {
     "iopub.execute_input": "2023-06-13T13:47:54.940817Z",
     "iopub.status.busy": "2023-06-13T13:47:54.940431Z",
     "iopub.status.idle": "2023-06-13T13:47:55.005787Z",
     "shell.execute_reply": "2023-06-13T13:47:55.004524Z"
    },
    "papermill": {
     "duration": 0.100276,
     "end_time": "2023-06-13T13:47:55.008966",
     "exception": false,
     "start_time": "2023-06-13T13:47:54.908690",
     "status": "completed"
    },
    "tags": []
   },
   "outputs": [
    {
     "data": {
      "text/html": [
       "<div>\n",
       "<style scoped>\n",
       "    .dataframe tbody tr th:only-of-type {\n",
       "        vertical-align: middle;\n",
       "    }\n",
       "\n",
       "    .dataframe tbody tr th {\n",
       "        vertical-align: top;\n",
       "    }\n",
       "\n",
       "    .dataframe thead th {\n",
       "        text-align: right;\n",
       "    }\n",
       "</style>\n",
       "<table border=\"1\" class=\"dataframe\">\n",
       "  <thead>\n",
       "    <tr style=\"text-align: right;\">\n",
       "      <th></th>\n",
       "      <th>Prospect ID</th>\n",
       "      <th>Lead Number</th>\n",
       "      <th>Lead Origin</th>\n",
       "      <th>Lead Source</th>\n",
       "      <th>Do Not Email</th>\n",
       "      <th>Do Not Call</th>\n",
       "      <th>Converted</th>\n",
       "      <th>TotalVisits</th>\n",
       "      <th>Total Time Spent on Website</th>\n",
       "      <th>Page Views Per Visit</th>\n",
       "      <th>...</th>\n",
       "      <th>Get updates on DM Content</th>\n",
       "      <th>Lead Profile</th>\n",
       "      <th>City</th>\n",
       "      <th>Asymmetrique Activity Index</th>\n",
       "      <th>Asymmetrique Profile Index</th>\n",
       "      <th>Asymmetrique Activity Score</th>\n",
       "      <th>Asymmetrique Profile Score</th>\n",
       "      <th>I agree to pay the amount through cheque</th>\n",
       "      <th>A free copy of Mastering The Interview</th>\n",
       "      <th>Last Notable Activity</th>\n",
       "    </tr>\n",
       "  </thead>\n",
       "  <tbody>\n",
       "    <tr>\n",
       "      <th>0</th>\n",
       "      <td>7927b2df-8bba-4d29-b9a2-b6e0beafe620</td>\n",
       "      <td>660737</td>\n",
       "      <td>API</td>\n",
       "      <td>Olark Chat</td>\n",
       "      <td>No</td>\n",
       "      <td>No</td>\n",
       "      <td>0</td>\n",
       "      <td>0.0</td>\n",
       "      <td>0</td>\n",
       "      <td>0.00</td>\n",
       "      <td>...</td>\n",
       "      <td>No</td>\n",
       "      <td>Select</td>\n",
       "      <td>Select</td>\n",
       "      <td>02.Medium</td>\n",
       "      <td>02.Medium</td>\n",
       "      <td>15.0</td>\n",
       "      <td>15.0</td>\n",
       "      <td>No</td>\n",
       "      <td>No</td>\n",
       "      <td>Modified</td>\n",
       "    </tr>\n",
       "    <tr>\n",
       "      <th>1</th>\n",
       "      <td>2a272436-5132-4136-86fa-dcc88c88f482</td>\n",
       "      <td>660728</td>\n",
       "      <td>API</td>\n",
       "      <td>Organic Search</td>\n",
       "      <td>No</td>\n",
       "      <td>No</td>\n",
       "      <td>0</td>\n",
       "      <td>5.0</td>\n",
       "      <td>674</td>\n",
       "      <td>2.50</td>\n",
       "      <td>...</td>\n",
       "      <td>No</td>\n",
       "      <td>Select</td>\n",
       "      <td>Select</td>\n",
       "      <td>02.Medium</td>\n",
       "      <td>02.Medium</td>\n",
       "      <td>15.0</td>\n",
       "      <td>15.0</td>\n",
       "      <td>No</td>\n",
       "      <td>No</td>\n",
       "      <td>Email Opened</td>\n",
       "    </tr>\n",
       "    <tr>\n",
       "      <th>2</th>\n",
       "      <td>8cc8c611-a219-4f35-ad23-fdfd2656bd8a</td>\n",
       "      <td>660727</td>\n",
       "      <td>Landing Page Submission</td>\n",
       "      <td>Direct Traffic</td>\n",
       "      <td>No</td>\n",
       "      <td>No</td>\n",
       "      <td>1</td>\n",
       "      <td>2.0</td>\n",
       "      <td>1532</td>\n",
       "      <td>2.00</td>\n",
       "      <td>...</td>\n",
       "      <td>No</td>\n",
       "      <td>Potential Lead</td>\n",
       "      <td>Mumbai</td>\n",
       "      <td>02.Medium</td>\n",
       "      <td>01.High</td>\n",
       "      <td>14.0</td>\n",
       "      <td>20.0</td>\n",
       "      <td>No</td>\n",
       "      <td>Yes</td>\n",
       "      <td>Email Opened</td>\n",
       "    </tr>\n",
       "    <tr>\n",
       "      <th>3</th>\n",
       "      <td>0cc2df48-7cf4-4e39-9de9-19797f9b38cc</td>\n",
       "      <td>660719</td>\n",
       "      <td>Landing Page Submission</td>\n",
       "      <td>Direct Traffic</td>\n",
       "      <td>No</td>\n",
       "      <td>No</td>\n",
       "      <td>0</td>\n",
       "      <td>1.0</td>\n",
       "      <td>305</td>\n",
       "      <td>1.00</td>\n",
       "      <td>...</td>\n",
       "      <td>No</td>\n",
       "      <td>Select</td>\n",
       "      <td>Mumbai</td>\n",
       "      <td>02.Medium</td>\n",
       "      <td>01.High</td>\n",
       "      <td>13.0</td>\n",
       "      <td>17.0</td>\n",
       "      <td>No</td>\n",
       "      <td>No</td>\n",
       "      <td>Modified</td>\n",
       "    </tr>\n",
       "    <tr>\n",
       "      <th>4</th>\n",
       "      <td>3256f628-e534-4826-9d63-4a8b88782852</td>\n",
       "      <td>660681</td>\n",
       "      <td>Landing Page Submission</td>\n",
       "      <td>Google</td>\n",
       "      <td>No</td>\n",
       "      <td>No</td>\n",
       "      <td>1</td>\n",
       "      <td>2.0</td>\n",
       "      <td>1428</td>\n",
       "      <td>1.00</td>\n",
       "      <td>...</td>\n",
       "      <td>No</td>\n",
       "      <td>Select</td>\n",
       "      <td>Mumbai</td>\n",
       "      <td>02.Medium</td>\n",
       "      <td>01.High</td>\n",
       "      <td>15.0</td>\n",
       "      <td>18.0</td>\n",
       "      <td>No</td>\n",
       "      <td>No</td>\n",
       "      <td>Modified</td>\n",
       "    </tr>\n",
       "    <tr>\n",
       "      <th>...</th>\n",
       "      <td>...</td>\n",
       "      <td>...</td>\n",
       "      <td>...</td>\n",
       "      <td>...</td>\n",
       "      <td>...</td>\n",
       "      <td>...</td>\n",
       "      <td>...</td>\n",
       "      <td>...</td>\n",
       "      <td>...</td>\n",
       "      <td>...</td>\n",
       "      <td>...</td>\n",
       "      <td>...</td>\n",
       "      <td>...</td>\n",
       "      <td>...</td>\n",
       "      <td>...</td>\n",
       "      <td>...</td>\n",
       "      <td>...</td>\n",
       "      <td>...</td>\n",
       "      <td>...</td>\n",
       "      <td>...</td>\n",
       "      <td>...</td>\n",
       "    </tr>\n",
       "    <tr>\n",
       "      <th>9235</th>\n",
       "      <td>19d6451e-fcd6-407c-b83b-48e1af805ea9</td>\n",
       "      <td>579564</td>\n",
       "      <td>Landing Page Submission</td>\n",
       "      <td>Direct Traffic</td>\n",
       "      <td>Yes</td>\n",
       "      <td>No</td>\n",
       "      <td>1</td>\n",
       "      <td>8.0</td>\n",
       "      <td>1845</td>\n",
       "      <td>2.67</td>\n",
       "      <td>...</td>\n",
       "      <td>No</td>\n",
       "      <td>Potential Lead</td>\n",
       "      <td>Mumbai</td>\n",
       "      <td>02.Medium</td>\n",
       "      <td>01.High</td>\n",
       "      <td>15.0</td>\n",
       "      <td>17.0</td>\n",
       "      <td>No</td>\n",
       "      <td>No</td>\n",
       "      <td>Email Marked Spam</td>\n",
       "    </tr>\n",
       "    <tr>\n",
       "      <th>9236</th>\n",
       "      <td>82a7005b-7196-4d56-95ce-a79f937a158d</td>\n",
       "      <td>579546</td>\n",
       "      <td>Landing Page Submission</td>\n",
       "      <td>Direct Traffic</td>\n",
       "      <td>No</td>\n",
       "      <td>No</td>\n",
       "      <td>0</td>\n",
       "      <td>2.0</td>\n",
       "      <td>238</td>\n",
       "      <td>2.00</td>\n",
       "      <td>...</td>\n",
       "      <td>No</td>\n",
       "      <td>Potential Lead</td>\n",
       "      <td>Mumbai</td>\n",
       "      <td>02.Medium</td>\n",
       "      <td>01.High</td>\n",
       "      <td>14.0</td>\n",
       "      <td>19.0</td>\n",
       "      <td>No</td>\n",
       "      <td>Yes</td>\n",
       "      <td>SMS Sent</td>\n",
       "    </tr>\n",
       "    <tr>\n",
       "      <th>9237</th>\n",
       "      <td>aac550fe-a586-452d-8d3c-f1b62c94e02c</td>\n",
       "      <td>579545</td>\n",
       "      <td>Landing Page Submission</td>\n",
       "      <td>Direct Traffic</td>\n",
       "      <td>Yes</td>\n",
       "      <td>No</td>\n",
       "      <td>0</td>\n",
       "      <td>2.0</td>\n",
       "      <td>199</td>\n",
       "      <td>2.00</td>\n",
       "      <td>...</td>\n",
       "      <td>No</td>\n",
       "      <td>Potential Lead</td>\n",
       "      <td>Mumbai</td>\n",
       "      <td>02.Medium</td>\n",
       "      <td>01.High</td>\n",
       "      <td>13.0</td>\n",
       "      <td>20.0</td>\n",
       "      <td>No</td>\n",
       "      <td>Yes</td>\n",
       "      <td>SMS Sent</td>\n",
       "    </tr>\n",
       "    <tr>\n",
       "      <th>9238</th>\n",
       "      <td>5330a7d1-2f2b-4df4-85d6-64ca2f6b95b9</td>\n",
       "      <td>579538</td>\n",
       "      <td>Landing Page Submission</td>\n",
       "      <td>Google</td>\n",
       "      <td>No</td>\n",
       "      <td>No</td>\n",
       "      <td>1</td>\n",
       "      <td>3.0</td>\n",
       "      <td>499</td>\n",
       "      <td>3.00</td>\n",
       "      <td>...</td>\n",
       "      <td>No</td>\n",
       "      <td>NaN</td>\n",
       "      <td>Other Metro Cities</td>\n",
       "      <td>02.Medium</td>\n",
       "      <td>02.Medium</td>\n",
       "      <td>15.0</td>\n",
       "      <td>16.0</td>\n",
       "      <td>No</td>\n",
       "      <td>No</td>\n",
       "      <td>SMS Sent</td>\n",
       "    </tr>\n",
       "    <tr>\n",
       "      <th>9239</th>\n",
       "      <td>571b5c8e-a5b2-4d57-8574-f2ffb06fdeff</td>\n",
       "      <td>579533</td>\n",
       "      <td>Landing Page Submission</td>\n",
       "      <td>Direct Traffic</td>\n",
       "      <td>No</td>\n",
       "      <td>No</td>\n",
       "      <td>1</td>\n",
       "      <td>6.0</td>\n",
       "      <td>1279</td>\n",
       "      <td>3.00</td>\n",
       "      <td>...</td>\n",
       "      <td>No</td>\n",
       "      <td>Potential Lead</td>\n",
       "      <td>Other Cities</td>\n",
       "      <td>02.Medium</td>\n",
       "      <td>01.High</td>\n",
       "      <td>15.0</td>\n",
       "      <td>18.0</td>\n",
       "      <td>No</td>\n",
       "      <td>Yes</td>\n",
       "      <td>Modified</td>\n",
       "    </tr>\n",
       "  </tbody>\n",
       "</table>\n",
       "<p>9240 rows × 37 columns</p>\n",
       "</div>"
      ],
      "text/plain": [
       "                               Prospect ID  Lead Number  \\\n",
       "0     7927b2df-8bba-4d29-b9a2-b6e0beafe620       660737   \n",
       "1     2a272436-5132-4136-86fa-dcc88c88f482       660728   \n",
       "2     8cc8c611-a219-4f35-ad23-fdfd2656bd8a       660727   \n",
       "3     0cc2df48-7cf4-4e39-9de9-19797f9b38cc       660719   \n",
       "4     3256f628-e534-4826-9d63-4a8b88782852       660681   \n",
       "...                                    ...          ...   \n",
       "9235  19d6451e-fcd6-407c-b83b-48e1af805ea9       579564   \n",
       "9236  82a7005b-7196-4d56-95ce-a79f937a158d       579546   \n",
       "9237  aac550fe-a586-452d-8d3c-f1b62c94e02c       579545   \n",
       "9238  5330a7d1-2f2b-4df4-85d6-64ca2f6b95b9       579538   \n",
       "9239  571b5c8e-a5b2-4d57-8574-f2ffb06fdeff       579533   \n",
       "\n",
       "                  Lead Origin     Lead Source Do Not Email Do Not Call  \\\n",
       "0                         API      Olark Chat           No          No   \n",
       "1                         API  Organic Search           No          No   \n",
       "2     Landing Page Submission  Direct Traffic           No          No   \n",
       "3     Landing Page Submission  Direct Traffic           No          No   \n",
       "4     Landing Page Submission          Google           No          No   \n",
       "...                       ...             ...          ...         ...   \n",
       "9235  Landing Page Submission  Direct Traffic          Yes          No   \n",
       "9236  Landing Page Submission  Direct Traffic           No          No   \n",
       "9237  Landing Page Submission  Direct Traffic          Yes          No   \n",
       "9238  Landing Page Submission          Google           No          No   \n",
       "9239  Landing Page Submission  Direct Traffic           No          No   \n",
       "\n",
       "      Converted  TotalVisits  Total Time Spent on Website  \\\n",
       "0             0          0.0                            0   \n",
       "1             0          5.0                          674   \n",
       "2             1          2.0                         1532   \n",
       "3             0          1.0                          305   \n",
       "4             1          2.0                         1428   \n",
       "...         ...          ...                          ...   \n",
       "9235          1          8.0                         1845   \n",
       "9236          0          2.0                          238   \n",
       "9237          0          2.0                          199   \n",
       "9238          1          3.0                          499   \n",
       "9239          1          6.0                         1279   \n",
       "\n",
       "      Page Views Per Visit  ... Get updates on DM Content    Lead Profile  \\\n",
       "0                     0.00  ...                        No          Select   \n",
       "1                     2.50  ...                        No          Select   \n",
       "2                     2.00  ...                        No  Potential Lead   \n",
       "3                     1.00  ...                        No          Select   \n",
       "4                     1.00  ...                        No          Select   \n",
       "...                    ...  ...                       ...             ...   \n",
       "9235                  2.67  ...                        No  Potential Lead   \n",
       "9236                  2.00  ...                        No  Potential Lead   \n",
       "9237                  2.00  ...                        No  Potential Lead   \n",
       "9238                  3.00  ...                        No             NaN   \n",
       "9239                  3.00  ...                        No  Potential Lead   \n",
       "\n",
       "                    City Asymmetrique Activity Index  \\\n",
       "0                 Select                   02.Medium   \n",
       "1                 Select                   02.Medium   \n",
       "2                 Mumbai                   02.Medium   \n",
       "3                 Mumbai                   02.Medium   \n",
       "4                 Mumbai                   02.Medium   \n",
       "...                  ...                         ...   \n",
       "9235              Mumbai                   02.Medium   \n",
       "9236              Mumbai                   02.Medium   \n",
       "9237              Mumbai                   02.Medium   \n",
       "9238  Other Metro Cities                   02.Medium   \n",
       "9239        Other Cities                   02.Medium   \n",
       "\n",
       "     Asymmetrique Profile Index Asymmetrique Activity Score  \\\n",
       "0                     02.Medium                        15.0   \n",
       "1                     02.Medium                        15.0   \n",
       "2                       01.High                        14.0   \n",
       "3                       01.High                        13.0   \n",
       "4                       01.High                        15.0   \n",
       "...                         ...                         ...   \n",
       "9235                    01.High                        15.0   \n",
       "9236                    01.High                        14.0   \n",
       "9237                    01.High                        13.0   \n",
       "9238                  02.Medium                        15.0   \n",
       "9239                    01.High                        15.0   \n",
       "\n",
       "     Asymmetrique Profile Score I agree to pay the amount through cheque  \\\n",
       "0                          15.0                                       No   \n",
       "1                          15.0                                       No   \n",
       "2                          20.0                                       No   \n",
       "3                          17.0                                       No   \n",
       "4                          18.0                                       No   \n",
       "...                         ...                                      ...   \n",
       "9235                       17.0                                       No   \n",
       "9236                       19.0                                       No   \n",
       "9237                       20.0                                       No   \n",
       "9238                       16.0                                       No   \n",
       "9239                       18.0                                       No   \n",
       "\n",
       "     A free copy of Mastering The Interview Last Notable Activity  \n",
       "0                                        No              Modified  \n",
       "1                                        No          Email Opened  \n",
       "2                                       Yes          Email Opened  \n",
       "3                                        No              Modified  \n",
       "4                                        No              Modified  \n",
       "...                                     ...                   ...  \n",
       "9235                                     No     Email Marked Spam  \n",
       "9236                                    Yes              SMS Sent  \n",
       "9237                                    Yes              SMS Sent  \n",
       "9238                                     No              SMS Sent  \n",
       "9239                                    Yes              Modified  \n",
       "\n",
       "[9240 rows x 37 columns]"
      ]
     },
     "execution_count": 3,
     "metadata": {},
     "output_type": "execute_result"
    }
   ],
   "source": [
    "df"
   ]
  },
  {
   "cell_type": "code",
   "execution_count": 4,
   "id": "5bb7f83f",
   "metadata": {
    "execution": {
     "iopub.execute_input": "2023-06-13T13:47:55.072891Z",
     "iopub.status.busy": "2023-06-13T13:47:55.070911Z",
     "iopub.status.idle": "2023-06-13T13:47:55.079155Z",
     "shell.execute_reply": "2023-06-13T13:47:55.077426Z"
    },
    "papermill": {
     "duration": 0.042406,
     "end_time": "2023-06-13T13:47:55.081650",
     "exception": false,
     "start_time": "2023-06-13T13:47:55.039244",
     "status": "completed"
    },
    "tags": []
   },
   "outputs": [
    {
     "data": {
      "text/plain": [
       "(9240, 37)"
      ]
     },
     "execution_count": 4,
     "metadata": {},
     "output_type": "execute_result"
    }
   ],
   "source": [
    "df.shape"
   ]
  },
  {
   "cell_type": "code",
   "execution_count": 5,
   "id": "9f3b9cec",
   "metadata": {
    "execution": {
     "iopub.execute_input": "2023-06-13T13:47:55.144915Z",
     "iopub.status.busy": "2023-06-13T13:47:55.143884Z",
     "iopub.status.idle": "2023-06-13T13:47:55.256152Z",
     "shell.execute_reply": "2023-06-13T13:47:55.254271Z"
    },
    "papermill": {
     "duration": 0.1466,
     "end_time": "2023-06-13T13:47:55.259203",
     "exception": false,
     "start_time": "2023-06-13T13:47:55.112603",
     "status": "completed"
    },
    "tags": []
   },
   "outputs": [
    {
     "name": "stdout",
     "output_type": "stream",
     "text": [
      "<class 'pandas.core.frame.DataFrame'>\n",
      "RangeIndex: 9240 entries, 0 to 9239\n",
      "Data columns (total 37 columns):\n",
      " #   Column                                         Non-Null Count  Dtype  \n",
      "---  ------                                         --------------  -----  \n",
      " 0   Prospect ID                                    9240 non-null   object \n",
      " 1   Lead Number                                    9240 non-null   int64  \n",
      " 2   Lead Origin                                    9240 non-null   object \n",
      " 3   Lead Source                                    9204 non-null   object \n",
      " 4   Do Not Email                                   9240 non-null   object \n",
      " 5   Do Not Call                                    9240 non-null   object \n",
      " 6   Converted                                      9240 non-null   int64  \n",
      " 7   TotalVisits                                    9103 non-null   float64\n",
      " 8   Total Time Spent on Website                    9240 non-null   int64  \n",
      " 9   Page Views Per Visit                           9103 non-null   float64\n",
      " 10  Last Activity                                  9137 non-null   object \n",
      " 11  Country                                        6779 non-null   object \n",
      " 12  Specialization                                 7802 non-null   object \n",
      " 13  How did you hear about X Education             7033 non-null   object \n",
      " 14  What is your current occupation                6550 non-null   object \n",
      " 15  What matters most to you in choosing a course  6531 non-null   object \n",
      " 16  Search                                         9240 non-null   object \n",
      " 17  Magazine                                       9240 non-null   object \n",
      " 18  Newspaper Article                              9240 non-null   object \n",
      " 19  X Education Forums                             9240 non-null   object \n",
      " 20  Newspaper                                      9240 non-null   object \n",
      " 21  Digital Advertisement                          9240 non-null   object \n",
      " 22  Through Recommendations                        9240 non-null   object \n",
      " 23  Receive More Updates About Our Courses         9240 non-null   object \n",
      " 24  Tags                                           5887 non-null   object \n",
      " 25  Lead Quality                                   4473 non-null   object \n",
      " 26  Update me on Supply Chain Content              9240 non-null   object \n",
      " 27  Get updates on DM Content                      9240 non-null   object \n",
      " 28  Lead Profile                                   6531 non-null   object \n",
      " 29  City                                           7820 non-null   object \n",
      " 30  Asymmetrique Activity Index                    5022 non-null   object \n",
      " 31  Asymmetrique Profile Index                     5022 non-null   object \n",
      " 32  Asymmetrique Activity Score                    5022 non-null   float64\n",
      " 33  Asymmetrique Profile Score                     5022 non-null   float64\n",
      " 34  I agree to pay the amount through cheque       9240 non-null   object \n",
      " 35  A free copy of Mastering The Interview         9240 non-null   object \n",
      " 36  Last Notable Activity                          9240 non-null   object \n",
      "dtypes: float64(4), int64(3), object(30)\n",
      "memory usage: 2.6+ MB\n"
     ]
    }
   ],
   "source": [
    "df.info()"
   ]
  },
  {
   "cell_type": "code",
   "execution_count": null,
   "id": "5188da28",
   "metadata": {
    "papermill": {
     "duration": 0.030515,
     "end_time": "2023-06-13T13:47:55.320496",
     "exception": false,
     "start_time": "2023-06-13T13:47:55.289981",
     "status": "completed"
    },
    "tags": []
   },
   "outputs": [],
   "source": []
  },
  {
   "cell_type": "code",
   "execution_count": 6,
   "id": "fa385db6",
   "metadata": {
    "execution": {
     "iopub.execute_input": "2023-06-13T13:47:55.386038Z",
     "iopub.status.busy": "2023-06-13T13:47:55.384802Z",
     "iopub.status.idle": "2023-06-13T13:47:55.394835Z",
     "shell.execute_reply": "2023-06-13T13:47:55.393668Z"
    },
    "papermill": {
     "duration": 0.045561,
     "end_time": "2023-06-13T13:47:55.397088",
     "exception": false,
     "start_time": "2023-06-13T13:47:55.351527",
     "status": "completed"
    },
    "tags": []
   },
   "outputs": [
    {
     "data": {
      "text/plain": [
       "0"
      ]
     },
     "execution_count": 6,
     "metadata": {},
     "output_type": "execute_result"
    }
   ],
   "source": [
    "df[\"Lead Number\"].duplicated().sum()"
   ]
  },
  {
   "cell_type": "code",
   "execution_count": 7,
   "id": "ba2ba0d2",
   "metadata": {
    "execution": {
     "iopub.execute_input": "2023-06-13T13:47:55.461068Z",
     "iopub.status.busy": "2023-06-13T13:47:55.460399Z",
     "iopub.status.idle": "2023-06-13T13:47:55.469044Z",
     "shell.execute_reply": "2023-06-13T13:47:55.468067Z"
    },
    "papermill": {
     "duration": 0.043217,
     "end_time": "2023-06-13T13:47:55.471173",
     "exception": false,
     "start_time": "2023-06-13T13:47:55.427956",
     "status": "completed"
    },
    "tags": []
   },
   "outputs": [
    {
     "data": {
      "text/plain": [
       "0"
      ]
     },
     "execution_count": 7,
     "metadata": {},
     "output_type": "execute_result"
    }
   ],
   "source": [
    "df[\"Prospect ID\"].duplicated().sum()"
   ]
  },
  {
   "cell_type": "code",
   "execution_count": 8,
   "id": "51ba45f7",
   "metadata": {
    "execution": {
     "iopub.execute_input": "2023-06-13T13:47:55.536643Z",
     "iopub.status.busy": "2023-06-13T13:47:55.536048Z",
     "iopub.status.idle": "2023-06-13T13:47:55.631518Z",
     "shell.execute_reply": "2023-06-13T13:47:55.630425Z"
    },
    "papermill": {
     "duration": 0.130901,
     "end_time": "2023-06-13T13:47:55.633839",
     "exception": false,
     "start_time": "2023-06-13T13:47:55.502938",
     "status": "completed"
    },
    "tags": []
   },
   "outputs": [
    {
     "data": {
      "text/plain": [
       "Prospect ID                                         0\n",
       "Lead Number                                         0\n",
       "Lead Origin                                         0\n",
       "Lead Source                                        36\n",
       "Do Not Email                                        0\n",
       "Do Not Call                                         0\n",
       "Converted                                           0\n",
       "TotalVisits                                       137\n",
       "Total Time Spent on Website                         0\n",
       "Page Views Per Visit                              137\n",
       "Last Activity                                     103\n",
       "Country                                          2461\n",
       "Specialization                                   1438\n",
       "How did you hear about X Education               2207\n",
       "What is your current occupation                  2690\n",
       "What matters most to you in choosing a course    2709\n",
       "Search                                              0\n",
       "Magazine                                            0\n",
       "Newspaper Article                                   0\n",
       "X Education Forums                                  0\n",
       "Newspaper                                           0\n",
       "Digital Advertisement                               0\n",
       "Through Recommendations                             0\n",
       "Receive More Updates About Our Courses              0\n",
       "Tags                                             3353\n",
       "Lead Quality                                     4767\n",
       "Update me on Supply Chain Content                   0\n",
       "Get updates on DM Content                           0\n",
       "Lead Profile                                     2709\n",
       "City                                             1420\n",
       "Asymmetrique Activity Index                      4218\n",
       "Asymmetrique Profile Index                       4218\n",
       "Asymmetrique Activity Score                      4218\n",
       "Asymmetrique Profile Score                       4218\n",
       "I agree to pay the amount through cheque            0\n",
       "A free copy of Mastering The Interview              0\n",
       "Last Notable Activity                               0\n",
       "dtype: int64"
      ]
     },
     "execution_count": 8,
     "metadata": {},
     "output_type": "execute_result"
    }
   ],
   "source": [
    "df.isnull().sum()"
   ]
  },
  {
   "cell_type": "code",
   "execution_count": 9,
   "id": "874e4951",
   "metadata": {
    "execution": {
     "iopub.execute_input": "2023-06-13T13:47:55.696852Z",
     "iopub.status.busy": "2023-06-13T13:47:55.696434Z",
     "iopub.status.idle": "2023-06-13T13:47:55.707013Z",
     "shell.execute_reply": "2023-06-13T13:47:55.705820Z"
    },
    "papermill": {
     "duration": 0.044737,
     "end_time": "2023-06-13T13:47:55.709247",
     "exception": false,
     "start_time": "2023-06-13T13:47:55.664510",
     "status": "completed"
    },
    "tags": []
   },
   "outputs": [
    {
     "data": {
      "text/plain": [
       "Landing Page Submission    4886\n",
       "API                        3580\n",
       "Lead Add Form               718\n",
       "Lead Import                  55\n",
       "Quick Add Form                1\n",
       "Name: Lead Origin, dtype: int64"
      ]
     },
     "execution_count": 9,
     "metadata": {},
     "output_type": "execute_result"
    }
   ],
   "source": [
    "df[\"Lead Origin\"].value_counts()"
   ]
  },
  {
   "cell_type": "code",
   "execution_count": 10,
   "id": "9f2136f0",
   "metadata": {
    "execution": {
     "iopub.execute_input": "2023-06-13T13:47:55.773762Z",
     "iopub.status.busy": "2023-06-13T13:47:55.772951Z",
     "iopub.status.idle": "2023-06-13T13:47:55.784381Z",
     "shell.execute_reply": "2023-06-13T13:47:55.783503Z"
    },
    "papermill": {
     "duration": 0.046544,
     "end_time": "2023-06-13T13:47:55.786820",
     "exception": false,
     "start_time": "2023-06-13T13:47:55.740276",
     "status": "completed"
    },
    "tags": []
   },
   "outputs": [],
   "source": [
    "df1=df[df[\"Lead Origin\"]!=\"Quick Add Form\"]"
   ]
  },
  {
   "cell_type": "code",
   "execution_count": 11,
   "id": "6aafea2b",
   "metadata": {
    "execution": {
     "iopub.execute_input": "2023-06-13T13:47:55.852381Z",
     "iopub.status.busy": "2023-06-13T13:47:55.851727Z",
     "iopub.status.idle": "2023-06-13T13:47:56.016667Z",
     "shell.execute_reply": "2023-06-13T13:47:56.015542Z"
    },
    "papermill": {
     "duration": 0.200669,
     "end_time": "2023-06-13T13:47:56.019306",
     "exception": false,
     "start_time": "2023-06-13T13:47:55.818637",
     "status": "completed"
    },
    "tags": []
   },
   "outputs": [
    {
     "name": "stderr",
     "output_type": "stream",
     "text": [
      "/tmp/ipykernel_20/1432858158.py:6: SettingWithCopyWarning: \n",
      "A value is trying to be set on a copy of a slice from a DataFrame.\n",
      "Try using .loc[row_indexer,col_indexer] = value instead\n",
      "\n",
      "See the caveats in the documentation: https://pandas.pydata.org/pandas-docs/stable/user_guide/indexing.html#returning-a-view-versus-a-copy\n",
      "  df1['Lead Origin']=label_encoder.fit_transform(df1['Lead Origin'])\n"
     ]
    }
   ],
   "source": [
    "# Create an instance of the LabelEncoder\n",
    "from sklearn.preprocessing import LabelEncoder\n",
    "label_encoder = LabelEncoder()\n",
    "\n",
    "\n",
    "df1['Lead Origin']=label_encoder.fit_transform(df1['Lead Origin'])\n"
   ]
  },
  {
   "cell_type": "code",
   "execution_count": 12,
   "id": "d0ef58ea",
   "metadata": {
    "execution": {
     "iopub.execute_input": "2023-06-13T13:47:56.083959Z",
     "iopub.status.busy": "2023-06-13T13:47:56.083556Z",
     "iopub.status.idle": "2023-06-13T13:47:56.092777Z",
     "shell.execute_reply": "2023-06-13T13:47:56.091674Z"
    },
    "papermill": {
     "duration": 0.045331,
     "end_time": "2023-06-13T13:47:56.095605",
     "exception": false,
     "start_time": "2023-06-13T13:47:56.050274",
     "status": "completed"
    },
    "tags": []
   },
   "outputs": [
    {
     "data": {
      "text/plain": [
       "0       0\n",
       "1       0\n",
       "2       1\n",
       "3       1\n",
       "4       1\n",
       "       ..\n",
       "9235    1\n",
       "9236    1\n",
       "9237    1\n",
       "9238    1\n",
       "9239    1\n",
       "Name: Lead Origin, Length: 9239, dtype: int64"
      ]
     },
     "execution_count": 12,
     "metadata": {},
     "output_type": "execute_result"
    }
   ],
   "source": [
    "df1[\"Lead Origin\"]"
   ]
  },
  {
   "cell_type": "code",
   "execution_count": null,
   "id": "7b6f7b64",
   "metadata": {
    "papermill": {
     "duration": 0.030808,
     "end_time": "2023-06-13T13:47:56.157272",
     "exception": false,
     "start_time": "2023-06-13T13:47:56.126464",
     "status": "completed"
    },
    "tags": []
   },
   "outputs": [],
   "source": []
  },
  {
   "cell_type": "code",
   "execution_count": null,
   "id": "b09ed0b4",
   "metadata": {
    "papermill": {
     "duration": 0.030621,
     "end_time": "2023-06-13T13:47:56.218687",
     "exception": false,
     "start_time": "2023-06-13T13:47:56.188066",
     "status": "completed"
    },
    "tags": []
   },
   "outputs": [],
   "source": []
  },
  {
   "cell_type": "code",
   "execution_count": 13,
   "id": "ceaf6654",
   "metadata": {
    "execution": {
     "iopub.execute_input": "2023-06-13T13:47:56.284640Z",
     "iopub.status.busy": "2023-06-13T13:47:56.283548Z",
     "iopub.status.idle": "2023-06-13T13:47:56.293847Z",
     "shell.execute_reply": "2023-06-13T13:47:56.292849Z"
    },
    "papermill": {
     "duration": 0.045692,
     "end_time": "2023-06-13T13:47:56.296294",
     "exception": false,
     "start_time": "2023-06-13T13:47:56.250602",
     "status": "completed"
    },
    "tags": []
   },
   "outputs": [
    {
     "data": {
      "text/plain": [
       "Index(['bing', 'google', 'Click2call', 'Press_Release', 'Social Media',\n",
       "       'Live Chat', 'youtubechannel', 'testone', 'Pay per Click Ads',\n",
       "       'welearnblog_Home', 'WeLearn', 'blog', 'NC_EDM'],\n",
       "      dtype='object')"
      ]
     },
     "execution_count": 13,
     "metadata": {},
     "output_type": "execute_result"
    }
   ],
   "source": [
    "a=df1[\"Lead Source\"].value_counts()\n",
    "b=a[a<7]\n",
    "b.index"
   ]
  },
  {
   "cell_type": "code",
   "execution_count": null,
   "id": "a60697e1",
   "metadata": {
    "papermill": {
     "duration": 0.030815,
     "end_time": "2023-06-13T13:47:56.358318",
     "exception": false,
     "start_time": "2023-06-13T13:47:56.327503",
     "status": "completed"
    },
    "tags": []
   },
   "outputs": [],
   "source": []
  },
  {
   "cell_type": "code",
   "execution_count": 14,
   "id": "0dda456e",
   "metadata": {
    "execution": {
     "iopub.execute_input": "2023-06-13T13:47:56.422202Z",
     "iopub.status.busy": "2023-06-13T13:47:56.421785Z",
     "iopub.status.idle": "2023-06-13T13:47:56.427105Z",
     "shell.execute_reply": "2023-06-13T13:47:56.426084Z"
    },
    "papermill": {
     "duration": 0.039922,
     "end_time": "2023-06-13T13:47:56.429326",
     "exception": false,
     "start_time": "2023-06-13T13:47:56.389404",
     "status": "completed"
    },
    "tags": []
   },
   "outputs": [],
   "source": [
    "def cat(text):\n",
    "    if text in b:\n",
    "        return \"other\"\n",
    "    else:\n",
    "        return text\n"
   ]
  },
  {
   "cell_type": "code",
   "execution_count": 15,
   "id": "10fa5b38",
   "metadata": {
    "execution": {
     "iopub.execute_input": "2023-06-13T13:47:56.495743Z",
     "iopub.status.busy": "2023-06-13T13:47:56.495325Z",
     "iopub.status.idle": "2023-06-13T13:47:56.538380Z",
     "shell.execute_reply": "2023-06-13T13:47:56.537096Z"
    },
    "papermill": {
     "duration": 0.079734,
     "end_time": "2023-06-13T13:47:56.541003",
     "exception": false,
     "start_time": "2023-06-13T13:47:56.461269",
     "status": "completed"
    },
    "tags": []
   },
   "outputs": [
    {
     "name": "stderr",
     "output_type": "stream",
     "text": [
      "/tmp/ipykernel_20/3870558296.py:1: SettingWithCopyWarning: \n",
      "A value is trying to be set on a copy of a slice from a DataFrame.\n",
      "Try using .loc[row_indexer,col_indexer] = value instead\n",
      "\n",
      "See the caveats in the documentation: https://pandas.pydata.org/pandas-docs/stable/user_guide/indexing.html#returning-a-view-versus-a-copy\n",
      "  df1[\"Lead Source\"]=df1[\"Lead Source\"].apply(cat)\n"
     ]
    }
   ],
   "source": [
    "df1[\"Lead Source\"]=df1[\"Lead Source\"].apply(cat)"
   ]
  },
  {
   "cell_type": "code",
   "execution_count": 16,
   "id": "44b1b492",
   "metadata": {
    "execution": {
     "iopub.execute_input": "2023-06-13T13:47:56.606238Z",
     "iopub.status.busy": "2023-06-13T13:47:56.605817Z",
     "iopub.status.idle": "2023-06-13T13:47:56.615969Z",
     "shell.execute_reply": "2023-06-13T13:47:56.614835Z"
    },
    "papermill": {
     "duration": 0.045691,
     "end_time": "2023-06-13T13:47:56.618202",
     "exception": false,
     "start_time": "2023-06-13T13:47:56.572511",
     "status": "completed"
    },
    "tags": []
   },
   "outputs": [
    {
     "data": {
      "text/plain": [
       "Google              2868\n",
       "Direct Traffic      2543\n",
       "Olark Chat          1755\n",
       "Organic Search      1154\n",
       "Reference            534\n",
       "Welingak Website     142\n",
       "Referral Sites       125\n",
       "Facebook              55\n",
       "other                 28\n",
       "Name: Lead Source, dtype: int64"
      ]
     },
     "execution_count": 16,
     "metadata": {},
     "output_type": "execute_result"
    }
   ],
   "source": [
    "df1[\"Lead Source\"].value_counts() "
   ]
  },
  {
   "cell_type": "code",
   "execution_count": 17,
   "id": "10cf6085",
   "metadata": {
    "execution": {
     "iopub.execute_input": "2023-06-13T13:47:56.682568Z",
     "iopub.status.busy": "2023-06-13T13:47:56.682147Z",
     "iopub.status.idle": "2023-06-13T13:47:56.691478Z",
     "shell.execute_reply": "2023-06-13T13:47:56.690298Z"
    },
    "papermill": {
     "duration": 0.044125,
     "end_time": "2023-06-13T13:47:56.693694",
     "exception": false,
     "start_time": "2023-06-13T13:47:56.649569",
     "status": "completed"
    },
    "tags": []
   },
   "outputs": [
    {
     "name": "stderr",
     "output_type": "stream",
     "text": [
      "/tmp/ipykernel_20/613665431.py:1: SettingWithCopyWarning: \n",
      "A value is trying to be set on a copy of a slice from a DataFrame.\n",
      "Try using .loc[row_indexer,col_indexer] = value instead\n",
      "\n",
      "See the caveats in the documentation: https://pandas.pydata.org/pandas-docs/stable/user_guide/indexing.html#returning-a-view-versus-a-copy\n",
      "  df1[\"Lead Source\"]=label_encoder.fit_transform(df1['Lead Source'])\n"
     ]
    }
   ],
   "source": [
    "df1[\"Lead Source\"]=label_encoder.fit_transform(df1['Lead Source'])\n"
   ]
  },
  {
   "cell_type": "code",
   "execution_count": 18,
   "id": "4486fe9e",
   "metadata": {
    "execution": {
     "iopub.execute_input": "2023-06-13T13:47:56.758566Z",
     "iopub.status.busy": "2023-06-13T13:47:56.758133Z",
     "iopub.status.idle": "2023-06-13T13:47:56.766155Z",
     "shell.execute_reply": "2023-06-13T13:47:56.765409Z"
    },
    "papermill": {
     "duration": 0.042905,
     "end_time": "2023-06-13T13:47:56.768238",
     "exception": false,
     "start_time": "2023-06-13T13:47:56.725333",
     "status": "completed"
    },
    "tags": []
   },
   "outputs": [
    {
     "data": {
      "text/plain": [
       "0       3\n",
       "1       4\n",
       "2       0\n",
       "3       0\n",
       "4       2\n",
       "       ..\n",
       "9235    0\n",
       "9236    0\n",
       "9237    0\n",
       "9238    2\n",
       "9239    0\n",
       "Name: Lead Source, Length: 9239, dtype: int64"
      ]
     },
     "execution_count": 18,
     "metadata": {},
     "output_type": "execute_result"
    }
   ],
   "source": [
    "df1[\"Lead Source\"]"
   ]
  },
  {
   "cell_type": "code",
   "execution_count": 19,
   "id": "009cd83e",
   "metadata": {
    "execution": {
     "iopub.execute_input": "2023-06-13T13:47:56.833873Z",
     "iopub.status.busy": "2023-06-13T13:47:56.833465Z",
     "iopub.status.idle": "2023-06-13T13:47:56.843117Z",
     "shell.execute_reply": "2023-06-13T13:47:56.841920Z"
    },
    "papermill": {
     "duration": 0.045052,
     "end_time": "2023-06-13T13:47:56.845537",
     "exception": false,
     "start_time": "2023-06-13T13:47:56.800485",
     "status": "completed"
    },
    "tags": []
   },
   "outputs": [],
   "source": [
    "df1=df1.drop(\"Get updates on DM Content\",axis=1)"
   ]
  },
  {
   "cell_type": "code",
   "execution_count": 20,
   "id": "acd560b3",
   "metadata": {
    "execution": {
     "iopub.execute_input": "2023-06-13T13:47:56.912014Z",
     "iopub.status.busy": "2023-06-13T13:47:56.911229Z",
     "iopub.status.idle": "2023-06-13T13:47:56.920676Z",
     "shell.execute_reply": "2023-06-13T13:47:56.919599Z"
    },
    "papermill": {
     "duration": 0.045533,
     "end_time": "2023-06-13T13:47:56.923144",
     "exception": false,
     "start_time": "2023-06-13T13:47:56.877611",
     "status": "completed"
    },
    "tags": []
   },
   "outputs": [],
   "source": [
    "df1=df1.drop(\"Update me on Supply Chain Content\",axis=1)"
   ]
  },
  {
   "cell_type": "code",
   "execution_count": 21,
   "id": "7cdcbc68",
   "metadata": {
    "execution": {
     "iopub.execute_input": "2023-06-13T13:47:56.988605Z",
     "iopub.status.busy": "2023-06-13T13:47:56.988195Z",
     "iopub.status.idle": "2023-06-13T13:47:57.029790Z",
     "shell.execute_reply": "2023-06-13T13:47:57.028175Z"
    },
    "papermill": {
     "duration": 0.077503,
     "end_time": "2023-06-13T13:47:57.032423",
     "exception": false,
     "start_time": "2023-06-13T13:47:56.954920",
     "status": "completed"
    },
    "tags": []
   },
   "outputs": [
    {
     "data": {
      "text/html": [
       "<div>\n",
       "<style scoped>\n",
       "    .dataframe tbody tr th:only-of-type {\n",
       "        vertical-align: middle;\n",
       "    }\n",
       "\n",
       "    .dataframe tbody tr th {\n",
       "        vertical-align: top;\n",
       "    }\n",
       "\n",
       "    .dataframe thead th {\n",
       "        text-align: right;\n",
       "    }\n",
       "</style>\n",
       "<table border=\"1\" class=\"dataframe\">\n",
       "  <thead>\n",
       "    <tr style=\"text-align: right;\">\n",
       "      <th></th>\n",
       "      <th>Prospect ID</th>\n",
       "      <th>Lead Number</th>\n",
       "      <th>Lead Origin</th>\n",
       "      <th>Lead Source</th>\n",
       "      <th>Do Not Email</th>\n",
       "      <th>Do Not Call</th>\n",
       "      <th>Converted</th>\n",
       "      <th>TotalVisits</th>\n",
       "      <th>Total Time Spent on Website</th>\n",
       "      <th>Page Views Per Visit</th>\n",
       "      <th>...</th>\n",
       "      <th>Lead Quality</th>\n",
       "      <th>Lead Profile</th>\n",
       "      <th>City</th>\n",
       "      <th>Asymmetrique Activity Index</th>\n",
       "      <th>Asymmetrique Profile Index</th>\n",
       "      <th>Asymmetrique Activity Score</th>\n",
       "      <th>Asymmetrique Profile Score</th>\n",
       "      <th>I agree to pay the amount through cheque</th>\n",
       "      <th>A free copy of Mastering The Interview</th>\n",
       "      <th>Last Notable Activity</th>\n",
       "    </tr>\n",
       "  </thead>\n",
       "  <tbody>\n",
       "    <tr>\n",
       "      <th>0</th>\n",
       "      <td>7927b2df-8bba-4d29-b9a2-b6e0beafe620</td>\n",
       "      <td>660737</td>\n",
       "      <td>0</td>\n",
       "      <td>3</td>\n",
       "      <td>No</td>\n",
       "      <td>No</td>\n",
       "      <td>0</td>\n",
       "      <td>0.0</td>\n",
       "      <td>0</td>\n",
       "      <td>0.00</td>\n",
       "      <td>...</td>\n",
       "      <td>Low in Relevance</td>\n",
       "      <td>Select</td>\n",
       "      <td>Select</td>\n",
       "      <td>02.Medium</td>\n",
       "      <td>02.Medium</td>\n",
       "      <td>15.0</td>\n",
       "      <td>15.0</td>\n",
       "      <td>No</td>\n",
       "      <td>No</td>\n",
       "      <td>Modified</td>\n",
       "    </tr>\n",
       "    <tr>\n",
       "      <th>1</th>\n",
       "      <td>2a272436-5132-4136-86fa-dcc88c88f482</td>\n",
       "      <td>660728</td>\n",
       "      <td>0</td>\n",
       "      <td>4</td>\n",
       "      <td>No</td>\n",
       "      <td>No</td>\n",
       "      <td>0</td>\n",
       "      <td>5.0</td>\n",
       "      <td>674</td>\n",
       "      <td>2.50</td>\n",
       "      <td>...</td>\n",
       "      <td>NaN</td>\n",
       "      <td>Select</td>\n",
       "      <td>Select</td>\n",
       "      <td>02.Medium</td>\n",
       "      <td>02.Medium</td>\n",
       "      <td>15.0</td>\n",
       "      <td>15.0</td>\n",
       "      <td>No</td>\n",
       "      <td>No</td>\n",
       "      <td>Email Opened</td>\n",
       "    </tr>\n",
       "    <tr>\n",
       "      <th>2</th>\n",
       "      <td>8cc8c611-a219-4f35-ad23-fdfd2656bd8a</td>\n",
       "      <td>660727</td>\n",
       "      <td>1</td>\n",
       "      <td>0</td>\n",
       "      <td>No</td>\n",
       "      <td>No</td>\n",
       "      <td>1</td>\n",
       "      <td>2.0</td>\n",
       "      <td>1532</td>\n",
       "      <td>2.00</td>\n",
       "      <td>...</td>\n",
       "      <td>Might be</td>\n",
       "      <td>Potential Lead</td>\n",
       "      <td>Mumbai</td>\n",
       "      <td>02.Medium</td>\n",
       "      <td>01.High</td>\n",
       "      <td>14.0</td>\n",
       "      <td>20.0</td>\n",
       "      <td>No</td>\n",
       "      <td>Yes</td>\n",
       "      <td>Email Opened</td>\n",
       "    </tr>\n",
       "    <tr>\n",
       "      <th>3</th>\n",
       "      <td>0cc2df48-7cf4-4e39-9de9-19797f9b38cc</td>\n",
       "      <td>660719</td>\n",
       "      <td>1</td>\n",
       "      <td>0</td>\n",
       "      <td>No</td>\n",
       "      <td>No</td>\n",
       "      <td>0</td>\n",
       "      <td>1.0</td>\n",
       "      <td>305</td>\n",
       "      <td>1.00</td>\n",
       "      <td>...</td>\n",
       "      <td>Not Sure</td>\n",
       "      <td>Select</td>\n",
       "      <td>Mumbai</td>\n",
       "      <td>02.Medium</td>\n",
       "      <td>01.High</td>\n",
       "      <td>13.0</td>\n",
       "      <td>17.0</td>\n",
       "      <td>No</td>\n",
       "      <td>No</td>\n",
       "      <td>Modified</td>\n",
       "    </tr>\n",
       "    <tr>\n",
       "      <th>4</th>\n",
       "      <td>3256f628-e534-4826-9d63-4a8b88782852</td>\n",
       "      <td>660681</td>\n",
       "      <td>1</td>\n",
       "      <td>2</td>\n",
       "      <td>No</td>\n",
       "      <td>No</td>\n",
       "      <td>1</td>\n",
       "      <td>2.0</td>\n",
       "      <td>1428</td>\n",
       "      <td>1.00</td>\n",
       "      <td>...</td>\n",
       "      <td>Might be</td>\n",
       "      <td>Select</td>\n",
       "      <td>Mumbai</td>\n",
       "      <td>02.Medium</td>\n",
       "      <td>01.High</td>\n",
       "      <td>15.0</td>\n",
       "      <td>18.0</td>\n",
       "      <td>No</td>\n",
       "      <td>No</td>\n",
       "      <td>Modified</td>\n",
       "    </tr>\n",
       "    <tr>\n",
       "      <th>...</th>\n",
       "      <td>...</td>\n",
       "      <td>...</td>\n",
       "      <td>...</td>\n",
       "      <td>...</td>\n",
       "      <td>...</td>\n",
       "      <td>...</td>\n",
       "      <td>...</td>\n",
       "      <td>...</td>\n",
       "      <td>...</td>\n",
       "      <td>...</td>\n",
       "      <td>...</td>\n",
       "      <td>...</td>\n",
       "      <td>...</td>\n",
       "      <td>...</td>\n",
       "      <td>...</td>\n",
       "      <td>...</td>\n",
       "      <td>...</td>\n",
       "      <td>...</td>\n",
       "      <td>...</td>\n",
       "      <td>...</td>\n",
       "      <td>...</td>\n",
       "    </tr>\n",
       "    <tr>\n",
       "      <th>9235</th>\n",
       "      <td>19d6451e-fcd6-407c-b83b-48e1af805ea9</td>\n",
       "      <td>579564</td>\n",
       "      <td>1</td>\n",
       "      <td>0</td>\n",
       "      <td>Yes</td>\n",
       "      <td>No</td>\n",
       "      <td>1</td>\n",
       "      <td>8.0</td>\n",
       "      <td>1845</td>\n",
       "      <td>2.67</td>\n",
       "      <td>...</td>\n",
       "      <td>High in Relevance</td>\n",
       "      <td>Potential Lead</td>\n",
       "      <td>Mumbai</td>\n",
       "      <td>02.Medium</td>\n",
       "      <td>01.High</td>\n",
       "      <td>15.0</td>\n",
       "      <td>17.0</td>\n",
       "      <td>No</td>\n",
       "      <td>No</td>\n",
       "      <td>Email Marked Spam</td>\n",
       "    </tr>\n",
       "    <tr>\n",
       "      <th>9236</th>\n",
       "      <td>82a7005b-7196-4d56-95ce-a79f937a158d</td>\n",
       "      <td>579546</td>\n",
       "      <td>1</td>\n",
       "      <td>0</td>\n",
       "      <td>No</td>\n",
       "      <td>No</td>\n",
       "      <td>0</td>\n",
       "      <td>2.0</td>\n",
       "      <td>238</td>\n",
       "      <td>2.00</td>\n",
       "      <td>...</td>\n",
       "      <td>Might be</td>\n",
       "      <td>Potential Lead</td>\n",
       "      <td>Mumbai</td>\n",
       "      <td>02.Medium</td>\n",
       "      <td>01.High</td>\n",
       "      <td>14.0</td>\n",
       "      <td>19.0</td>\n",
       "      <td>No</td>\n",
       "      <td>Yes</td>\n",
       "      <td>SMS Sent</td>\n",
       "    </tr>\n",
       "    <tr>\n",
       "      <th>9237</th>\n",
       "      <td>aac550fe-a586-452d-8d3c-f1b62c94e02c</td>\n",
       "      <td>579545</td>\n",
       "      <td>1</td>\n",
       "      <td>0</td>\n",
       "      <td>Yes</td>\n",
       "      <td>No</td>\n",
       "      <td>0</td>\n",
       "      <td>2.0</td>\n",
       "      <td>199</td>\n",
       "      <td>2.00</td>\n",
       "      <td>...</td>\n",
       "      <td>Not Sure</td>\n",
       "      <td>Potential Lead</td>\n",
       "      <td>Mumbai</td>\n",
       "      <td>02.Medium</td>\n",
       "      <td>01.High</td>\n",
       "      <td>13.0</td>\n",
       "      <td>20.0</td>\n",
       "      <td>No</td>\n",
       "      <td>Yes</td>\n",
       "      <td>SMS Sent</td>\n",
       "    </tr>\n",
       "    <tr>\n",
       "      <th>9238</th>\n",
       "      <td>5330a7d1-2f2b-4df4-85d6-64ca2f6b95b9</td>\n",
       "      <td>579538</td>\n",
       "      <td>1</td>\n",
       "      <td>2</td>\n",
       "      <td>No</td>\n",
       "      <td>No</td>\n",
       "      <td>1</td>\n",
       "      <td>3.0</td>\n",
       "      <td>499</td>\n",
       "      <td>3.00</td>\n",
       "      <td>...</td>\n",
       "      <td>NaN</td>\n",
       "      <td>NaN</td>\n",
       "      <td>Other Metro Cities</td>\n",
       "      <td>02.Medium</td>\n",
       "      <td>02.Medium</td>\n",
       "      <td>15.0</td>\n",
       "      <td>16.0</td>\n",
       "      <td>No</td>\n",
       "      <td>No</td>\n",
       "      <td>SMS Sent</td>\n",
       "    </tr>\n",
       "    <tr>\n",
       "      <th>9239</th>\n",
       "      <td>571b5c8e-a5b2-4d57-8574-f2ffb06fdeff</td>\n",
       "      <td>579533</td>\n",
       "      <td>1</td>\n",
       "      <td>0</td>\n",
       "      <td>No</td>\n",
       "      <td>No</td>\n",
       "      <td>1</td>\n",
       "      <td>6.0</td>\n",
       "      <td>1279</td>\n",
       "      <td>3.00</td>\n",
       "      <td>...</td>\n",
       "      <td>Might be</td>\n",
       "      <td>Potential Lead</td>\n",
       "      <td>Other Cities</td>\n",
       "      <td>02.Medium</td>\n",
       "      <td>01.High</td>\n",
       "      <td>15.0</td>\n",
       "      <td>18.0</td>\n",
       "      <td>No</td>\n",
       "      <td>Yes</td>\n",
       "      <td>Modified</td>\n",
       "    </tr>\n",
       "  </tbody>\n",
       "</table>\n",
       "<p>9239 rows × 35 columns</p>\n",
       "</div>"
      ],
      "text/plain": [
       "                               Prospect ID  Lead Number  Lead Origin  \\\n",
       "0     7927b2df-8bba-4d29-b9a2-b6e0beafe620       660737            0   \n",
       "1     2a272436-5132-4136-86fa-dcc88c88f482       660728            0   \n",
       "2     8cc8c611-a219-4f35-ad23-fdfd2656bd8a       660727            1   \n",
       "3     0cc2df48-7cf4-4e39-9de9-19797f9b38cc       660719            1   \n",
       "4     3256f628-e534-4826-9d63-4a8b88782852       660681            1   \n",
       "...                                    ...          ...          ...   \n",
       "9235  19d6451e-fcd6-407c-b83b-48e1af805ea9       579564            1   \n",
       "9236  82a7005b-7196-4d56-95ce-a79f937a158d       579546            1   \n",
       "9237  aac550fe-a586-452d-8d3c-f1b62c94e02c       579545            1   \n",
       "9238  5330a7d1-2f2b-4df4-85d6-64ca2f6b95b9       579538            1   \n",
       "9239  571b5c8e-a5b2-4d57-8574-f2ffb06fdeff       579533            1   \n",
       "\n",
       "      Lead Source Do Not Email Do Not Call  Converted  TotalVisits  \\\n",
       "0               3           No          No          0          0.0   \n",
       "1               4           No          No          0          5.0   \n",
       "2               0           No          No          1          2.0   \n",
       "3               0           No          No          0          1.0   \n",
       "4               2           No          No          1          2.0   \n",
       "...           ...          ...         ...        ...          ...   \n",
       "9235            0          Yes          No          1          8.0   \n",
       "9236            0           No          No          0          2.0   \n",
       "9237            0          Yes          No          0          2.0   \n",
       "9238            2           No          No          1          3.0   \n",
       "9239            0           No          No          1          6.0   \n",
       "\n",
       "      Total Time Spent on Website  Page Views Per Visit  ...  \\\n",
       "0                               0                  0.00  ...   \n",
       "1                             674                  2.50  ...   \n",
       "2                            1532                  2.00  ...   \n",
       "3                             305                  1.00  ...   \n",
       "4                            1428                  1.00  ...   \n",
       "...                           ...                   ...  ...   \n",
       "9235                         1845                  2.67  ...   \n",
       "9236                          238                  2.00  ...   \n",
       "9237                          199                  2.00  ...   \n",
       "9238                          499                  3.00  ...   \n",
       "9239                         1279                  3.00  ...   \n",
       "\n",
       "           Lead Quality    Lead Profile                City  \\\n",
       "0      Low in Relevance          Select              Select   \n",
       "1                   NaN          Select              Select   \n",
       "2              Might be  Potential Lead              Mumbai   \n",
       "3              Not Sure          Select              Mumbai   \n",
       "4              Might be          Select              Mumbai   \n",
       "...                 ...             ...                 ...   \n",
       "9235  High in Relevance  Potential Lead              Mumbai   \n",
       "9236           Might be  Potential Lead              Mumbai   \n",
       "9237           Not Sure  Potential Lead              Mumbai   \n",
       "9238                NaN             NaN  Other Metro Cities   \n",
       "9239           Might be  Potential Lead        Other Cities   \n",
       "\n",
       "     Asymmetrique Activity Index Asymmetrique Profile Index  \\\n",
       "0                      02.Medium                  02.Medium   \n",
       "1                      02.Medium                  02.Medium   \n",
       "2                      02.Medium                    01.High   \n",
       "3                      02.Medium                    01.High   \n",
       "4                      02.Medium                    01.High   \n",
       "...                          ...                        ...   \n",
       "9235                   02.Medium                    01.High   \n",
       "9236                   02.Medium                    01.High   \n",
       "9237                   02.Medium                    01.High   \n",
       "9238                   02.Medium                  02.Medium   \n",
       "9239                   02.Medium                    01.High   \n",
       "\n",
       "     Asymmetrique Activity Score Asymmetrique Profile Score  \\\n",
       "0                           15.0                       15.0   \n",
       "1                           15.0                       15.0   \n",
       "2                           14.0                       20.0   \n",
       "3                           13.0                       17.0   \n",
       "4                           15.0                       18.0   \n",
       "...                          ...                        ...   \n",
       "9235                        15.0                       17.0   \n",
       "9236                        14.0                       19.0   \n",
       "9237                        13.0                       20.0   \n",
       "9238                        15.0                       16.0   \n",
       "9239                        15.0                       18.0   \n",
       "\n",
       "     I agree to pay the amount through cheque  \\\n",
       "0                                          No   \n",
       "1                                          No   \n",
       "2                                          No   \n",
       "3                                          No   \n",
       "4                                          No   \n",
       "...                                       ...   \n",
       "9235                                       No   \n",
       "9236                                       No   \n",
       "9237                                       No   \n",
       "9238                                       No   \n",
       "9239                                       No   \n",
       "\n",
       "     A free copy of Mastering The Interview Last Notable Activity  \n",
       "0                                        No              Modified  \n",
       "1                                        No          Email Opened  \n",
       "2                                       Yes          Email Opened  \n",
       "3                                        No              Modified  \n",
       "4                                        No              Modified  \n",
       "...                                     ...                   ...  \n",
       "9235                                     No     Email Marked Spam  \n",
       "9236                                    Yes              SMS Sent  \n",
       "9237                                    Yes              SMS Sent  \n",
       "9238                                     No              SMS Sent  \n",
       "9239                                    Yes              Modified  \n",
       "\n",
       "[9239 rows x 35 columns]"
      ]
     },
     "execution_count": 21,
     "metadata": {},
     "output_type": "execute_result"
    }
   ],
   "source": [
    "df1"
   ]
  },
  {
   "cell_type": "code",
   "execution_count": 22,
   "id": "e1030f25",
   "metadata": {
    "execution": {
     "iopub.execute_input": "2023-06-13T13:47:57.100061Z",
     "iopub.status.busy": "2023-06-13T13:47:57.099275Z",
     "iopub.status.idle": "2023-06-13T13:47:57.110313Z",
     "shell.execute_reply": "2023-06-13T13:47:57.109521Z"
    },
    "papermill": {
     "duration": 0.047424,
     "end_time": "2023-06-13T13:47:57.112699",
     "exception": false,
     "start_time": "2023-06-13T13:47:57.065275",
     "status": "completed"
    },
    "tags": []
   },
   "outputs": [],
   "source": [
    "df1[\"Lead Quality\"]=label_encoder.fit_transform(df1[\"Lead Quality\"])"
   ]
  },
  {
   "cell_type": "code",
   "execution_count": 23,
   "id": "23c401ca",
   "metadata": {
    "execution": {
     "iopub.execute_input": "2023-06-13T13:47:57.180627Z",
     "iopub.status.busy": "2023-06-13T13:47:57.179946Z",
     "iopub.status.idle": "2023-06-13T13:47:57.189304Z",
     "shell.execute_reply": "2023-06-13T13:47:57.188448Z"
    },
    "papermill": {
     "duration": 0.045621,
     "end_time": "2023-06-13T13:47:57.191950",
     "exception": false,
     "start_time": "2023-06-13T13:47:57.146329",
     "status": "completed"
    },
    "tags": []
   },
   "outputs": [],
   "source": [
    "df1[\"Lead Profile\"]=df1[\"Lead Profile\"].replace(\"Select\",np.nan)"
   ]
  },
  {
   "cell_type": "code",
   "execution_count": 24,
   "id": "a28743fb",
   "metadata": {
    "execution": {
     "iopub.execute_input": "2023-06-13T13:47:57.260025Z",
     "iopub.status.busy": "2023-06-13T13:47:57.259398Z",
     "iopub.status.idle": "2023-06-13T13:47:57.268155Z",
     "shell.execute_reply": "2023-06-13T13:47:57.267305Z"
    },
    "papermill": {
     "duration": 0.046042,
     "end_time": "2023-06-13T13:47:57.270487",
     "exception": false,
     "start_time": "2023-06-13T13:47:57.224445",
     "status": "completed"
    },
    "tags": []
   },
   "outputs": [],
   "source": [
    "df1[\"Lead Profile\"]=label_encoder.fit_transform(df1[\"Lead Profile\"])"
   ]
  },
  {
   "cell_type": "code",
   "execution_count": 25,
   "id": "b60c0608",
   "metadata": {
    "execution": {
     "iopub.execute_input": "2023-06-13T13:47:57.338434Z",
     "iopub.status.busy": "2023-06-13T13:47:57.337793Z",
     "iopub.status.idle": "2023-06-13T13:47:57.346189Z",
     "shell.execute_reply": "2023-06-13T13:47:57.345411Z"
    },
    "papermill": {
     "duration": 0.04479,
     "end_time": "2023-06-13T13:47:57.348555",
     "exception": false,
     "start_time": "2023-06-13T13:47:57.303765",
     "status": "completed"
    },
    "tags": []
   },
   "outputs": [],
   "source": [
    "df1.City=df1.City.replace(\"Select\",np.nan)"
   ]
  },
  {
   "cell_type": "code",
   "execution_count": 26,
   "id": "551caaab",
   "metadata": {
    "execution": {
     "iopub.execute_input": "2023-06-13T13:47:57.416527Z",
     "iopub.status.busy": "2023-06-13T13:47:57.416121Z",
     "iopub.status.idle": "2023-06-13T13:47:57.425124Z",
     "shell.execute_reply": "2023-06-13T13:47:57.424073Z"
    },
    "papermill": {
     "duration": 0.04615,
     "end_time": "2023-06-13T13:47:57.427323",
     "exception": false,
     "start_time": "2023-06-13T13:47:57.381173",
     "status": "completed"
    },
    "tags": []
   },
   "outputs": [
    {
     "data": {
      "text/plain": [
       "Mumbai                         3222\n",
       "Thane & Outskirts               752\n",
       "Other Cities                    686\n",
       "Other Cities of Maharashtra     457\n",
       "Other Metro Cities              379\n",
       "Tier II Cities                   74\n",
       "Name: City, dtype: int64"
      ]
     },
     "execution_count": 26,
     "metadata": {},
     "output_type": "execute_result"
    }
   ],
   "source": [
    "df1.City.value_counts()"
   ]
  },
  {
   "cell_type": "code",
   "execution_count": 27,
   "id": "64acec03",
   "metadata": {
    "execution": {
     "iopub.execute_input": "2023-06-13T13:47:57.494015Z",
     "iopub.status.busy": "2023-06-13T13:47:57.493385Z",
     "iopub.status.idle": "2023-06-13T13:47:57.502185Z",
     "shell.execute_reply": "2023-06-13T13:47:57.501388Z"
    },
    "papermill": {
     "duration": 0.04482,
     "end_time": "2023-06-13T13:47:57.504438",
     "exception": false,
     "start_time": "2023-06-13T13:47:57.459618",
     "status": "completed"
    },
    "tags": []
   },
   "outputs": [],
   "source": [
    "df1.City=label_encoder.fit_transform(df1[\"City\"])"
   ]
  },
  {
   "cell_type": "code",
   "execution_count": 28,
   "id": "f7c5303b",
   "metadata": {
    "execution": {
     "iopub.execute_input": "2023-06-13T13:47:57.571948Z",
     "iopub.status.busy": "2023-06-13T13:47:57.570843Z",
     "iopub.status.idle": "2023-06-13T13:47:57.609695Z",
     "shell.execute_reply": "2023-06-13T13:47:57.608633Z"
    },
    "papermill": {
     "duration": 0.075087,
     "end_time": "2023-06-13T13:47:57.612183",
     "exception": false,
     "start_time": "2023-06-13T13:47:57.537096",
     "status": "completed"
    },
    "tags": []
   },
   "outputs": [
    {
     "data": {
      "text/html": [
       "<div>\n",
       "<style scoped>\n",
       "    .dataframe tbody tr th:only-of-type {\n",
       "        vertical-align: middle;\n",
       "    }\n",
       "\n",
       "    .dataframe tbody tr th {\n",
       "        vertical-align: top;\n",
       "    }\n",
       "\n",
       "    .dataframe thead th {\n",
       "        text-align: right;\n",
       "    }\n",
       "</style>\n",
       "<table border=\"1\" class=\"dataframe\">\n",
       "  <thead>\n",
       "    <tr style=\"text-align: right;\">\n",
       "      <th></th>\n",
       "      <th>Prospect ID</th>\n",
       "      <th>Lead Number</th>\n",
       "      <th>Lead Origin</th>\n",
       "      <th>Lead Source</th>\n",
       "      <th>Do Not Email</th>\n",
       "      <th>Do Not Call</th>\n",
       "      <th>Converted</th>\n",
       "      <th>TotalVisits</th>\n",
       "      <th>Total Time Spent on Website</th>\n",
       "      <th>Page Views Per Visit</th>\n",
       "      <th>...</th>\n",
       "      <th>Lead Quality</th>\n",
       "      <th>Lead Profile</th>\n",
       "      <th>City</th>\n",
       "      <th>Asymmetrique Activity Index</th>\n",
       "      <th>Asymmetrique Profile Index</th>\n",
       "      <th>Asymmetrique Activity Score</th>\n",
       "      <th>Asymmetrique Profile Score</th>\n",
       "      <th>I agree to pay the amount through cheque</th>\n",
       "      <th>A free copy of Mastering The Interview</th>\n",
       "      <th>Last Notable Activity</th>\n",
       "    </tr>\n",
       "  </thead>\n",
       "  <tbody>\n",
       "    <tr>\n",
       "      <th>0</th>\n",
       "      <td>7927b2df-8bba-4d29-b9a2-b6e0beafe620</td>\n",
       "      <td>660737</td>\n",
       "      <td>0</td>\n",
       "      <td>3</td>\n",
       "      <td>No</td>\n",
       "      <td>No</td>\n",
       "      <td>0</td>\n",
       "      <td>0.0</td>\n",
       "      <td>0</td>\n",
       "      <td>0.00</td>\n",
       "      <td>...</td>\n",
       "      <td>1</td>\n",
       "      <td>5</td>\n",
       "      <td>6</td>\n",
       "      <td>02.Medium</td>\n",
       "      <td>02.Medium</td>\n",
       "      <td>15.0</td>\n",
       "      <td>15.0</td>\n",
       "      <td>No</td>\n",
       "      <td>No</td>\n",
       "      <td>Modified</td>\n",
       "    </tr>\n",
       "    <tr>\n",
       "      <th>1</th>\n",
       "      <td>2a272436-5132-4136-86fa-dcc88c88f482</td>\n",
       "      <td>660728</td>\n",
       "      <td>0</td>\n",
       "      <td>4</td>\n",
       "      <td>No</td>\n",
       "      <td>No</td>\n",
       "      <td>0</td>\n",
       "      <td>5.0</td>\n",
       "      <td>674</td>\n",
       "      <td>2.50</td>\n",
       "      <td>...</td>\n",
       "      <td>5</td>\n",
       "      <td>5</td>\n",
       "      <td>6</td>\n",
       "      <td>02.Medium</td>\n",
       "      <td>02.Medium</td>\n",
       "      <td>15.0</td>\n",
       "      <td>15.0</td>\n",
       "      <td>No</td>\n",
       "      <td>No</td>\n",
       "      <td>Email Opened</td>\n",
       "    </tr>\n",
       "    <tr>\n",
       "      <th>2</th>\n",
       "      <td>8cc8c611-a219-4f35-ad23-fdfd2656bd8a</td>\n",
       "      <td>660727</td>\n",
       "      <td>1</td>\n",
       "      <td>0</td>\n",
       "      <td>No</td>\n",
       "      <td>No</td>\n",
       "      <td>1</td>\n",
       "      <td>2.0</td>\n",
       "      <td>1532</td>\n",
       "      <td>2.00</td>\n",
       "      <td>...</td>\n",
       "      <td>2</td>\n",
       "      <td>3</td>\n",
       "      <td>0</td>\n",
       "      <td>02.Medium</td>\n",
       "      <td>01.High</td>\n",
       "      <td>14.0</td>\n",
       "      <td>20.0</td>\n",
       "      <td>No</td>\n",
       "      <td>Yes</td>\n",
       "      <td>Email Opened</td>\n",
       "    </tr>\n",
       "    <tr>\n",
       "      <th>3</th>\n",
       "      <td>0cc2df48-7cf4-4e39-9de9-19797f9b38cc</td>\n",
       "      <td>660719</td>\n",
       "      <td>1</td>\n",
       "      <td>0</td>\n",
       "      <td>No</td>\n",
       "      <td>No</td>\n",
       "      <td>0</td>\n",
       "      <td>1.0</td>\n",
       "      <td>305</td>\n",
       "      <td>1.00</td>\n",
       "      <td>...</td>\n",
       "      <td>3</td>\n",
       "      <td>5</td>\n",
       "      <td>0</td>\n",
       "      <td>02.Medium</td>\n",
       "      <td>01.High</td>\n",
       "      <td>13.0</td>\n",
       "      <td>17.0</td>\n",
       "      <td>No</td>\n",
       "      <td>No</td>\n",
       "      <td>Modified</td>\n",
       "    </tr>\n",
       "    <tr>\n",
       "      <th>4</th>\n",
       "      <td>3256f628-e534-4826-9d63-4a8b88782852</td>\n",
       "      <td>660681</td>\n",
       "      <td>1</td>\n",
       "      <td>2</td>\n",
       "      <td>No</td>\n",
       "      <td>No</td>\n",
       "      <td>1</td>\n",
       "      <td>2.0</td>\n",
       "      <td>1428</td>\n",
       "      <td>1.00</td>\n",
       "      <td>...</td>\n",
       "      <td>2</td>\n",
       "      <td>5</td>\n",
       "      <td>0</td>\n",
       "      <td>02.Medium</td>\n",
       "      <td>01.High</td>\n",
       "      <td>15.0</td>\n",
       "      <td>18.0</td>\n",
       "      <td>No</td>\n",
       "      <td>No</td>\n",
       "      <td>Modified</td>\n",
       "    </tr>\n",
       "    <tr>\n",
       "      <th>...</th>\n",
       "      <td>...</td>\n",
       "      <td>...</td>\n",
       "      <td>...</td>\n",
       "      <td>...</td>\n",
       "      <td>...</td>\n",
       "      <td>...</td>\n",
       "      <td>...</td>\n",
       "      <td>...</td>\n",
       "      <td>...</td>\n",
       "      <td>...</td>\n",
       "      <td>...</td>\n",
       "      <td>...</td>\n",
       "      <td>...</td>\n",
       "      <td>...</td>\n",
       "      <td>...</td>\n",
       "      <td>...</td>\n",
       "      <td>...</td>\n",
       "      <td>...</td>\n",
       "      <td>...</td>\n",
       "      <td>...</td>\n",
       "      <td>...</td>\n",
       "    </tr>\n",
       "    <tr>\n",
       "      <th>9235</th>\n",
       "      <td>19d6451e-fcd6-407c-b83b-48e1af805ea9</td>\n",
       "      <td>579564</td>\n",
       "      <td>1</td>\n",
       "      <td>0</td>\n",
       "      <td>Yes</td>\n",
       "      <td>No</td>\n",
       "      <td>1</td>\n",
       "      <td>8.0</td>\n",
       "      <td>1845</td>\n",
       "      <td>2.67</td>\n",
       "      <td>...</td>\n",
       "      <td>0</td>\n",
       "      <td>3</td>\n",
       "      <td>0</td>\n",
       "      <td>02.Medium</td>\n",
       "      <td>01.High</td>\n",
       "      <td>15.0</td>\n",
       "      <td>17.0</td>\n",
       "      <td>No</td>\n",
       "      <td>No</td>\n",
       "      <td>Email Marked Spam</td>\n",
       "    </tr>\n",
       "    <tr>\n",
       "      <th>9236</th>\n",
       "      <td>82a7005b-7196-4d56-95ce-a79f937a158d</td>\n",
       "      <td>579546</td>\n",
       "      <td>1</td>\n",
       "      <td>0</td>\n",
       "      <td>No</td>\n",
       "      <td>No</td>\n",
       "      <td>0</td>\n",
       "      <td>2.0</td>\n",
       "      <td>238</td>\n",
       "      <td>2.00</td>\n",
       "      <td>...</td>\n",
       "      <td>2</td>\n",
       "      <td>3</td>\n",
       "      <td>0</td>\n",
       "      <td>02.Medium</td>\n",
       "      <td>01.High</td>\n",
       "      <td>14.0</td>\n",
       "      <td>19.0</td>\n",
       "      <td>No</td>\n",
       "      <td>Yes</td>\n",
       "      <td>SMS Sent</td>\n",
       "    </tr>\n",
       "    <tr>\n",
       "      <th>9237</th>\n",
       "      <td>aac550fe-a586-452d-8d3c-f1b62c94e02c</td>\n",
       "      <td>579545</td>\n",
       "      <td>1</td>\n",
       "      <td>0</td>\n",
       "      <td>Yes</td>\n",
       "      <td>No</td>\n",
       "      <td>0</td>\n",
       "      <td>2.0</td>\n",
       "      <td>199</td>\n",
       "      <td>2.00</td>\n",
       "      <td>...</td>\n",
       "      <td>3</td>\n",
       "      <td>3</td>\n",
       "      <td>0</td>\n",
       "      <td>02.Medium</td>\n",
       "      <td>01.High</td>\n",
       "      <td>13.0</td>\n",
       "      <td>20.0</td>\n",
       "      <td>No</td>\n",
       "      <td>Yes</td>\n",
       "      <td>SMS Sent</td>\n",
       "    </tr>\n",
       "    <tr>\n",
       "      <th>9238</th>\n",
       "      <td>5330a7d1-2f2b-4df4-85d6-64ca2f6b95b9</td>\n",
       "      <td>579538</td>\n",
       "      <td>1</td>\n",
       "      <td>2</td>\n",
       "      <td>No</td>\n",
       "      <td>No</td>\n",
       "      <td>1</td>\n",
       "      <td>3.0</td>\n",
       "      <td>499</td>\n",
       "      <td>3.00</td>\n",
       "      <td>...</td>\n",
       "      <td>5</td>\n",
       "      <td>5</td>\n",
       "      <td>3</td>\n",
       "      <td>02.Medium</td>\n",
       "      <td>02.Medium</td>\n",
       "      <td>15.0</td>\n",
       "      <td>16.0</td>\n",
       "      <td>No</td>\n",
       "      <td>No</td>\n",
       "      <td>SMS Sent</td>\n",
       "    </tr>\n",
       "    <tr>\n",
       "      <th>9239</th>\n",
       "      <td>571b5c8e-a5b2-4d57-8574-f2ffb06fdeff</td>\n",
       "      <td>579533</td>\n",
       "      <td>1</td>\n",
       "      <td>0</td>\n",
       "      <td>No</td>\n",
       "      <td>No</td>\n",
       "      <td>1</td>\n",
       "      <td>6.0</td>\n",
       "      <td>1279</td>\n",
       "      <td>3.00</td>\n",
       "      <td>...</td>\n",
       "      <td>2</td>\n",
       "      <td>3</td>\n",
       "      <td>1</td>\n",
       "      <td>02.Medium</td>\n",
       "      <td>01.High</td>\n",
       "      <td>15.0</td>\n",
       "      <td>18.0</td>\n",
       "      <td>No</td>\n",
       "      <td>Yes</td>\n",
       "      <td>Modified</td>\n",
       "    </tr>\n",
       "  </tbody>\n",
       "</table>\n",
       "<p>9239 rows × 35 columns</p>\n",
       "</div>"
      ],
      "text/plain": [
       "                               Prospect ID  Lead Number  Lead Origin  \\\n",
       "0     7927b2df-8bba-4d29-b9a2-b6e0beafe620       660737            0   \n",
       "1     2a272436-5132-4136-86fa-dcc88c88f482       660728            0   \n",
       "2     8cc8c611-a219-4f35-ad23-fdfd2656bd8a       660727            1   \n",
       "3     0cc2df48-7cf4-4e39-9de9-19797f9b38cc       660719            1   \n",
       "4     3256f628-e534-4826-9d63-4a8b88782852       660681            1   \n",
       "...                                    ...          ...          ...   \n",
       "9235  19d6451e-fcd6-407c-b83b-48e1af805ea9       579564            1   \n",
       "9236  82a7005b-7196-4d56-95ce-a79f937a158d       579546            1   \n",
       "9237  aac550fe-a586-452d-8d3c-f1b62c94e02c       579545            1   \n",
       "9238  5330a7d1-2f2b-4df4-85d6-64ca2f6b95b9       579538            1   \n",
       "9239  571b5c8e-a5b2-4d57-8574-f2ffb06fdeff       579533            1   \n",
       "\n",
       "      Lead Source Do Not Email Do Not Call  Converted  TotalVisits  \\\n",
       "0               3           No          No          0          0.0   \n",
       "1               4           No          No          0          5.0   \n",
       "2               0           No          No          1          2.0   \n",
       "3               0           No          No          0          1.0   \n",
       "4               2           No          No          1          2.0   \n",
       "...           ...          ...         ...        ...          ...   \n",
       "9235            0          Yes          No          1          8.0   \n",
       "9236            0           No          No          0          2.0   \n",
       "9237            0          Yes          No          0          2.0   \n",
       "9238            2           No          No          1          3.0   \n",
       "9239            0           No          No          1          6.0   \n",
       "\n",
       "      Total Time Spent on Website  Page Views Per Visit  ... Lead Quality  \\\n",
       "0                               0                  0.00  ...            1   \n",
       "1                             674                  2.50  ...            5   \n",
       "2                            1532                  2.00  ...            2   \n",
       "3                             305                  1.00  ...            3   \n",
       "4                            1428                  1.00  ...            2   \n",
       "...                           ...                   ...  ...          ...   \n",
       "9235                         1845                  2.67  ...            0   \n",
       "9236                          238                  2.00  ...            2   \n",
       "9237                          199                  2.00  ...            3   \n",
       "9238                          499                  3.00  ...            5   \n",
       "9239                         1279                  3.00  ...            2   \n",
       "\n",
       "     Lead Profile City Asymmetrique Activity Index Asymmetrique Profile Index  \\\n",
       "0               5    6                   02.Medium                  02.Medium   \n",
       "1               5    6                   02.Medium                  02.Medium   \n",
       "2               3    0                   02.Medium                    01.High   \n",
       "3               5    0                   02.Medium                    01.High   \n",
       "4               5    0                   02.Medium                    01.High   \n",
       "...           ...  ...                         ...                        ...   \n",
       "9235            3    0                   02.Medium                    01.High   \n",
       "9236            3    0                   02.Medium                    01.High   \n",
       "9237            3    0                   02.Medium                    01.High   \n",
       "9238            5    3                   02.Medium                  02.Medium   \n",
       "9239            3    1                   02.Medium                    01.High   \n",
       "\n",
       "     Asymmetrique Activity Score Asymmetrique Profile Score  \\\n",
       "0                           15.0                       15.0   \n",
       "1                           15.0                       15.0   \n",
       "2                           14.0                       20.0   \n",
       "3                           13.0                       17.0   \n",
       "4                           15.0                       18.0   \n",
       "...                          ...                        ...   \n",
       "9235                        15.0                       17.0   \n",
       "9236                        14.0                       19.0   \n",
       "9237                        13.0                       20.0   \n",
       "9238                        15.0                       16.0   \n",
       "9239                        15.0                       18.0   \n",
       "\n",
       "     I agree to pay the amount through cheque  \\\n",
       "0                                          No   \n",
       "1                                          No   \n",
       "2                                          No   \n",
       "3                                          No   \n",
       "4                                          No   \n",
       "...                                       ...   \n",
       "9235                                       No   \n",
       "9236                                       No   \n",
       "9237                                       No   \n",
       "9238                                       No   \n",
       "9239                                       No   \n",
       "\n",
       "     A free copy of Mastering The Interview Last Notable Activity  \n",
       "0                                        No              Modified  \n",
       "1                                        No          Email Opened  \n",
       "2                                       Yes          Email Opened  \n",
       "3                                        No              Modified  \n",
       "4                                        No              Modified  \n",
       "...                                     ...                   ...  \n",
       "9235                                     No     Email Marked Spam  \n",
       "9236                                    Yes              SMS Sent  \n",
       "9237                                    Yes              SMS Sent  \n",
       "9238                                     No              SMS Sent  \n",
       "9239                                    Yes              Modified  \n",
       "\n",
       "[9239 rows x 35 columns]"
      ]
     },
     "execution_count": 28,
     "metadata": {},
     "output_type": "execute_result"
    }
   ],
   "source": [
    "df1"
   ]
  },
  {
   "cell_type": "code",
   "execution_count": 29,
   "id": "4b94ecfd",
   "metadata": {
    "execution": {
     "iopub.execute_input": "2023-06-13T13:47:57.680212Z",
     "iopub.status.busy": "2023-06-13T13:47:57.679802Z",
     "iopub.status.idle": "2023-06-13T13:47:57.699813Z",
     "shell.execute_reply": "2023-06-13T13:47:57.698638Z"
    },
    "papermill": {
     "duration": 0.05697,
     "end_time": "2023-06-13T13:47:57.702311",
     "exception": false,
     "start_time": "2023-06-13T13:47:57.645341",
     "status": "completed"
    },
    "tags": []
   },
   "outputs": [],
   "source": [
    "df1[\"Asymmetrique Activity Index\"]=df1[\"Asymmetrique Activity Index\"].str.split(\".\").str.get(1)\n"
   ]
  },
  {
   "cell_type": "code",
   "execution_count": 30,
   "id": "f46c0e98",
   "metadata": {
    "execution": {
     "iopub.execute_input": "2023-06-13T13:47:57.772532Z",
     "iopub.status.busy": "2023-06-13T13:47:57.771758Z",
     "iopub.status.idle": "2023-06-13T13:47:57.781551Z",
     "shell.execute_reply": "2023-06-13T13:47:57.780383Z"
    },
    "papermill": {
     "duration": 0.048096,
     "end_time": "2023-06-13T13:47:57.784399",
     "exception": false,
     "start_time": "2023-06-13T13:47:57.736303",
     "status": "completed"
    },
    "tags": []
   },
   "outputs": [],
   "source": [
    "df1[\"Asymmetrique Activity Index\"]=label_encoder.fit_transform(df1[\"Asymmetrique Activity Index\"])"
   ]
  },
  {
   "cell_type": "code",
   "execution_count": 31,
   "id": "5db3c95c",
   "metadata": {
    "execution": {
     "iopub.execute_input": "2023-06-13T13:47:57.853154Z",
     "iopub.status.busy": "2023-06-13T13:47:57.852744Z",
     "iopub.status.idle": "2023-06-13T13:47:57.870226Z",
     "shell.execute_reply": "2023-06-13T13:47:57.869291Z"
    },
    "papermill": {
     "duration": 0.054752,
     "end_time": "2023-06-13T13:47:57.872597",
     "exception": false,
     "start_time": "2023-06-13T13:47:57.817845",
     "status": "completed"
    },
    "tags": []
   },
   "outputs": [],
   "source": [
    "df1[\"Asymmetrique Profile Index\"]=df1[\"Asymmetrique Profile Index\"].str.split(\".\").str.get(1)"
   ]
  },
  {
   "cell_type": "code",
   "execution_count": 32,
   "id": "9dfb18b2",
   "metadata": {
    "execution": {
     "iopub.execute_input": "2023-06-13T13:47:57.942632Z",
     "iopub.status.busy": "2023-06-13T13:47:57.942214Z",
     "iopub.status.idle": "2023-06-13T13:47:57.951803Z",
     "shell.execute_reply": "2023-06-13T13:47:57.950951Z"
    },
    "papermill": {
     "duration": 0.047918,
     "end_time": "2023-06-13T13:47:57.954214",
     "exception": false,
     "start_time": "2023-06-13T13:47:57.906296",
     "status": "completed"
    },
    "tags": []
   },
   "outputs": [],
   "source": [
    "df1[\"Asymmetrique Profile Index\"]=label_encoder.fit_transform(df1[\"Asymmetrique Profile Index\"])"
   ]
  },
  {
   "cell_type": "code",
   "execution_count": 33,
   "id": "623b47f1",
   "metadata": {
    "execution": {
     "iopub.execute_input": "2023-06-13T13:47:58.023313Z",
     "iopub.status.busy": "2023-06-13T13:47:58.022364Z",
     "iopub.status.idle": "2023-06-13T13:47:58.030321Z",
     "shell.execute_reply": "2023-06-13T13:47:58.029545Z"
    },
    "papermill": {
     "duration": 0.045171,
     "end_time": "2023-06-13T13:47:58.032820",
     "exception": false,
     "start_time": "2023-06-13T13:47:57.987649",
     "status": "completed"
    },
    "tags": []
   },
   "outputs": [],
   "source": [
    "df1=df1.drop(\"I agree to pay the amount through cheque\",axis=1)"
   ]
  },
  {
   "cell_type": "code",
   "execution_count": 34,
   "id": "44091c52",
   "metadata": {
    "execution": {
     "iopub.execute_input": "2023-06-13T13:47:58.101553Z",
     "iopub.status.busy": "2023-06-13T13:47:58.100848Z",
     "iopub.status.idle": "2023-06-13T13:47:58.111962Z",
     "shell.execute_reply": "2023-06-13T13:47:58.110978Z"
    },
    "papermill": {
     "duration": 0.048815,
     "end_time": "2023-06-13T13:47:58.115093",
     "exception": false,
     "start_time": "2023-06-13T13:47:58.066278",
     "status": "completed"
    },
    "tags": []
   },
   "outputs": [],
   "source": [
    "df1[\"A free copy of Mastering The Interview\"]=label_encoder.fit_transform(df1[\"A free copy of Mastering The Interview\"])"
   ]
  },
  {
   "cell_type": "code",
   "execution_count": 35,
   "id": "85340383",
   "metadata": {
    "execution": {
     "iopub.execute_input": "2023-06-13T13:47:58.185166Z",
     "iopub.status.busy": "2023-06-13T13:47:58.184478Z",
     "iopub.status.idle": "2023-06-13T13:47:58.193684Z",
     "shell.execute_reply": "2023-06-13T13:47:58.192926Z"
    },
    "papermill": {
     "duration": 0.046061,
     "end_time": "2023-06-13T13:47:58.195844",
     "exception": false,
     "start_time": "2023-06-13T13:47:58.149783",
     "status": "completed"
    },
    "tags": []
   },
   "outputs": [
    {
     "data": {
      "text/plain": [
       "Modified                        3406\n",
       "Email Opened                    2827\n",
       "SMS Sent                        2172\n",
       "Page Visited on Website          318\n",
       "Olark Chat Conversation          183\n",
       "Email Link Clicked               173\n",
       "Email Bounced                     60\n",
       "Unsubscribed                      47\n",
       "Unreachable                       32\n",
       "Had a Phone Conversation          14\n",
       "Email Marked Spam                  2\n",
       "Approached upfront                 1\n",
       "Resubscribed to emails             1\n",
       "View in browser link Clicked       1\n",
       "Form Submitted on Website          1\n",
       "Email Received                     1\n",
       "Name: Last Notable Activity, dtype: int64"
      ]
     },
     "execution_count": 35,
     "metadata": {},
     "output_type": "execute_result"
    }
   ],
   "source": [
    "df1[\"Last Notable Activity\"].value_counts()"
   ]
  },
  {
   "cell_type": "code",
   "execution_count": 36,
   "id": "815b489f",
   "metadata": {
    "execution": {
     "iopub.execute_input": "2023-06-13T13:47:58.265501Z",
     "iopub.status.busy": "2023-06-13T13:47:58.265078Z",
     "iopub.status.idle": "2023-06-13T13:47:58.277471Z",
     "shell.execute_reply": "2023-06-13T13:47:58.276409Z"
    },
    "papermill": {
     "duration": 0.050016,
     "end_time": "2023-06-13T13:47:58.279696",
     "exception": false,
     "start_time": "2023-06-13T13:47:58.229680",
     "status": "completed"
    },
    "tags": []
   },
   "outputs": [
    {
     "data": {
      "text/plain": [
       "0    128\n",
       "1     45\n",
       "Name: Converted, dtype: int64"
      ]
     },
     "execution_count": 36,
     "metadata": {},
     "output_type": "execute_result"
    }
   ],
   "source": [
    "df1[df1[\"Last Notable Activity\"]==\"Email Link Clicked\"][\"Converted\"].value_counts()"
   ]
  },
  {
   "cell_type": "code",
   "execution_count": 37,
   "id": "73901c2f",
   "metadata": {
    "execution": {
     "iopub.execute_input": "2023-06-13T13:47:58.349334Z",
     "iopub.status.busy": "2023-06-13T13:47:58.348619Z",
     "iopub.status.idle": "2023-06-13T13:47:58.356685Z",
     "shell.execute_reply": "2023-06-13T13:47:58.355457Z"
    },
    "papermill": {
     "duration": 0.045466,
     "end_time": "2023-06-13T13:47:58.359106",
     "exception": false,
     "start_time": "2023-06-13T13:47:58.313640",
     "status": "completed"
    },
    "tags": []
   },
   "outputs": [
    {
     "data": {
      "text/plain": [
       "0    5679\n",
       "1    3560\n",
       "Name: Converted, dtype: int64"
      ]
     },
     "execution_count": 37,
     "metadata": {},
     "output_type": "execute_result"
    }
   ],
   "source": [
    "df1.Converted.value_counts()"
   ]
  },
  {
   "cell_type": "code",
   "execution_count": 38,
   "id": "030cee3a",
   "metadata": {
    "execution": {
     "iopub.execute_input": "2023-06-13T13:47:58.428658Z",
     "iopub.status.busy": "2023-06-13T13:47:58.428229Z",
     "iopub.status.idle": "2023-06-13T13:47:58.438258Z",
     "shell.execute_reply": "2023-06-13T13:47:58.437418Z"
    },
    "papermill": {
     "duration": 0.047173,
     "end_time": "2023-06-13T13:47:58.440630",
     "exception": false,
     "start_time": "2023-06-13T13:47:58.393457",
     "status": "completed"
    },
    "tags": []
   },
   "outputs": [
    {
     "data": {
      "text/plain": [
       "Index(['Email Bounced', 'Unsubscribed', 'Unreachable',\n",
       "       'Had a Phone Conversation', 'Email Marked Spam', 'Approached upfront',\n",
       "       'Resubscribed to emails', 'View in browser link Clicked',\n",
       "       'Form Submitted on Website', 'Email Received'],\n",
       "      dtype='object')"
      ]
     },
     "execution_count": 38,
     "metadata": {},
     "output_type": "execute_result"
    }
   ],
   "source": [
    "a=df1[\"Last Notable Activity\"].value_counts()\n",
    "b=a[a<61]\n",
    "b.index"
   ]
  },
  {
   "cell_type": "code",
   "execution_count": 39,
   "id": "b1e4bc0f",
   "metadata": {
    "execution": {
     "iopub.execute_input": "2023-06-13T13:47:58.511378Z",
     "iopub.status.busy": "2023-06-13T13:47:58.510722Z",
     "iopub.status.idle": "2023-06-13T13:47:58.515385Z",
     "shell.execute_reply": "2023-06-13T13:47:58.514420Z"
    },
    "papermill": {
     "duration": 0.042413,
     "end_time": "2023-06-13T13:47:58.517569",
     "exception": false,
     "start_time": "2023-06-13T13:47:58.475156",
     "status": "completed"
    },
    "tags": []
   },
   "outputs": [],
   "source": [
    "def cat1(text):\n",
    "    if text in b:\n",
    "        return \"other activities\"\n",
    "    else:\n",
    "        return text"
   ]
  },
  {
   "cell_type": "code",
   "execution_count": 40,
   "id": "cd76aee3",
   "metadata": {
    "execution": {
     "iopub.execute_input": "2023-06-13T13:47:58.587893Z",
     "iopub.status.busy": "2023-06-13T13:47:58.587516Z",
     "iopub.status.idle": "2023-06-13T13:47:58.628563Z",
     "shell.execute_reply": "2023-06-13T13:47:58.627712Z"
    },
    "papermill": {
     "duration": 0.079463,
     "end_time": "2023-06-13T13:47:58.630968",
     "exception": false,
     "start_time": "2023-06-13T13:47:58.551505",
     "status": "completed"
    },
    "tags": []
   },
   "outputs": [],
   "source": [
    "df1[\"Last Notable Activity\"]=df1[\"Last Notable Activity\"].apply(cat1)"
   ]
  },
  {
   "cell_type": "code",
   "execution_count": 41,
   "id": "85e08cc4",
   "metadata": {
    "execution": {
     "iopub.execute_input": "2023-06-13T13:47:58.701975Z",
     "iopub.status.busy": "2023-06-13T13:47:58.700849Z",
     "iopub.status.idle": "2023-06-13T13:47:58.709867Z",
     "shell.execute_reply": "2023-06-13T13:47:58.708739Z"
    },
    "papermill": {
     "duration": 0.047366,
     "end_time": "2023-06-13T13:47:58.712217",
     "exception": false,
     "start_time": "2023-06-13T13:47:58.664851",
     "status": "completed"
    },
    "tags": []
   },
   "outputs": [],
   "source": [
    "df1[\"Last Notable Activity\"]=label_encoder.fit_transform(df1[\"Last Notable Activity\"])"
   ]
  },
  {
   "cell_type": "code",
   "execution_count": 42,
   "id": "8941f751",
   "metadata": {
    "execution": {
     "iopub.execute_input": "2023-06-13T13:47:58.783908Z",
     "iopub.status.busy": "2023-06-13T13:47:58.783497Z",
     "iopub.status.idle": "2023-06-13T13:47:58.792016Z",
     "shell.execute_reply": "2023-06-13T13:47:58.791148Z"
    },
    "papermill": {
     "duration": 0.047131,
     "end_time": "2023-06-13T13:47:58.794230",
     "exception": false,
     "start_time": "2023-06-13T13:47:58.747099",
     "status": "completed"
    },
    "tags": []
   },
   "outputs": [],
   "source": [
    "df1=df1.drop(\"Do Not Call\",axis=1)"
   ]
  },
  {
   "cell_type": "code",
   "execution_count": 43,
   "id": "e60f1aab",
   "metadata": {
    "execution": {
     "iopub.execute_input": "2023-06-13T13:47:58.863638Z",
     "iopub.status.busy": "2023-06-13T13:47:58.863213Z",
     "iopub.status.idle": "2023-06-13T13:47:58.873811Z",
     "shell.execute_reply": "2023-06-13T13:47:58.872673Z"
    },
    "papermill": {
     "duration": 0.048325,
     "end_time": "2023-06-13T13:47:58.876427",
     "exception": false,
     "start_time": "2023-06-13T13:47:58.828102",
     "status": "completed"
    },
    "tags": []
   },
   "outputs": [],
   "source": [
    "df1[\"Do Not Email\"]=label_encoder.fit_transform(df1[\"Do Not Email\"])"
   ]
  },
  {
   "cell_type": "code",
   "execution_count": 44,
   "id": "f8c13125",
   "metadata": {
    "execution": {
     "iopub.execute_input": "2023-06-13T13:47:58.946707Z",
     "iopub.status.busy": "2023-06-13T13:47:58.946294Z",
     "iopub.status.idle": "2023-06-13T13:47:58.956499Z",
     "shell.execute_reply": "2023-06-13T13:47:58.955632Z"
    },
    "papermill": {
     "duration": 0.047706,
     "end_time": "2023-06-13T13:47:58.958661",
     "exception": false,
     "start_time": "2023-06-13T13:47:58.910955",
     "status": "completed"
    },
    "tags": []
   },
   "outputs": [
    {
     "data": {
      "text/plain": [
       "Index(['Approached upfront', 'View in browser link Clicked', 'Email Received',\n",
       "       'Email Marked Spam', 'Visited Booth in Tradeshow',\n",
       "       'Resubscribed to emails'],\n",
       "      dtype='object')"
      ]
     },
     "execution_count": 44,
     "metadata": {},
     "output_type": "execute_result"
    }
   ],
   "source": [
    "a=df1[\"Last Activity\"].value_counts()\n",
    "b=a[a<10]\n",
    "b.index"
   ]
  },
  {
   "cell_type": "code",
   "execution_count": 45,
   "id": "a3c9c6a0",
   "metadata": {
    "execution": {
     "iopub.execute_input": "2023-06-13T13:47:59.029829Z",
     "iopub.status.busy": "2023-06-13T13:47:59.029184Z",
     "iopub.status.idle": "2023-06-13T13:47:59.034372Z",
     "shell.execute_reply": "2023-06-13T13:47:59.033617Z"
    },
    "papermill": {
     "duration": 0.043917,
     "end_time": "2023-06-13T13:47:59.036511",
     "exception": false,
     "start_time": "2023-06-13T13:47:58.992594",
     "status": "completed"
    },
    "tags": []
   },
   "outputs": [],
   "source": [
    "def cat(text):\n",
    "    if text in b:\n",
    "        return \"other activities\"\n",
    "    else:\n",
    "        return text\n"
   ]
  },
  {
   "cell_type": "code",
   "execution_count": 46,
   "id": "23c916da",
   "metadata": {
    "execution": {
     "iopub.execute_input": "2023-06-13T13:47:59.106790Z",
     "iopub.status.busy": "2023-06-13T13:47:59.106119Z",
     "iopub.status.idle": "2023-06-13T13:47:59.143850Z",
     "shell.execute_reply": "2023-06-13T13:47:59.142969Z"
    },
    "papermill": {
     "duration": 0.076019,
     "end_time": "2023-06-13T13:47:59.146318",
     "exception": false,
     "start_time": "2023-06-13T13:47:59.070299",
     "status": "completed"
    },
    "tags": []
   },
   "outputs": [],
   "source": [
    "df1[\"Last Activity\"]=df1[\"Last Activity\"].apply(cat)"
   ]
  },
  {
   "cell_type": "code",
   "execution_count": 47,
   "id": "685b4d3b",
   "metadata": {
    "execution": {
     "iopub.execute_input": "2023-06-13T13:47:59.216053Z",
     "iopub.status.busy": "2023-06-13T13:47:59.215435Z",
     "iopub.status.idle": "2023-06-13T13:47:59.223949Z",
     "shell.execute_reply": "2023-06-13T13:47:59.223078Z"
    },
    "papermill": {
     "duration": 0.046198,
     "end_time": "2023-06-13T13:47:59.226373",
     "exception": false,
     "start_time": "2023-06-13T13:47:59.180175",
     "status": "completed"
    },
    "tags": []
   },
   "outputs": [],
   "source": [
    "df1[\"Last Activity\"]=label_encoder.fit_transform(df1[\"Last Activity\"])"
   ]
  },
  {
   "cell_type": "code",
   "execution_count": 48,
   "id": "e29323e9",
   "metadata": {
    "execution": {
     "iopub.execute_input": "2023-06-13T13:47:59.296662Z",
     "iopub.status.busy": "2023-06-13T13:47:59.296237Z",
     "iopub.status.idle": "2023-06-13T13:47:59.340179Z",
     "shell.execute_reply": "2023-06-13T13:47:59.338945Z"
    },
    "papermill": {
     "duration": 0.082277,
     "end_time": "2023-06-13T13:47:59.342841",
     "exception": false,
     "start_time": "2023-06-13T13:47:59.260564",
     "status": "completed"
    },
    "tags": []
   },
   "outputs": [
    {
     "data": {
      "text/html": [
       "<div>\n",
       "<style scoped>\n",
       "    .dataframe tbody tr th:only-of-type {\n",
       "        vertical-align: middle;\n",
       "    }\n",
       "\n",
       "    .dataframe tbody tr th {\n",
       "        vertical-align: top;\n",
       "    }\n",
       "\n",
       "    .dataframe thead th {\n",
       "        text-align: right;\n",
       "    }\n",
       "</style>\n",
       "<table border=\"1\" class=\"dataframe\">\n",
       "  <thead>\n",
       "    <tr style=\"text-align: right;\">\n",
       "      <th></th>\n",
       "      <th>Prospect ID</th>\n",
       "      <th>Lead Number</th>\n",
       "      <th>Lead Origin</th>\n",
       "      <th>Lead Source</th>\n",
       "      <th>Do Not Email</th>\n",
       "      <th>Converted</th>\n",
       "      <th>TotalVisits</th>\n",
       "      <th>Total Time Spent on Website</th>\n",
       "      <th>Page Views Per Visit</th>\n",
       "      <th>Last Activity</th>\n",
       "      <th>Country</th>\n",
       "      <th>Specialization</th>\n",
       "      <th>How did you hear about X Education</th>\n",
       "      <th>What is your current occupation</th>\n",
       "      <th>What matters most to you in choosing a course</th>\n",
       "      <th>Search</th>\n",
       "      <th>Magazine</th>\n",
       "      <th>Newspaper Article</th>\n",
       "      <th>X Education Forums</th>\n",
       "      <th>Newspaper</th>\n",
       "      <th>Digital Advertisement</th>\n",
       "      <th>Through Recommendations</th>\n",
       "      <th>Receive More Updates About Our Courses</th>\n",
       "      <th>Tags</th>\n",
       "      <th>Lead Quality</th>\n",
       "      <th>Lead Profile</th>\n",
       "      <th>City</th>\n",
       "      <th>Asymmetrique Activity Index</th>\n",
       "      <th>Asymmetrique Profile Index</th>\n",
       "      <th>Asymmetrique Activity Score</th>\n",
       "      <th>Asymmetrique Profile Score</th>\n",
       "      <th>A free copy of Mastering The Interview</th>\n",
       "      <th>Last Notable Activity</th>\n",
       "    </tr>\n",
       "  </thead>\n",
       "  <tbody>\n",
       "    <tr>\n",
       "      <th>0</th>\n",
       "      <td>7927b2df-8bba-4d29-b9a2-b6e0beafe620</td>\n",
       "      <td>660737</td>\n",
       "      <td>0</td>\n",
       "      <td>3</td>\n",
       "      <td>0</td>\n",
       "      <td>0</td>\n",
       "      <td>0.0</td>\n",
       "      <td>0</td>\n",
       "      <td>0.00</td>\n",
       "      <td>7</td>\n",
       "      <td>NaN</td>\n",
       "      <td>Select</td>\n",
       "      <td>Select</td>\n",
       "      <td>Unemployed</td>\n",
       "      <td>Better Career Prospects</td>\n",
       "      <td>No</td>\n",
       "      <td>No</td>\n",
       "      <td>No</td>\n",
       "      <td>No</td>\n",
       "      <td>No</td>\n",
       "      <td>No</td>\n",
       "      <td>No</td>\n",
       "      <td>No</td>\n",
       "      <td>Interested in other courses</td>\n",
       "      <td>1</td>\n",
       "      <td>5</td>\n",
       "      <td>6</td>\n",
       "      <td>2</td>\n",
       "      <td>2</td>\n",
       "      <td>15.0</td>\n",
       "      <td>15.0</td>\n",
       "      <td>0</td>\n",
       "      <td>2</td>\n",
       "    </tr>\n",
       "    <tr>\n",
       "      <th>1</th>\n",
       "      <td>2a272436-5132-4136-86fa-dcc88c88f482</td>\n",
       "      <td>660728</td>\n",
       "      <td>0</td>\n",
       "      <td>4</td>\n",
       "      <td>0</td>\n",
       "      <td>0</td>\n",
       "      <td>5.0</td>\n",
       "      <td>674</td>\n",
       "      <td>2.50</td>\n",
       "      <td>3</td>\n",
       "      <td>India</td>\n",
       "      <td>Select</td>\n",
       "      <td>Select</td>\n",
       "      <td>Unemployed</td>\n",
       "      <td>Better Career Prospects</td>\n",
       "      <td>No</td>\n",
       "      <td>No</td>\n",
       "      <td>No</td>\n",
       "      <td>No</td>\n",
       "      <td>No</td>\n",
       "      <td>No</td>\n",
       "      <td>No</td>\n",
       "      <td>No</td>\n",
       "      <td>Ringing</td>\n",
       "      <td>5</td>\n",
       "      <td>5</td>\n",
       "      <td>6</td>\n",
       "      <td>2</td>\n",
       "      <td>2</td>\n",
       "      <td>15.0</td>\n",
       "      <td>15.0</td>\n",
       "      <td>0</td>\n",
       "      <td>1</td>\n",
       "    </tr>\n",
       "    <tr>\n",
       "      <th>2</th>\n",
       "      <td>8cc8c611-a219-4f35-ad23-fdfd2656bd8a</td>\n",
       "      <td>660727</td>\n",
       "      <td>1</td>\n",
       "      <td>0</td>\n",
       "      <td>0</td>\n",
       "      <td>1</td>\n",
       "      <td>2.0</td>\n",
       "      <td>1532</td>\n",
       "      <td>2.00</td>\n",
       "      <td>3</td>\n",
       "      <td>India</td>\n",
       "      <td>Business Administration</td>\n",
       "      <td>Select</td>\n",
       "      <td>Student</td>\n",
       "      <td>Better Career Prospects</td>\n",
       "      <td>No</td>\n",
       "      <td>No</td>\n",
       "      <td>No</td>\n",
       "      <td>No</td>\n",
       "      <td>No</td>\n",
       "      <td>No</td>\n",
       "      <td>No</td>\n",
       "      <td>No</td>\n",
       "      <td>Will revert after reading the email</td>\n",
       "      <td>2</td>\n",
       "      <td>3</td>\n",
       "      <td>0</td>\n",
       "      <td>2</td>\n",
       "      <td>0</td>\n",
       "      <td>14.0</td>\n",
       "      <td>20.0</td>\n",
       "      <td>1</td>\n",
       "      <td>1</td>\n",
       "    </tr>\n",
       "    <tr>\n",
       "      <th>3</th>\n",
       "      <td>0cc2df48-7cf4-4e39-9de9-19797f9b38cc</td>\n",
       "      <td>660719</td>\n",
       "      <td>1</td>\n",
       "      <td>0</td>\n",
       "      <td>0</td>\n",
       "      <td>0</td>\n",
       "      <td>1.0</td>\n",
       "      <td>305</td>\n",
       "      <td>1.00</td>\n",
       "      <td>9</td>\n",
       "      <td>India</td>\n",
       "      <td>Media and Advertising</td>\n",
       "      <td>Word Of Mouth</td>\n",
       "      <td>Unemployed</td>\n",
       "      <td>Better Career Prospects</td>\n",
       "      <td>No</td>\n",
       "      <td>No</td>\n",
       "      <td>No</td>\n",
       "      <td>No</td>\n",
       "      <td>No</td>\n",
       "      <td>No</td>\n",
       "      <td>No</td>\n",
       "      <td>No</td>\n",
       "      <td>Ringing</td>\n",
       "      <td>3</td>\n",
       "      <td>5</td>\n",
       "      <td>0</td>\n",
       "      <td>2</td>\n",
       "      <td>0</td>\n",
       "      <td>13.0</td>\n",
       "      <td>17.0</td>\n",
       "      <td>0</td>\n",
       "      <td>2</td>\n",
       "    </tr>\n",
       "    <tr>\n",
       "      <th>4</th>\n",
       "      <td>3256f628-e534-4826-9d63-4a8b88782852</td>\n",
       "      <td>660681</td>\n",
       "      <td>1</td>\n",
       "      <td>2</td>\n",
       "      <td>0</td>\n",
       "      <td>1</td>\n",
       "      <td>2.0</td>\n",
       "      <td>1428</td>\n",
       "      <td>1.00</td>\n",
       "      <td>0</td>\n",
       "      <td>India</td>\n",
       "      <td>Select</td>\n",
       "      <td>Other</td>\n",
       "      <td>Unemployed</td>\n",
       "      <td>Better Career Prospects</td>\n",
       "      <td>No</td>\n",
       "      <td>No</td>\n",
       "      <td>No</td>\n",
       "      <td>No</td>\n",
       "      <td>No</td>\n",
       "      <td>No</td>\n",
       "      <td>No</td>\n",
       "      <td>No</td>\n",
       "      <td>Will revert after reading the email</td>\n",
       "      <td>2</td>\n",
       "      <td>5</td>\n",
       "      <td>0</td>\n",
       "      <td>2</td>\n",
       "      <td>0</td>\n",
       "      <td>15.0</td>\n",
       "      <td>18.0</td>\n",
       "      <td>0</td>\n",
       "      <td>2</td>\n",
       "    </tr>\n",
       "    <tr>\n",
       "      <th>...</th>\n",
       "      <td>...</td>\n",
       "      <td>...</td>\n",
       "      <td>...</td>\n",
       "      <td>...</td>\n",
       "      <td>...</td>\n",
       "      <td>...</td>\n",
       "      <td>...</td>\n",
       "      <td>...</td>\n",
       "      <td>...</td>\n",
       "      <td>...</td>\n",
       "      <td>...</td>\n",
       "      <td>...</td>\n",
       "      <td>...</td>\n",
       "      <td>...</td>\n",
       "      <td>...</td>\n",
       "      <td>...</td>\n",
       "      <td>...</td>\n",
       "      <td>...</td>\n",
       "      <td>...</td>\n",
       "      <td>...</td>\n",
       "      <td>...</td>\n",
       "      <td>...</td>\n",
       "      <td>...</td>\n",
       "      <td>...</td>\n",
       "      <td>...</td>\n",
       "      <td>...</td>\n",
       "      <td>...</td>\n",
       "      <td>...</td>\n",
       "      <td>...</td>\n",
       "      <td>...</td>\n",
       "      <td>...</td>\n",
       "      <td>...</td>\n",
       "      <td>...</td>\n",
       "    </tr>\n",
       "    <tr>\n",
       "      <th>9235</th>\n",
       "      <td>19d6451e-fcd6-407c-b83b-48e1af805ea9</td>\n",
       "      <td>579564</td>\n",
       "      <td>1</td>\n",
       "      <td>0</td>\n",
       "      <td>1</td>\n",
       "      <td>1</td>\n",
       "      <td>8.0</td>\n",
       "      <td>1845</td>\n",
       "      <td>2.67</td>\n",
       "      <td>11</td>\n",
       "      <td>Saudi Arabia</td>\n",
       "      <td>IT Projects Management</td>\n",
       "      <td>Select</td>\n",
       "      <td>Unemployed</td>\n",
       "      <td>Better Career Prospects</td>\n",
       "      <td>No</td>\n",
       "      <td>No</td>\n",
       "      <td>No</td>\n",
       "      <td>No</td>\n",
       "      <td>No</td>\n",
       "      <td>No</td>\n",
       "      <td>No</td>\n",
       "      <td>No</td>\n",
       "      <td>Will revert after reading the email</td>\n",
       "      <td>0</td>\n",
       "      <td>3</td>\n",
       "      <td>0</td>\n",
       "      <td>2</td>\n",
       "      <td>0</td>\n",
       "      <td>15.0</td>\n",
       "      <td>17.0</td>\n",
       "      <td>0</td>\n",
       "      <td>6</td>\n",
       "    </tr>\n",
       "    <tr>\n",
       "      <th>9236</th>\n",
       "      <td>82a7005b-7196-4d56-95ce-a79f937a158d</td>\n",
       "      <td>579546</td>\n",
       "      <td>1</td>\n",
       "      <td>0</td>\n",
       "      <td>0</td>\n",
       "      <td>0</td>\n",
       "      <td>2.0</td>\n",
       "      <td>238</td>\n",
       "      <td>2.00</td>\n",
       "      <td>8</td>\n",
       "      <td>India</td>\n",
       "      <td>Media and Advertising</td>\n",
       "      <td>Select</td>\n",
       "      <td>Unemployed</td>\n",
       "      <td>Better Career Prospects</td>\n",
       "      <td>No</td>\n",
       "      <td>No</td>\n",
       "      <td>No</td>\n",
       "      <td>No</td>\n",
       "      <td>No</td>\n",
       "      <td>No</td>\n",
       "      <td>No</td>\n",
       "      <td>No</td>\n",
       "      <td>wrong number given</td>\n",
       "      <td>2</td>\n",
       "      <td>3</td>\n",
       "      <td>0</td>\n",
       "      <td>2</td>\n",
       "      <td>0</td>\n",
       "      <td>14.0</td>\n",
       "      <td>19.0</td>\n",
       "      <td>1</td>\n",
       "      <td>5</td>\n",
       "    </tr>\n",
       "    <tr>\n",
       "      <th>9237</th>\n",
       "      <td>aac550fe-a586-452d-8d3c-f1b62c94e02c</td>\n",
       "      <td>579545</td>\n",
       "      <td>1</td>\n",
       "      <td>0</td>\n",
       "      <td>1</td>\n",
       "      <td>0</td>\n",
       "      <td>2.0</td>\n",
       "      <td>199</td>\n",
       "      <td>2.00</td>\n",
       "      <td>8</td>\n",
       "      <td>India</td>\n",
       "      <td>Business Administration</td>\n",
       "      <td>Select</td>\n",
       "      <td>Unemployed</td>\n",
       "      <td>Better Career Prospects</td>\n",
       "      <td>No</td>\n",
       "      <td>No</td>\n",
       "      <td>No</td>\n",
       "      <td>No</td>\n",
       "      <td>No</td>\n",
       "      <td>No</td>\n",
       "      <td>No</td>\n",
       "      <td>No</td>\n",
       "      <td>invalid number</td>\n",
       "      <td>3</td>\n",
       "      <td>3</td>\n",
       "      <td>0</td>\n",
       "      <td>2</td>\n",
       "      <td>0</td>\n",
       "      <td>13.0</td>\n",
       "      <td>20.0</td>\n",
       "      <td>1</td>\n",
       "      <td>5</td>\n",
       "    </tr>\n",
       "    <tr>\n",
       "      <th>9238</th>\n",
       "      <td>5330a7d1-2f2b-4df4-85d6-64ca2f6b95b9</td>\n",
       "      <td>579538</td>\n",
       "      <td>1</td>\n",
       "      <td>2</td>\n",
       "      <td>0</td>\n",
       "      <td>1</td>\n",
       "      <td>3.0</td>\n",
       "      <td>499</td>\n",
       "      <td>3.00</td>\n",
       "      <td>8</td>\n",
       "      <td>India</td>\n",
       "      <td>Human Resource Management</td>\n",
       "      <td>Online Search</td>\n",
       "      <td>NaN</td>\n",
       "      <td>NaN</td>\n",
       "      <td>No</td>\n",
       "      <td>No</td>\n",
       "      <td>No</td>\n",
       "      <td>No</td>\n",
       "      <td>No</td>\n",
       "      <td>No</td>\n",
       "      <td>No</td>\n",
       "      <td>No</td>\n",
       "      <td>NaN</td>\n",
       "      <td>5</td>\n",
       "      <td>5</td>\n",
       "      <td>3</td>\n",
       "      <td>2</td>\n",
       "      <td>2</td>\n",
       "      <td>15.0</td>\n",
       "      <td>16.0</td>\n",
       "      <td>0</td>\n",
       "      <td>5</td>\n",
       "    </tr>\n",
       "    <tr>\n",
       "      <th>9239</th>\n",
       "      <td>571b5c8e-a5b2-4d57-8574-f2ffb06fdeff</td>\n",
       "      <td>579533</td>\n",
       "      <td>1</td>\n",
       "      <td>0</td>\n",
       "      <td>0</td>\n",
       "      <td>1</td>\n",
       "      <td>6.0</td>\n",
       "      <td>1279</td>\n",
       "      <td>3.00</td>\n",
       "      <td>8</td>\n",
       "      <td>Bangladesh</td>\n",
       "      <td>Supply Chain Management</td>\n",
       "      <td>Select</td>\n",
       "      <td>Unemployed</td>\n",
       "      <td>Better Career Prospects</td>\n",
       "      <td>No</td>\n",
       "      <td>No</td>\n",
       "      <td>No</td>\n",
       "      <td>No</td>\n",
       "      <td>No</td>\n",
       "      <td>No</td>\n",
       "      <td>No</td>\n",
       "      <td>No</td>\n",
       "      <td>Will revert after reading the email</td>\n",
       "      <td>2</td>\n",
       "      <td>3</td>\n",
       "      <td>1</td>\n",
       "      <td>2</td>\n",
       "      <td>0</td>\n",
       "      <td>15.0</td>\n",
       "      <td>18.0</td>\n",
       "      <td>1</td>\n",
       "      <td>2</td>\n",
       "    </tr>\n",
       "  </tbody>\n",
       "</table>\n",
       "<p>9239 rows × 33 columns</p>\n",
       "</div>"
      ],
      "text/plain": [
       "                               Prospect ID  Lead Number  Lead Origin  Lead Source  Do Not Email  Converted  TotalVisits  Total Time Spent on Website  Page Views Per Visit  Last Activity       Country             Specialization How did you hear about X Education What is your current occupation What matters most to you in choosing a course Search Magazine Newspaper Article X Education Forums Newspaper Digital Advertisement Through Recommendations Receive More Updates About Our Courses                                 Tags  Lead Quality  Lead Profile  City  Asymmetrique Activity Index  Asymmetrique Profile Index  Asymmetrique Activity Score  Asymmetrique Profile Score  A free copy of Mastering The Interview  Last Notable Activity\n",
       "0     7927b2df-8bba-4d29-b9a2-b6e0beafe620       660737            0            3             0          0          0.0                            0                  0.00              7           NaN                     Select                             Select                      Unemployed                       Better Career Prospects     No       No                No                 No        No                    No                      No                                     No          Interested in other courses             1             5     6                            2                           2                         15.0                        15.0                                       0                      2\n",
       "1     2a272436-5132-4136-86fa-dcc88c88f482       660728            0            4             0          0          5.0                          674                  2.50              3         India                     Select                             Select                      Unemployed                       Better Career Prospects     No       No                No                 No        No                    No                      No                                     No                              Ringing             5             5     6                            2                           2                         15.0                        15.0                                       0                      1\n",
       "2     8cc8c611-a219-4f35-ad23-fdfd2656bd8a       660727            1            0             0          1          2.0                         1532                  2.00              3         India    Business Administration                             Select                         Student                       Better Career Prospects     No       No                No                 No        No                    No                      No                                     No  Will revert after reading the email             2             3     0                            2                           0                         14.0                        20.0                                       1                      1\n",
       "3     0cc2df48-7cf4-4e39-9de9-19797f9b38cc       660719            1            0             0          0          1.0                          305                  1.00              9         India      Media and Advertising                      Word Of Mouth                      Unemployed                       Better Career Prospects     No       No                No                 No        No                    No                      No                                     No                              Ringing             3             5     0                            2                           0                         13.0                        17.0                                       0                      2\n",
       "4     3256f628-e534-4826-9d63-4a8b88782852       660681            1            2             0          1          2.0                         1428                  1.00              0         India                     Select                              Other                      Unemployed                       Better Career Prospects     No       No                No                 No        No                    No                      No                                     No  Will revert after reading the email             2             5     0                            2                           0                         15.0                        18.0                                       0                      2\n",
       "...                                    ...          ...          ...          ...           ...        ...          ...                          ...                   ...            ...           ...                        ...                                ...                             ...                                           ...    ...      ...               ...                ...       ...                   ...                     ...                                    ...                                  ...           ...           ...   ...                          ...                         ...                          ...                         ...                                     ...                    ...\n",
       "9235  19d6451e-fcd6-407c-b83b-48e1af805ea9       579564            1            0             1          1          8.0                         1845                  2.67             11  Saudi Arabia     IT Projects Management                             Select                      Unemployed                       Better Career Prospects     No       No                No                 No        No                    No                      No                                     No  Will revert after reading the email             0             3     0                            2                           0                         15.0                        17.0                                       0                      6\n",
       "9236  82a7005b-7196-4d56-95ce-a79f937a158d       579546            1            0             0          0          2.0                          238                  2.00              8         India      Media and Advertising                             Select                      Unemployed                       Better Career Prospects     No       No                No                 No        No                    No                      No                                     No                   wrong number given             2             3     0                            2                           0                         14.0                        19.0                                       1                      5\n",
       "9237  aac550fe-a586-452d-8d3c-f1b62c94e02c       579545            1            0             1          0          2.0                          199                  2.00              8         India    Business Administration                             Select                      Unemployed                       Better Career Prospects     No       No                No                 No        No                    No                      No                                     No                       invalid number             3             3     0                            2                           0                         13.0                        20.0                                       1                      5\n",
       "9238  5330a7d1-2f2b-4df4-85d6-64ca2f6b95b9       579538            1            2             0          1          3.0                          499                  3.00              8         India  Human Resource Management                      Online Search                             NaN                                           NaN     No       No                No                 No        No                    No                      No                                     No                                  NaN             5             5     3                            2                           2                         15.0                        16.0                                       0                      5\n",
       "9239  571b5c8e-a5b2-4d57-8574-f2ffb06fdeff       579533            1            0             0          1          6.0                         1279                  3.00              8    Bangladesh    Supply Chain Management                             Select                      Unemployed                       Better Career Prospects     No       No                No                 No        No                    No                      No                                     No  Will revert after reading the email             2             3     1                            2                           0                         15.0                        18.0                                       1                      2\n",
       "\n",
       "[9239 rows x 33 columns]"
      ]
     },
     "execution_count": 48,
     "metadata": {},
     "output_type": "execute_result"
    }
   ],
   "source": [
    "pd.set_option('display.max_columns', None)\n",
    "pd.set_option('display.expand_frame_repr', False)\n",
    "df1"
   ]
  },
  {
   "cell_type": "code",
   "execution_count": 49,
   "id": "048e84bf",
   "metadata": {
    "execution": {
     "iopub.execute_input": "2023-06-13T13:47:59.414964Z",
     "iopub.status.busy": "2023-06-13T13:47:59.414553Z",
     "iopub.status.idle": "2023-06-13T13:47:59.419888Z",
     "shell.execute_reply": "2023-06-13T13:47:59.418604Z"
    },
    "papermill": {
     "duration": 0.045542,
     "end_time": "2023-06-13T13:47:59.423063",
     "exception": false,
     "start_time": "2023-06-13T13:47:59.377521",
     "status": "completed"
    },
    "tags": []
   },
   "outputs": [],
   "source": [
    "columns=[\"Search\",\"Magazine\",\"Newspaper Article\",\"X Education Forums\",\"Newspaper\",\"Digital Advertisement\",\"Through Recommendations\",\"Receive More Updates About Our Courses\"]"
   ]
  },
  {
   "cell_type": "code",
   "execution_count": 50,
   "id": "5f600daf",
   "metadata": {
    "execution": {
     "iopub.execute_input": "2023-06-13T13:47:59.495783Z",
     "iopub.status.busy": "2023-06-13T13:47:59.495365Z",
     "iopub.status.idle": "2023-06-13T13:47:59.503015Z",
     "shell.execute_reply": "2023-06-13T13:47:59.501877Z"
    },
    "papermill": {
     "duration": 0.046189,
     "end_time": "2023-06-13T13:47:59.505345",
     "exception": false,
     "start_time": "2023-06-13T13:47:59.459156",
     "status": "completed"
    },
    "tags": []
   },
   "outputs": [],
   "source": [
    "df1=df1.drop(columns=columns,axis=1)"
   ]
  },
  {
   "cell_type": "code",
   "execution_count": 51,
   "id": "725f985e",
   "metadata": {
    "execution": {
     "iopub.execute_input": "2023-06-13T13:47:59.577376Z",
     "iopub.status.busy": "2023-06-13T13:47:59.576917Z",
     "iopub.status.idle": "2023-06-13T13:47:59.585121Z",
     "shell.execute_reply": "2023-06-13T13:47:59.583922Z"
    },
    "papermill": {
     "duration": 0.047493,
     "end_time": "2023-06-13T13:47:59.587544",
     "exception": false,
     "start_time": "2023-06-13T13:47:59.540051",
     "status": "completed"
    },
    "tags": []
   },
   "outputs": [],
   "source": [
    "df2=df1.drop(\"Tags\",axis=1)"
   ]
  },
  {
   "cell_type": "code",
   "execution_count": 52,
   "id": "79c68996",
   "metadata": {
    "execution": {
     "iopub.execute_input": "2023-06-13T13:47:59.659503Z",
     "iopub.status.busy": "2023-06-13T13:47:59.659034Z",
     "iopub.status.idle": "2023-06-13T13:47:59.667569Z",
     "shell.execute_reply": "2023-06-13T13:47:59.666423Z"
    },
    "papermill": {
     "duration": 0.047294,
     "end_time": "2023-06-13T13:47:59.669900",
     "exception": false,
     "start_time": "2023-06-13T13:47:59.622606",
     "status": "completed"
    },
    "tags": []
   },
   "outputs": [],
   "source": [
    "df2=df2.drop(\"Country\",axis=1)"
   ]
  },
  {
   "cell_type": "code",
   "execution_count": 53,
   "id": "aa318d90",
   "metadata": {
    "execution": {
     "iopub.execute_input": "2023-06-13T13:47:59.742364Z",
     "iopub.status.busy": "2023-06-13T13:47:59.741920Z",
     "iopub.status.idle": "2023-06-13T13:47:59.751540Z",
     "shell.execute_reply": "2023-06-13T13:47:59.750414Z"
    },
    "papermill": {
     "duration": 0.048514,
     "end_time": "2023-06-13T13:47:59.753825",
     "exception": false,
     "start_time": "2023-06-13T13:47:59.705311",
     "status": "completed"
    },
    "tags": []
   },
   "outputs": [
    {
     "data": {
      "text/plain": [
       "Select                               1942\n",
       "Finance Management                    976\n",
       "Human Resource Management             848\n",
       "Marketing Management                  838\n",
       "Operations Management                 503\n",
       "Business Administration               403\n",
       "IT Projects Management                366\n",
       "Supply Chain Management               349\n",
       "Banking, Investment And Insurance     338\n",
       "Travel and Tourism                    203\n",
       "Media and Advertising                 203\n",
       "International Business                178\n",
       "Healthcare Management                 159\n",
       "Hospitality Management                114\n",
       "E-COMMERCE                            111\n",
       "Retail Management                     100\n",
       "Rural and Agribusiness                 73\n",
       "E-Business                             57\n",
       "Services Excellence                    40\n",
       "Name: Specialization, dtype: int64"
      ]
     },
     "execution_count": 53,
     "metadata": {},
     "output_type": "execute_result"
    }
   ],
   "source": [
    "df2.Specialization.value_counts()\n"
   ]
  },
  {
   "cell_type": "code",
   "execution_count": 54,
   "id": "0de1d959",
   "metadata": {
    "execution": {
     "iopub.execute_input": "2023-06-13T13:47:59.825339Z",
     "iopub.status.busy": "2023-06-13T13:47:59.824920Z",
     "iopub.status.idle": "2023-06-13T13:47:59.832507Z",
     "shell.execute_reply": "2023-06-13T13:47:59.831670Z"
    },
    "papermill": {
     "duration": 0.045913,
     "end_time": "2023-06-13T13:47:59.834675",
     "exception": false,
     "start_time": "2023-06-13T13:47:59.788762",
     "status": "completed"
    },
    "tags": []
   },
   "outputs": [],
   "source": [
    "df2[\"Specialization\"]=df2[\"Specialization\"].replace(\"Select\",\"Not_Specified\")"
   ]
  },
  {
   "cell_type": "code",
   "execution_count": 55,
   "id": "005c8912",
   "metadata": {
    "execution": {
     "iopub.execute_input": "2023-06-13T13:47:59.907206Z",
     "iopub.status.busy": "2023-06-13T13:47:59.906802Z",
     "iopub.status.idle": "2023-06-13T13:47:59.920328Z",
     "shell.execute_reply": "2023-06-13T13:47:59.919111Z"
    },
    "papermill": {
     "duration": 0.053722,
     "end_time": "2023-06-13T13:47:59.923113",
     "exception": false,
     "start_time": "2023-06-13T13:47:59.869391",
     "status": "completed"
    },
    "tags": []
   },
   "outputs": [],
   "source": [
    " df2[\"Specialization\"]=df2['Specialization'].replace(['Finance Management','Human Resource Management',\n",
    "                                                           'Marketing Management','Operations Management',\n",
    "                                                           'IT Projects Management','Supply Chain Management',\n",
    "                                                    'Healthcare Management','Hospitality Management',\n",
    "                                                           'Retail Management'] ,'Management_Specializations') "
   ]
  },
  {
   "cell_type": "code",
   "execution_count": 56,
   "id": "23be03e4",
   "metadata": {
    "execution": {
     "iopub.execute_input": "2023-06-13T13:47:59.996867Z",
     "iopub.status.busy": "2023-06-13T13:47:59.996442Z",
     "iopub.status.idle": "2023-06-13T13:48:00.006134Z",
     "shell.execute_reply": "2023-06-13T13:48:00.004891Z"
    },
    "papermill": {
     "duration": 0.049627,
     "end_time": "2023-06-13T13:48:00.008556",
     "exception": false,
     "start_time": "2023-06-13T13:47:59.958929",
     "status": "completed"
    },
    "tags": []
   },
   "outputs": [],
   "source": [
    "df2[\"Specialization\"]=label_encoder.fit_transform(df2[\"Specialization\"])"
   ]
  },
  {
   "cell_type": "code",
   "execution_count": 57,
   "id": "16c14049",
   "metadata": {
    "execution": {
     "iopub.execute_input": "2023-06-13T13:48:00.081597Z",
     "iopub.status.busy": "2023-06-13T13:48:00.080977Z",
     "iopub.status.idle": "2023-06-13T13:48:00.089043Z",
     "shell.execute_reply": "2023-06-13T13:48:00.087878Z"
    },
    "papermill": {
     "duration": 0.047674,
     "end_time": "2023-06-13T13:48:00.091285",
     "exception": false,
     "start_time": "2023-06-13T13:48:00.043611",
     "status": "completed"
    },
    "tags": []
   },
   "outputs": [],
   "source": [
    "df2[\"How did you hear about X Education\"]=df2[\"How did you hear about X Education\"].replace(\"Select\",\"Not_Specified\")"
   ]
  },
  {
   "cell_type": "code",
   "execution_count": 58,
   "id": "f036a3a1",
   "metadata": {
    "execution": {
     "iopub.execute_input": "2023-06-13T13:48:00.163227Z",
     "iopub.status.busy": "2023-06-13T13:48:00.162780Z",
     "iopub.status.idle": "2023-06-13T13:48:00.172569Z",
     "shell.execute_reply": "2023-06-13T13:48:00.170892Z"
    },
    "papermill": {
     "duration": 0.048915,
     "end_time": "2023-06-13T13:48:00.175070",
     "exception": false,
     "start_time": "2023-06-13T13:48:00.126155",
     "status": "completed"
    },
    "tags": []
   },
   "outputs": [],
   "source": [
    "df2[\"How did you hear about X Education\"]=label_encoder.fit_transform(df2[\"How did you hear about X Education\"])"
   ]
  },
  {
   "cell_type": "code",
   "execution_count": 59,
   "id": "99a6ad7a",
   "metadata": {
    "execution": {
     "iopub.execute_input": "2023-06-13T13:48:00.246724Z",
     "iopub.status.busy": "2023-06-13T13:48:00.246311Z",
     "iopub.status.idle": "2023-06-13T13:48:00.257148Z",
     "shell.execute_reply": "2023-06-13T13:48:00.256040Z"
    },
    "papermill": {
     "duration": 0.049492,
     "end_time": "2023-06-13T13:48:00.259502",
     "exception": false,
     "start_time": "2023-06-13T13:48:00.210010",
     "status": "completed"
    },
    "tags": []
   },
   "outputs": [
    {
     "data": {
      "text/plain": [
       "0       Unemployed\n",
       "1       Unemployed\n",
       "2          Student\n",
       "3       Unemployed\n",
       "4       Unemployed\n",
       "           ...    \n",
       "9235    Unemployed\n",
       "9236    Unemployed\n",
       "9237    Unemployed\n",
       "9238    Unemployed\n",
       "9239    Unemployed\n",
       "Name: What is your current occupation, Length: 9239, dtype: object"
      ]
     },
     "execution_count": 59,
     "metadata": {},
     "output_type": "execute_result"
    }
   ],
   "source": [
    "df2[\"What is your current occupation\"].replace(np.nan,\"Unemployed\")"
   ]
  },
  {
   "cell_type": "code",
   "execution_count": 60,
   "id": "4d1f92d0",
   "metadata": {
    "execution": {
     "iopub.execute_input": "2023-06-13T13:48:00.331759Z",
     "iopub.status.busy": "2023-06-13T13:48:00.331344Z",
     "iopub.status.idle": "2023-06-13T13:48:00.341460Z",
     "shell.execute_reply": "2023-06-13T13:48:00.340307Z"
    },
    "papermill": {
     "duration": 0.048776,
     "end_time": "2023-06-13T13:48:00.343624",
     "exception": false,
     "start_time": "2023-06-13T13:48:00.294848",
     "status": "completed"
    },
    "tags": []
   },
   "outputs": [
    {
     "data": {
      "text/plain": [
       "Unemployed              5599\n",
       "Working Professional     706\n",
       "Student                  210\n",
       "Other                     16\n",
       "Housewife                 10\n",
       "Businessman                8\n",
       "Name: What is your current occupation, dtype: int64"
      ]
     },
     "execution_count": 60,
     "metadata": {},
     "output_type": "execute_result"
    }
   ],
   "source": [
    "df2[\"What is your current occupation\"].value_counts()"
   ]
  },
  {
   "cell_type": "code",
   "execution_count": 61,
   "id": "b7a29df6",
   "metadata": {
    "execution": {
     "iopub.execute_input": "2023-06-13T13:48:00.416202Z",
     "iopub.status.busy": "2023-06-13T13:48:00.415829Z",
     "iopub.status.idle": "2023-06-13T13:48:00.425756Z",
     "shell.execute_reply": "2023-06-13T13:48:00.424576Z"
    },
    "papermill": {
     "duration": 0.048764,
     "end_time": "2023-06-13T13:48:00.428210",
     "exception": false,
     "start_time": "2023-06-13T13:48:00.379446",
     "status": "completed"
    },
    "tags": []
   },
   "outputs": [],
   "source": [
    "df2[\"What is your current occupation\"]=label_encoder.fit_transform(df2[\"What is your current occupation\"])"
   ]
  },
  {
   "cell_type": "code",
   "execution_count": 62,
   "id": "9e4c6f55",
   "metadata": {
    "execution": {
     "iopub.execute_input": "2023-06-13T13:48:00.501932Z",
     "iopub.status.busy": "2023-06-13T13:48:00.501510Z",
     "iopub.status.idle": "2023-06-13T13:48:00.511503Z",
     "shell.execute_reply": "2023-06-13T13:48:00.510262Z"
    },
    "papermill": {
     "duration": 0.049227,
     "end_time": "2023-06-13T13:48:00.514060",
     "exception": false,
     "start_time": "2023-06-13T13:48:00.464833",
     "status": "completed"
    },
    "tags": []
   },
   "outputs": [
    {
     "data": {
      "text/plain": [
       "Better Career Prospects      6527\n",
       "Flexibility & Convenience       2\n",
       "Other                           1\n",
       "Name: What matters most to you in choosing a course, dtype: int64"
      ]
     },
     "execution_count": 62,
     "metadata": {},
     "output_type": "execute_result"
    }
   ],
   "source": [
    "df2[\"What matters most to you in choosing a course\"].value_counts()"
   ]
  },
  {
   "cell_type": "code",
   "execution_count": 63,
   "id": "6207b9df",
   "metadata": {
    "execution": {
     "iopub.execute_input": "2023-06-13T13:48:00.589905Z",
     "iopub.status.busy": "2023-06-13T13:48:00.589501Z",
     "iopub.status.idle": "2023-06-13T13:48:00.596766Z",
     "shell.execute_reply": "2023-06-13T13:48:00.595595Z"
    },
    "papermill": {
     "duration": 0.049045,
     "end_time": "2023-06-13T13:48:00.599336",
     "exception": false,
     "start_time": "2023-06-13T13:48:00.550291",
     "status": "completed"
    },
    "tags": []
   },
   "outputs": [],
   "source": [
    "df2=df2.drop(\"What matters most to you in choosing a course\",axis=1)"
   ]
  },
  {
   "cell_type": "code",
   "execution_count": 64,
   "id": "c97b7af9",
   "metadata": {
    "execution": {
     "iopub.execute_input": "2023-06-13T13:48:00.674884Z",
     "iopub.status.busy": "2023-06-13T13:48:00.674484Z",
     "iopub.status.idle": "2023-06-13T13:48:00.707658Z",
     "shell.execute_reply": "2023-06-13T13:48:00.706424Z"
    },
    "papermill": {
     "duration": 0.073858,
     "end_time": "2023-06-13T13:48:00.710239",
     "exception": false,
     "start_time": "2023-06-13T13:48:00.636381",
     "status": "completed"
    },
    "tags": []
   },
   "outputs": [
    {
     "data": {
      "text/html": [
       "<div>\n",
       "<style scoped>\n",
       "    .dataframe tbody tr th:only-of-type {\n",
       "        vertical-align: middle;\n",
       "    }\n",
       "\n",
       "    .dataframe tbody tr th {\n",
       "        vertical-align: top;\n",
       "    }\n",
       "\n",
       "    .dataframe thead th {\n",
       "        text-align: right;\n",
       "    }\n",
       "</style>\n",
       "<table border=\"1\" class=\"dataframe\">\n",
       "  <thead>\n",
       "    <tr style=\"text-align: right;\">\n",
       "      <th></th>\n",
       "      <th>Prospect ID</th>\n",
       "      <th>Lead Number</th>\n",
       "      <th>Lead Origin</th>\n",
       "      <th>Lead Source</th>\n",
       "      <th>Do Not Email</th>\n",
       "      <th>Converted</th>\n",
       "      <th>TotalVisits</th>\n",
       "      <th>Total Time Spent on Website</th>\n",
       "      <th>Page Views Per Visit</th>\n",
       "      <th>Last Activity</th>\n",
       "      <th>Specialization</th>\n",
       "      <th>How did you hear about X Education</th>\n",
       "      <th>What is your current occupation</th>\n",
       "      <th>Lead Quality</th>\n",
       "      <th>Lead Profile</th>\n",
       "      <th>City</th>\n",
       "      <th>Asymmetrique Activity Index</th>\n",
       "      <th>Asymmetrique Profile Index</th>\n",
       "      <th>Asymmetrique Activity Score</th>\n",
       "      <th>Asymmetrique Profile Score</th>\n",
       "      <th>A free copy of Mastering The Interview</th>\n",
       "      <th>Last Notable Activity</th>\n",
       "    </tr>\n",
       "  </thead>\n",
       "  <tbody>\n",
       "    <tr>\n",
       "      <th>0</th>\n",
       "      <td>7927b2df-8bba-4d29-b9a2-b6e0beafe620</td>\n",
       "      <td>660737</td>\n",
       "      <td>0</td>\n",
       "      <td>3</td>\n",
       "      <td>0</td>\n",
       "      <td>0</td>\n",
       "      <td>0.0</td>\n",
       "      <td>0</td>\n",
       "      <td>0.00</td>\n",
       "      <td>7</td>\n",
       "      <td>7</td>\n",
       "      <td>3</td>\n",
       "      <td>4</td>\n",
       "      <td>1</td>\n",
       "      <td>5</td>\n",
       "      <td>6</td>\n",
       "      <td>2</td>\n",
       "      <td>2</td>\n",
       "      <td>15.0</td>\n",
       "      <td>15.0</td>\n",
       "      <td>0</td>\n",
       "      <td>2</td>\n",
       "    </tr>\n",
       "    <tr>\n",
       "      <th>1</th>\n",
       "      <td>2a272436-5132-4136-86fa-dcc88c88f482</td>\n",
       "      <td>660728</td>\n",
       "      <td>0</td>\n",
       "      <td>4</td>\n",
       "      <td>0</td>\n",
       "      <td>0</td>\n",
       "      <td>5.0</td>\n",
       "      <td>674</td>\n",
       "      <td>2.50</td>\n",
       "      <td>3</td>\n",
       "      <td>7</td>\n",
       "      <td>3</td>\n",
       "      <td>4</td>\n",
       "      <td>5</td>\n",
       "      <td>5</td>\n",
       "      <td>6</td>\n",
       "      <td>2</td>\n",
       "      <td>2</td>\n",
       "      <td>15.0</td>\n",
       "      <td>15.0</td>\n",
       "      <td>0</td>\n",
       "      <td>1</td>\n",
       "    </tr>\n",
       "    <tr>\n",
       "      <th>2</th>\n",
       "      <td>8cc8c611-a219-4f35-ad23-fdfd2656bd8a</td>\n",
       "      <td>660727</td>\n",
       "      <td>1</td>\n",
       "      <td>0</td>\n",
       "      <td>0</td>\n",
       "      <td>1</td>\n",
       "      <td>2.0</td>\n",
       "      <td>1532</td>\n",
       "      <td>2.00</td>\n",
       "      <td>3</td>\n",
       "      <td>1</td>\n",
       "      <td>3</td>\n",
       "      <td>3</td>\n",
       "      <td>2</td>\n",
       "      <td>3</td>\n",
       "      <td>0</td>\n",
       "      <td>2</td>\n",
       "      <td>0</td>\n",
       "      <td>14.0</td>\n",
       "      <td>20.0</td>\n",
       "      <td>1</td>\n",
       "      <td>1</td>\n",
       "    </tr>\n",
       "    <tr>\n",
       "      <th>3</th>\n",
       "      <td>0cc2df48-7cf4-4e39-9de9-19797f9b38cc</td>\n",
       "      <td>660719</td>\n",
       "      <td>1</td>\n",
       "      <td>0</td>\n",
       "      <td>0</td>\n",
       "      <td>0</td>\n",
       "      <td>1.0</td>\n",
       "      <td>305</td>\n",
       "      <td>1.00</td>\n",
       "      <td>9</td>\n",
       "      <td>6</td>\n",
       "      <td>9</td>\n",
       "      <td>4</td>\n",
       "      <td>3</td>\n",
       "      <td>5</td>\n",
       "      <td>0</td>\n",
       "      <td>2</td>\n",
       "      <td>0</td>\n",
       "      <td>13.0</td>\n",
       "      <td>17.0</td>\n",
       "      <td>0</td>\n",
       "      <td>2</td>\n",
       "    </tr>\n",
       "    <tr>\n",
       "      <th>4</th>\n",
       "      <td>3256f628-e534-4826-9d63-4a8b88782852</td>\n",
       "      <td>660681</td>\n",
       "      <td>1</td>\n",
       "      <td>2</td>\n",
       "      <td>0</td>\n",
       "      <td>1</td>\n",
       "      <td>2.0</td>\n",
       "      <td>1428</td>\n",
       "      <td>1.00</td>\n",
       "      <td>0</td>\n",
       "      <td>7</td>\n",
       "      <td>5</td>\n",
       "      <td>4</td>\n",
       "      <td>2</td>\n",
       "      <td>5</td>\n",
       "      <td>0</td>\n",
       "      <td>2</td>\n",
       "      <td>0</td>\n",
       "      <td>15.0</td>\n",
       "      <td>18.0</td>\n",
       "      <td>0</td>\n",
       "      <td>2</td>\n",
       "    </tr>\n",
       "    <tr>\n",
       "      <th>...</th>\n",
       "      <td>...</td>\n",
       "      <td>...</td>\n",
       "      <td>...</td>\n",
       "      <td>...</td>\n",
       "      <td>...</td>\n",
       "      <td>...</td>\n",
       "      <td>...</td>\n",
       "      <td>...</td>\n",
       "      <td>...</td>\n",
       "      <td>...</td>\n",
       "      <td>...</td>\n",
       "      <td>...</td>\n",
       "      <td>...</td>\n",
       "      <td>...</td>\n",
       "      <td>...</td>\n",
       "      <td>...</td>\n",
       "      <td>...</td>\n",
       "      <td>...</td>\n",
       "      <td>...</td>\n",
       "      <td>...</td>\n",
       "      <td>...</td>\n",
       "      <td>...</td>\n",
       "    </tr>\n",
       "    <tr>\n",
       "      <th>9235</th>\n",
       "      <td>19d6451e-fcd6-407c-b83b-48e1af805ea9</td>\n",
       "      <td>579564</td>\n",
       "      <td>1</td>\n",
       "      <td>0</td>\n",
       "      <td>1</td>\n",
       "      <td>1</td>\n",
       "      <td>8.0</td>\n",
       "      <td>1845</td>\n",
       "      <td>2.67</td>\n",
       "      <td>11</td>\n",
       "      <td>5</td>\n",
       "      <td>3</td>\n",
       "      <td>4</td>\n",
       "      <td>0</td>\n",
       "      <td>3</td>\n",
       "      <td>0</td>\n",
       "      <td>2</td>\n",
       "      <td>0</td>\n",
       "      <td>15.0</td>\n",
       "      <td>17.0</td>\n",
       "      <td>0</td>\n",
       "      <td>6</td>\n",
       "    </tr>\n",
       "    <tr>\n",
       "      <th>9236</th>\n",
       "      <td>82a7005b-7196-4d56-95ce-a79f937a158d</td>\n",
       "      <td>579546</td>\n",
       "      <td>1</td>\n",
       "      <td>0</td>\n",
       "      <td>0</td>\n",
       "      <td>0</td>\n",
       "      <td>2.0</td>\n",
       "      <td>238</td>\n",
       "      <td>2.00</td>\n",
       "      <td>8</td>\n",
       "      <td>6</td>\n",
       "      <td>3</td>\n",
       "      <td>4</td>\n",
       "      <td>2</td>\n",
       "      <td>3</td>\n",
       "      <td>0</td>\n",
       "      <td>2</td>\n",
       "      <td>0</td>\n",
       "      <td>14.0</td>\n",
       "      <td>19.0</td>\n",
       "      <td>1</td>\n",
       "      <td>5</td>\n",
       "    </tr>\n",
       "    <tr>\n",
       "      <th>9237</th>\n",
       "      <td>aac550fe-a586-452d-8d3c-f1b62c94e02c</td>\n",
       "      <td>579545</td>\n",
       "      <td>1</td>\n",
       "      <td>0</td>\n",
       "      <td>1</td>\n",
       "      <td>0</td>\n",
       "      <td>2.0</td>\n",
       "      <td>199</td>\n",
       "      <td>2.00</td>\n",
       "      <td>8</td>\n",
       "      <td>1</td>\n",
       "      <td>3</td>\n",
       "      <td>4</td>\n",
       "      <td>3</td>\n",
       "      <td>3</td>\n",
       "      <td>0</td>\n",
       "      <td>2</td>\n",
       "      <td>0</td>\n",
       "      <td>13.0</td>\n",
       "      <td>20.0</td>\n",
       "      <td>1</td>\n",
       "      <td>5</td>\n",
       "    </tr>\n",
       "    <tr>\n",
       "      <th>9238</th>\n",
       "      <td>5330a7d1-2f2b-4df4-85d6-64ca2f6b95b9</td>\n",
       "      <td>579538</td>\n",
       "      <td>1</td>\n",
       "      <td>2</td>\n",
       "      <td>0</td>\n",
       "      <td>1</td>\n",
       "      <td>3.0</td>\n",
       "      <td>499</td>\n",
       "      <td>3.00</td>\n",
       "      <td>8</td>\n",
       "      <td>5</td>\n",
       "      <td>4</td>\n",
       "      <td>6</td>\n",
       "      <td>5</td>\n",
       "      <td>5</td>\n",
       "      <td>3</td>\n",
       "      <td>2</td>\n",
       "      <td>2</td>\n",
       "      <td>15.0</td>\n",
       "      <td>16.0</td>\n",
       "      <td>0</td>\n",
       "      <td>5</td>\n",
       "    </tr>\n",
       "    <tr>\n",
       "      <th>9239</th>\n",
       "      <td>571b5c8e-a5b2-4d57-8574-f2ffb06fdeff</td>\n",
       "      <td>579533</td>\n",
       "      <td>1</td>\n",
       "      <td>0</td>\n",
       "      <td>0</td>\n",
       "      <td>1</td>\n",
       "      <td>6.0</td>\n",
       "      <td>1279</td>\n",
       "      <td>3.00</td>\n",
       "      <td>8</td>\n",
       "      <td>5</td>\n",
       "      <td>3</td>\n",
       "      <td>4</td>\n",
       "      <td>2</td>\n",
       "      <td>3</td>\n",
       "      <td>1</td>\n",
       "      <td>2</td>\n",
       "      <td>0</td>\n",
       "      <td>15.0</td>\n",
       "      <td>18.0</td>\n",
       "      <td>1</td>\n",
       "      <td>2</td>\n",
       "    </tr>\n",
       "  </tbody>\n",
       "</table>\n",
       "<p>9239 rows × 22 columns</p>\n",
       "</div>"
      ],
      "text/plain": [
       "                               Prospect ID  Lead Number  Lead Origin  Lead Source  Do Not Email  Converted  TotalVisits  Total Time Spent on Website  Page Views Per Visit  Last Activity  Specialization  How did you hear about X Education  What is your current occupation  Lead Quality  Lead Profile  City  Asymmetrique Activity Index  Asymmetrique Profile Index  Asymmetrique Activity Score  Asymmetrique Profile Score  A free copy of Mastering The Interview  Last Notable Activity\n",
       "0     7927b2df-8bba-4d29-b9a2-b6e0beafe620       660737            0            3             0          0          0.0                            0                  0.00              7               7                                   3                                4             1             5     6                            2                           2                         15.0                        15.0                                       0                      2\n",
       "1     2a272436-5132-4136-86fa-dcc88c88f482       660728            0            4             0          0          5.0                          674                  2.50              3               7                                   3                                4             5             5     6                            2                           2                         15.0                        15.0                                       0                      1\n",
       "2     8cc8c611-a219-4f35-ad23-fdfd2656bd8a       660727            1            0             0          1          2.0                         1532                  2.00              3               1                                   3                                3             2             3     0                            2                           0                         14.0                        20.0                                       1                      1\n",
       "3     0cc2df48-7cf4-4e39-9de9-19797f9b38cc       660719            1            0             0          0          1.0                          305                  1.00              9               6                                   9                                4             3             5     0                            2                           0                         13.0                        17.0                                       0                      2\n",
       "4     3256f628-e534-4826-9d63-4a8b88782852       660681            1            2             0          1          2.0                         1428                  1.00              0               7                                   5                                4             2             5     0                            2                           0                         15.0                        18.0                                       0                      2\n",
       "...                                    ...          ...          ...          ...           ...        ...          ...                          ...                   ...            ...             ...                                 ...                              ...           ...           ...   ...                          ...                         ...                          ...                         ...                                     ...                    ...\n",
       "9235  19d6451e-fcd6-407c-b83b-48e1af805ea9       579564            1            0             1          1          8.0                         1845                  2.67             11               5                                   3                                4             0             3     0                            2                           0                         15.0                        17.0                                       0                      6\n",
       "9236  82a7005b-7196-4d56-95ce-a79f937a158d       579546            1            0             0          0          2.0                          238                  2.00              8               6                                   3                                4             2             3     0                            2                           0                         14.0                        19.0                                       1                      5\n",
       "9237  aac550fe-a586-452d-8d3c-f1b62c94e02c       579545            1            0             1          0          2.0                          199                  2.00              8               1                                   3                                4             3             3     0                            2                           0                         13.0                        20.0                                       1                      5\n",
       "9238  5330a7d1-2f2b-4df4-85d6-64ca2f6b95b9       579538            1            2             0          1          3.0                          499                  3.00              8               5                                   4                                6             5             5     3                            2                           2                         15.0                        16.0                                       0                      5\n",
       "9239  571b5c8e-a5b2-4d57-8574-f2ffb06fdeff       579533            1            0             0          1          6.0                         1279                  3.00              8               5                                   3                                4             2             3     1                            2                           0                         15.0                        18.0                                       1                      2\n",
       "\n",
       "[9239 rows x 22 columns]"
      ]
     },
     "execution_count": 64,
     "metadata": {},
     "output_type": "execute_result"
    }
   ],
   "source": [
    "df2"
   ]
  },
  {
   "cell_type": "code",
   "execution_count": 65,
   "id": "890c6d80",
   "metadata": {
    "execution": {
     "iopub.execute_input": "2023-06-13T13:48:00.784065Z",
     "iopub.status.busy": "2023-06-13T13:48:00.783645Z",
     "iopub.status.idle": "2023-06-13T13:48:00.793657Z",
     "shell.execute_reply": "2023-06-13T13:48:00.792425Z"
    },
    "papermill": {
     "duration": 0.049614,
     "end_time": "2023-06-13T13:48:00.796082",
     "exception": false,
     "start_time": "2023-06-13T13:48:00.746468",
     "status": "completed"
    },
    "tags": []
   },
   "outputs": [
    {
     "data": {
      "text/plain": [
       "3.0"
      ]
     },
     "execution_count": 65,
     "metadata": {},
     "output_type": "execute_result"
    }
   ],
   "source": [
    "df2.TotalVisits.median()"
   ]
  },
  {
   "cell_type": "code",
   "execution_count": 66,
   "id": "8690a5b3",
   "metadata": {
    "execution": {
     "iopub.execute_input": "2023-06-13T13:48:00.870768Z",
     "iopub.status.busy": "2023-06-13T13:48:00.870371Z",
     "iopub.status.idle": "2023-06-13T13:48:00.877411Z",
     "shell.execute_reply": "2023-06-13T13:48:00.876094Z"
    },
    "papermill": {
     "duration": 0.046814,
     "end_time": "2023-06-13T13:48:00.880030",
     "exception": false,
     "start_time": "2023-06-13T13:48:00.833216",
     "status": "completed"
    },
    "tags": []
   },
   "outputs": [],
   "source": [
    "df2[\"TotalVisits\"]=df2[\"TotalVisits\"].fillna(3.0)"
   ]
  },
  {
   "cell_type": "code",
   "execution_count": 67,
   "id": "527b37a6",
   "metadata": {
    "execution": {
     "iopub.execute_input": "2023-06-13T13:48:00.955138Z",
     "iopub.status.busy": "2023-06-13T13:48:00.954758Z",
     "iopub.status.idle": "2023-06-13T13:48:00.969329Z",
     "shell.execute_reply": "2023-06-13T13:48:00.968116Z"
    },
    "papermill": {
     "duration": 0.055193,
     "end_time": "2023-06-13T13:48:00.971860",
     "exception": false,
     "start_time": "2023-06-13T13:48:00.916667",
     "status": "completed"
    },
    "tags": []
   },
   "outputs": [
    {
     "data": {
      "text/plain": [
       "Prospect ID                                  0\n",
       "Lead Number                                  0\n",
       "Lead Origin                                  0\n",
       "Lead Source                                  0\n",
       "Do Not Email                                 0\n",
       "Converted                                    0\n",
       "TotalVisits                                  0\n",
       "Total Time Spent on Website                  0\n",
       "Page Views Per Visit                       136\n",
       "Last Activity                                0\n",
       "Specialization                               0\n",
       "How did you hear about X Education           0\n",
       "What is your current occupation              0\n",
       "Lead Quality                                 0\n",
       "Lead Profile                                 0\n",
       "City                                         0\n",
       "Asymmetrique Activity Index                  0\n",
       "Asymmetrique Profile Index                   0\n",
       "Asymmetrique Activity Score               4218\n",
       "Asymmetrique Profile Score                4218\n",
       "A free copy of Mastering The Interview       0\n",
       "Last Notable Activity                        0\n",
       "dtype: int64"
      ]
     },
     "execution_count": 67,
     "metadata": {},
     "output_type": "execute_result"
    }
   ],
   "source": [
    "df2.isnull().sum()"
   ]
  },
  {
   "cell_type": "code",
   "execution_count": 68,
   "id": "4b83ba2a",
   "metadata": {
    "execution": {
     "iopub.execute_input": "2023-06-13T13:48:01.047788Z",
     "iopub.status.busy": "2023-06-13T13:48:01.047395Z",
     "iopub.status.idle": "2023-06-13T13:48:01.055098Z",
     "shell.execute_reply": "2023-06-13T13:48:01.053956Z"
    },
    "papermill": {
     "duration": 0.047378,
     "end_time": "2023-06-13T13:48:01.057246",
     "exception": false,
     "start_time": "2023-06-13T13:48:01.009868",
     "status": "completed"
    },
    "tags": []
   },
   "outputs": [
    {
     "data": {
      "text/plain": [
       "2.0"
      ]
     },
     "execution_count": 68,
     "metadata": {},
     "output_type": "execute_result"
    }
   ],
   "source": [
    "df2[\"Page Views Per Visit\"].median()"
   ]
  },
  {
   "cell_type": "code",
   "execution_count": 69,
   "id": "08961f91",
   "metadata": {
    "execution": {
     "iopub.execute_input": "2023-06-13T13:48:01.133007Z",
     "iopub.status.busy": "2023-06-13T13:48:01.132594Z",
     "iopub.status.idle": "2023-06-13T13:48:01.139035Z",
     "shell.execute_reply": "2023-06-13T13:48:01.137846Z"
    },
    "papermill": {
     "duration": 0.047362,
     "end_time": "2023-06-13T13:48:01.141262",
     "exception": false,
     "start_time": "2023-06-13T13:48:01.093900",
     "status": "completed"
    },
    "tags": []
   },
   "outputs": [],
   "source": [
    "df2[\"Page Views Per Visit\"]=df2[\"Page Views Per Visit\"].fillna(2.0)"
   ]
  },
  {
   "cell_type": "code",
   "execution_count": 70,
   "id": "98dce8c3",
   "metadata": {
    "execution": {
     "iopub.execute_input": "2023-06-13T13:48:01.216920Z",
     "iopub.status.busy": "2023-06-13T13:48:01.216514Z",
     "iopub.status.idle": "2023-06-13T13:48:01.225853Z",
     "shell.execute_reply": "2023-06-13T13:48:01.224318Z"
    },
    "papermill": {
     "duration": 0.05092,
     "end_time": "2023-06-13T13:48:01.228551",
     "exception": false,
     "start_time": "2023-06-13T13:48:01.177631",
     "status": "completed"
    },
    "tags": []
   },
   "outputs": [],
   "source": [
    "df3=df2.copy()"
   ]
  },
  {
   "cell_type": "code",
   "execution_count": 71,
   "id": "aaba953d",
   "metadata": {
    "execution": {
     "iopub.execute_input": "2023-06-13T13:48:01.307364Z",
     "iopub.status.busy": "2023-06-13T13:48:01.306332Z",
     "iopub.status.idle": "2023-06-13T13:48:01.313126Z",
     "shell.execute_reply": "2023-06-13T13:48:01.312324Z"
    },
    "papermill": {
     "duration": 0.048815,
     "end_time": "2023-06-13T13:48:01.315718",
     "exception": false,
     "start_time": "2023-06-13T13:48:01.266903",
     "status": "completed"
    },
    "tags": []
   },
   "outputs": [],
   "source": [
    "df3=df3.drop(\"Prospect ID\",axis=1)"
   ]
  },
  {
   "cell_type": "code",
   "execution_count": 72,
   "id": "96384ac7",
   "metadata": {
    "execution": {
     "iopub.execute_input": "2023-06-13T13:48:01.393975Z",
     "iopub.status.busy": "2023-06-13T13:48:01.393332Z",
     "iopub.status.idle": "2023-06-13T13:48:04.801047Z",
     "shell.execute_reply": "2023-06-13T13:48:04.799799Z"
    },
    "papermill": {
     "duration": 3.45042,
     "end_time": "2023-06-13T13:48:04.803907",
     "exception": false,
     "start_time": "2023-06-13T13:48:01.353487",
     "status": "completed"
    },
    "tags": []
   },
   "outputs": [],
   "source": [
    "from sklearn.impute import KNNImputer\n",
    "import pandas as pd\n",
    "\n",
    "# Assuming 'df' is the name of your DataFrame\n",
    "imputer = KNNImputer(n_neighbors=5)  # Create an instance of KNNImputer with the desired number of neighbors\n",
    "imputed_data = imputer.fit_transform(df3)  # Fit the imputer to the data and transform it\n",
    "\n",
    "# Convert the imputed data back to a DataFrame\n",
    "imputed_df = pd.DataFrame(imputed_data, columns=df3.columns)"
   ]
  },
  {
   "cell_type": "code",
   "execution_count": 73,
   "id": "a0408649",
   "metadata": {
    "execution": {
     "iopub.execute_input": "2023-06-13T13:48:04.880415Z",
     "iopub.status.busy": "2023-06-13T13:48:04.879747Z",
     "iopub.status.idle": "2023-06-13T13:48:04.893825Z",
     "shell.execute_reply": "2023-06-13T13:48:04.892542Z"
    },
    "papermill": {
     "duration": 0.054677,
     "end_time": "2023-06-13T13:48:04.896295",
     "exception": false,
     "start_time": "2023-06-13T13:48:04.841618",
     "status": "completed"
    },
    "tags": []
   },
   "outputs": [
    {
     "name": "stdout",
     "output_type": "stream",
     "text": [
      "<class 'pandas.core.frame.DataFrame'>\n",
      "RangeIndex: 9239 entries, 0 to 9238\n",
      "Data columns (total 21 columns):\n",
      " #   Column                                  Non-Null Count  Dtype  \n",
      "---  ------                                  --------------  -----  \n",
      " 0   Lead Number                             9239 non-null   float64\n",
      " 1   Lead Origin                             9239 non-null   float64\n",
      " 2   Lead Source                             9239 non-null   float64\n",
      " 3   Do Not Email                            9239 non-null   float64\n",
      " 4   Converted                               9239 non-null   float64\n",
      " 5   TotalVisits                             9239 non-null   float64\n",
      " 6   Total Time Spent on Website             9239 non-null   float64\n",
      " 7   Page Views Per Visit                    9239 non-null   float64\n",
      " 8   Last Activity                           9239 non-null   float64\n",
      " 9   Specialization                          9239 non-null   float64\n",
      " 10  How did you hear about X Education      9239 non-null   float64\n",
      " 11  What is your current occupation         9239 non-null   float64\n",
      " 12  Lead Quality                            9239 non-null   float64\n",
      " 13  Lead Profile                            9239 non-null   float64\n",
      " 14  City                                    9239 non-null   float64\n",
      " 15  Asymmetrique Activity Index             9239 non-null   float64\n",
      " 16  Asymmetrique Profile Index              9239 non-null   float64\n",
      " 17  Asymmetrique Activity Score             9239 non-null   float64\n",
      " 18  Asymmetrique Profile Score              9239 non-null   float64\n",
      " 19  A free copy of Mastering The Interview  9239 non-null   float64\n",
      " 20  Last Notable Activity                   9239 non-null   float64\n",
      "dtypes: float64(21)\n",
      "memory usage: 1.5 MB\n"
     ]
    }
   ],
   "source": [
    "imputed_df.info()"
   ]
  },
  {
   "cell_type": "code",
   "execution_count": 74,
   "id": "ad045cd4",
   "metadata": {
    "execution": {
     "iopub.execute_input": "2023-06-13T13:48:04.971700Z",
     "iopub.status.busy": "2023-06-13T13:48:04.971271Z",
     "iopub.status.idle": "2023-06-13T13:48:04.980568Z",
     "shell.execute_reply": "2023-06-13T13:48:04.979443Z"
    },
    "papermill": {
     "duration": 0.049317,
     "end_time": "2023-06-13T13:48:04.982871",
     "exception": false,
     "start_time": "2023-06-13T13:48:04.933554",
     "status": "completed"
    },
    "tags": []
   },
   "outputs": [
    {
     "data": {
      "text/plain": [
       "38.53230869141682"
      ]
     },
     "execution_count": 74,
     "metadata": {},
     "output_type": "execute_result"
    }
   ],
   "source": [
    "Converted = (sum(imputed_df['Converted'])/len(imputed_df['Converted'].index))*100\n",
    "Converted"
   ]
  },
  {
   "cell_type": "code",
   "execution_count": 75,
   "id": "5b092adc",
   "metadata": {
    "execution": {
     "iopub.execute_input": "2023-06-13T13:48:05.060108Z",
     "iopub.status.busy": "2023-06-13T13:48:05.059738Z",
     "iopub.status.idle": "2023-06-13T13:48:06.921655Z",
     "shell.execute_reply": "2023-06-13T13:48:06.920504Z"
    },
    "papermill": {
     "duration": 1.904376,
     "end_time": "2023-06-13T13:48:06.926105",
     "exception": false,
     "start_time": "2023-06-13T13:48:05.021729",
     "status": "completed"
    },
    "tags": []
   },
   "outputs": [
    {
     "data": {
      "image/png": "[encoded data removed]",
      "text/plain": [
       "<Figure size 1600x800 with 2 Axes>"
      ]
     },
     "metadata": {},
     "output_type": "display_data"
    }
   ],
   "source": [
    "plt.figure(figsize=(16,8))\n",
    "\n",
    "sns.heatmap(imputed_df.corr(), cmap=\"coolwarm\", annot=True)\n",
    "plt.show()"
   ]
  },
  {
   "cell_type": "code",
   "execution_count": 76,
   "id": "2c7e15f7",
   "metadata": {
    "execution": {
     "iopub.execute_input": "2023-06-13T13:48:07.014805Z",
     "iopub.status.busy": "2023-06-13T13:48:07.013803Z",
     "iopub.status.idle": "2023-06-13T13:48:07.019087Z",
     "shell.execute_reply": "2023-06-13T13:48:07.018234Z"
    },
    "papermill": {
     "duration": 0.05246,
     "end_time": "2023-06-13T13:48:07.021225",
     "exception": false,
     "start_time": "2023-06-13T13:48:06.968765",
     "status": "completed"
    },
    "tags": []
   },
   "outputs": [],
   "source": [
    "columns=imputed_df.columns"
   ]
  },
  {
   "cell_type": "code",
   "execution_count": 77,
   "id": "107e5eed",
   "metadata": {
    "execution": {
     "iopub.execute_input": "2023-06-13T13:48:07.109284Z",
     "iopub.status.busy": "2023-06-13T13:48:07.108141Z",
     "iopub.status.idle": "2023-06-13T13:48:11.211336Z",
     "shell.execute_reply": "2023-06-13T13:48:11.210036Z"
    },
    "papermill": {
     "duration": 4.150159,
     "end_time": "2023-06-13T13:48:11.214059",
     "exception": false,
     "start_time": "2023-06-13T13:48:07.063900",
     "status": "completed"
    },
    "tags": []
   },
   "outputs": [
    {
     "name": "stdout",
     "output_type": "stream",
     "text": [
      "Lead Number\n"
     ]
    },
    {
     "data": {
      "image/png": "[encoded data removed]",
      "text/plain": [
       "<Figure size 640x480 with 1 Axes>"
      ]
     },
     "metadata": {},
     "output_type": "display_data"
    },
    {
     "name": "stdout",
     "output_type": "stream",
     "text": [
      "Lead Origin\n"
     ]
    },
    {
     "data": {
      "image/png": "[encoded data removed]",
      "text/plain": [
       "<Figure size 640x480 with 1 Axes>"
      ]
     },
     "metadata": {},
     "output_type": "display_data"
    },
    {
     "name": "stdout",
     "output_type": "stream",
     "text": [
      "Lead Source\n"
     ]
    },
    {
     "data": {
      "image/png": "[encoded data removed]",
      "text/plain": [
       "<Figure size 640x480 with 1 Axes>"
      ]
     },
     "metadata": {},
     "output_type": "display_data"
    },
    {
     "name": "stdout",
     "output_type": "stream",
     "text": [
      "Do Not Email\n"
     ]
    },
    {
     "data": {
      "image/png": "[encoded data removed]",
      "text/plain": [
       "<Figure size 640x480 with 1 Axes>"
      ]
     },
     "metadata": {},
     "output_type": "display_data"
    },
    {
     "name": "stdout",
     "output_type": "stream",
     "text": [
      "Converted\n"
     ]
    },
    {
     "data": {
      "image/png": "[encoded data removed]",
      "text/plain": [
       "<Figure size 640x480 with 1 Axes>"
      ]
     },
     "metadata": {},
     "output_type": "display_data"
    },
    {
     "name": "stdout",
     "output_type": "stream",
     "text": [
      "TotalVisits\n"
     ]
    },
    {
     "data": {
      "image/png": "[encoded data removed]",
      "text/plain": [
       "<Figure size 640x480 with 1 Axes>"
      ]
     },
     "metadata": {},
     "output_type": "display_data"
    },
    {
     "name": "stdout",
     "output_type": "stream",
     "text": [
      "Total Time Spent on Website\n"
     ]
    },
    {
     "data": {
      "image/png": "[encoded data removed]",
      "text/plain": [
       "<Figure size 640x480 with 1 Axes>"
      ]
     },
     "metadata": {},
     "output_type": "display_data"
    },
    {
     "name": "stdout",
     "output_type": "stream",
     "text": [
      "Page Views Per Visit\n"
     ]
    },
    {
     "data": {
      "image/png": "[encoded data removed]",
      "text/plain": [
       "<Figure size 640x480 with 1 Axes>"
      ]
     },
     "metadata": {},
     "output_type": "display_data"
    },
    {
     "name": "stdout",
     "output_type": "stream",
     "text": [
      "Last Activity\n"
     ]
    },
    {
     "data": {
      "image/png": "[encoded data removed]",
      "text/plain": [
       "<Figure size 640x480 with 1 Axes>"
      ]
     },
     "metadata": {},
     "output_type": "display_data"
    },
    {
     "name": "stdout",
     "output_type": "stream",
     "text": [
      "Specialization\n"
     ]
    },
    {
     "data": {
      "image/png": "[encoded data removed]",
      "text/plain": [
       "<Figure size 640x480 with 1 Axes>"
      ]
     },
     "metadata": {},
     "output_type": "display_data"
    },
    {
     "name": "stdout",
     "output_type": "stream",
     "text": [
      "How did you hear about X Education\n"
     ]
    },
    {
     "data": {
      "image/png": "[encoded data removed]",
      "text/plain": [
       "<Figure size 640x480 with 1 Axes>"
      ]
     },
     "metadata": {},
     "output_type": "display_data"
    },
    {
     "name": "stdout",
     "output_type": "stream",
     "text": [
      "What is your current occupation\n"
     ]
    },
    {
     "data": {
      "image/png": "[encoded data removed]",
      "text/plain": [
       "<Figure size 640x480 with 1 Axes>"
      ]
     },
     "metadata": {},
     "output_type": "display_data"
    },
    {
     "name": "stdout",
     "output_type": "stream",
     "text": [
      "Lead Quality\n"
     ]
    },
    {
     "data": {
      "image/png": "[encoded data removed]",
      "text/plain": [
       "<Figure size 640x480 with 1 Axes>"
      ]
     },
     "metadata": {},
     "output_type": "display_data"
    },
    {
     "name": "stdout",
     "output_type": "stream",
     "text": [
      "Lead Profile\n"
     ]
    },
    {
     "data": {
      "image/png": "[encoded data removed]",
      "text/plain": [
       "<Figure size 640x480 with 1 Axes>"
      ]
     },
     "metadata": {},
     "output_type": "display_data"
    },
    {
     "name": "stdout",
     "output_type": "stream",
     "text": [
      "City\n"
     ]
    },
    {
     "data": {
      "image/png": "[encoded data removed]",
      "text/plain": [
       "<Figure size 640x480 with 1 Axes>"
      ]
     },
     "metadata": {},
     "output_type": "display_data"
    },
    {
     "name": "stdout",
     "output_type": "stream",
     "text": [
      "Asymmetrique Activity Index\n"
     ]
    },
    {
     "data": {
      "image/png": "[encoded data removed]",
      "text/plain": [
       "<Figure size 640x480 with 1 Axes>"
      ]
     },
     "metadata": {},
     "output_type": "display_data"
    },
    {
     "name": "stdout",
     "output_type": "stream",
     "text": [
      "Asymmetrique Profile Index\n"
     ]
    },
    {
     "data": {
      "image/png": "[encoded data removed]",
      "text/plain": [
       "<Figure size 640x480 with 1 Axes>"
      ]
     },
     "metadata": {},
     "output_type": "display_data"
    },
    {
     "name": "stdout",
     "output_type": "stream",
     "text": [
      "Asymmetrique Activity Score\n"
     ]
    },
    {
     "data": {
      "image/png": "[encoded data removed]",
      "text/plain": [
       "<Figure size 640x480 with 1 Axes>"
      ]
     },
     "metadata": {},
     "output_type": "display_data"
    },
    {
     "name": "stdout",
     "output_type": "stream",
     "text": [
      "Asymmetrique Profile Score\n"
     ]
    },
    {
     "data": {
      "image/png": "[encoded data removed]",
      "text/plain": [
       "<Figure size 640x480 with 1 Axes>"
      ]
     },
     "metadata": {},
     "output_type": "display_data"
    },
    {
     "name": "stdout",
     "output_type": "stream",
     "text": [
      "A free copy of Mastering The Interview\n"
     ]
    },
    {
     "data": {
      "image/png": "[encoded data removed]",
      "text/plain": [
       "<Figure size 640x480 with 1 Axes>"
      ]
     },
     "metadata": {},
     "output_type": "display_data"
    },
    {
     "name": "stdout",
     "output_type": "stream",
     "text": [
      "Last Notable Activity\n"
     ]
    },
    {
     "data": {
      "image/png": "[encoded data removed]",
      "text/plain": [
       "<Figure size 640x480 with 1 Axes>"
      ]
     },
     "metadata": {},
     "output_type": "display_data"
    }
   ],
   "source": [
    "for col in columns:\n",
    "    sns.boxplot(imputed_df[col])\n",
    "    print(col)\n",
    "    plt.show()"
   ]
  },
  {
   "cell_type": "code",
   "execution_count": 78,
   "id": "3e4c4968",
   "metadata": {
    "execution": {
     "iopub.execute_input": "2023-06-13T13:48:11.316689Z",
     "iopub.status.busy": "2023-06-13T13:48:11.316276Z",
     "iopub.status.idle": "2023-06-13T13:48:11.327187Z",
     "shell.execute_reply": "2023-06-13T13:48:11.326100Z"
    },
    "papermill": {
     "duration": 0.065158,
     "end_time": "2023-06-13T13:48:11.329700",
     "exception": false,
     "start_time": "2023-06-13T13:48:11.264542",
     "status": "completed"
    },
    "tags": []
   },
   "outputs": [],
   "source": [
    "data = imputed_df['TotalVisits']\n",
    "Q1 = data.quantile(0.25)\n",
    "Q3 = data.quantile(0.75)\n",
    "IQR = Q3 - Q1\n",
    "\n",
    "lower_bound = Q1 - 1.5 * IQR\n",
    "upper_bound = Q3 + 1.5 * IQR\n",
    "\n",
    "outliers = (data < lower_bound) | (data > upper_bound)\n",
    "\n",
    "df_clean = imputed_df[~outliers]"
   ]
  },
  {
   "cell_type": "code",
   "execution_count": 79,
   "id": "5c883da9",
   "metadata": {
    "execution": {
     "iopub.execute_input": "2023-06-13T13:48:11.432420Z",
     "iopub.status.busy": "2023-06-13T13:48:11.431758Z",
     "iopub.status.idle": "2023-06-13T13:48:11.652155Z",
     "shell.execute_reply": "2023-06-13T13:48:11.651105Z"
    },
    "papermill": {
     "duration": 0.275135,
     "end_time": "2023-06-13T13:48:11.654699",
     "exception": false,
     "start_time": "2023-06-13T13:48:11.379564",
     "status": "completed"
    },
    "tags": []
   },
   "outputs": [
    {
     "data": {
      "text/plain": [
       "<Axes: >"
      ]
     },
     "execution_count": 79,
     "metadata": {},
     "output_type": "execute_result"
    },
    {
     "data": {
      "image/png": "[encoded data removed]",
      "text/plain": [
       "<Figure size 640x480 with 1 Axes>"
      ]
     },
     "metadata": {},
     "output_type": "display_data"
    }
   ],
   "source": [
    "sns.boxplot(df_clean[\"Page Views Per Visit\"])"
   ]
  },
  {
   "cell_type": "code",
   "execution_count": 80,
   "id": "e01adf5c",
   "metadata": {
    "execution": {
     "iopub.execute_input": "2023-06-13T13:48:11.758101Z",
     "iopub.status.busy": "2023-06-13T13:48:11.757716Z",
     "iopub.status.idle": "2023-06-13T13:48:11.769525Z",
     "shell.execute_reply": "2023-06-13T13:48:11.768432Z"
    },
    "papermill": {
     "duration": 0.066179,
     "end_time": "2023-06-13T13:48:11.771997",
     "exception": false,
     "start_time": "2023-06-13T13:48:11.705818",
     "status": "completed"
    },
    "tags": []
   },
   "outputs": [],
   "source": [
    "data = df_clean['Page Views Per Visit']\n",
    "Q1 = data.quantile(0.25)\n",
    "Q3 = data.quantile(0.75)\n",
    "IQR = Q3 - Q1\n",
    "\n",
    "lower_bound = Q1 - 1.5 * IQR\n",
    "upper_bound = Q3 + 1.5 * IQR\n",
    "\n",
    "outliers = (data < lower_bound) | (data > upper_bound)\n",
    "\n",
    "df_clean = df_clean[~outliers]"
   ]
  },
  {
   "cell_type": "code",
   "execution_count": 81,
   "id": "a5126ac2",
   "metadata": {
    "execution": {
     "iopub.execute_input": "2023-06-13T13:48:11.874643Z",
     "iopub.status.busy": "2023-06-13T13:48:11.874227Z",
     "iopub.status.idle": "2023-06-13T13:48:11.922695Z",
     "shell.execute_reply": "2023-06-13T13:48:11.921869Z"
    },
    "papermill": {
     "duration": 0.102034,
     "end_time": "2023-06-13T13:48:11.924811",
     "exception": false,
     "start_time": "2023-06-13T13:48:11.822777",
     "status": "completed"
    },
    "tags": []
   },
   "outputs": [
    {
     "data": {
      "text/html": [
       "<div>\n",
       "<style scoped>\n",
       "    .dataframe tbody tr th:only-of-type {\n",
       "        vertical-align: middle;\n",
       "    }\n",
       "\n",
       "    .dataframe tbody tr th {\n",
       "        vertical-align: top;\n",
       "    }\n",
       "\n",
       "    .dataframe thead th {\n",
       "        text-align: right;\n",
       "    }\n",
       "</style>\n",
       "<table border=\"1\" class=\"dataframe\">\n",
       "  <thead>\n",
       "    <tr style=\"text-align: right;\">\n",
       "      <th></th>\n",
       "      <th>Lead Number</th>\n",
       "      <th>Lead Origin</th>\n",
       "      <th>Lead Source</th>\n",
       "      <th>Do Not Email</th>\n",
       "      <th>Converted</th>\n",
       "      <th>TotalVisits</th>\n",
       "      <th>Total Time Spent on Website</th>\n",
       "      <th>Page Views Per Visit</th>\n",
       "      <th>Last Activity</th>\n",
       "      <th>Specialization</th>\n",
       "      <th>How did you hear about X Education</th>\n",
       "      <th>What is your current occupation</th>\n",
       "      <th>Lead Quality</th>\n",
       "      <th>Lead Profile</th>\n",
       "      <th>City</th>\n",
       "      <th>Asymmetrique Activity Index</th>\n",
       "      <th>Asymmetrique Profile Index</th>\n",
       "      <th>Asymmetrique Activity Score</th>\n",
       "      <th>Asymmetrique Profile Score</th>\n",
       "      <th>A free copy of Mastering The Interview</th>\n",
       "      <th>Last Notable Activity</th>\n",
       "    </tr>\n",
       "  </thead>\n",
       "  <tbody>\n",
       "    <tr>\n",
       "      <th>0</th>\n",
       "      <td>660737.0</td>\n",
       "      <td>0.0</td>\n",
       "      <td>3.0</td>\n",
       "      <td>0.0</td>\n",
       "      <td>0.0</td>\n",
       "      <td>0.0</td>\n",
       "      <td>0.0</td>\n",
       "      <td>0.00</td>\n",
       "      <td>7.0</td>\n",
       "      <td>7.0</td>\n",
       "      <td>3.0</td>\n",
       "      <td>4.0</td>\n",
       "      <td>1.0</td>\n",
       "      <td>5.0</td>\n",
       "      <td>6.0</td>\n",
       "      <td>2.0</td>\n",
       "      <td>2.0</td>\n",
       "      <td>15.0</td>\n",
       "      <td>15.0</td>\n",
       "      <td>0.0</td>\n",
       "      <td>2.0</td>\n",
       "    </tr>\n",
       "    <tr>\n",
       "      <th>1</th>\n",
       "      <td>660728.0</td>\n",
       "      <td>0.0</td>\n",
       "      <td>4.0</td>\n",
       "      <td>0.0</td>\n",
       "      <td>0.0</td>\n",
       "      <td>5.0</td>\n",
       "      <td>674.0</td>\n",
       "      <td>2.50</td>\n",
       "      <td>3.0</td>\n",
       "      <td>7.0</td>\n",
       "      <td>3.0</td>\n",
       "      <td>4.0</td>\n",
       "      <td>5.0</td>\n",
       "      <td>5.0</td>\n",
       "      <td>6.0</td>\n",
       "      <td>2.0</td>\n",
       "      <td>2.0</td>\n",
       "      <td>15.0</td>\n",
       "      <td>15.0</td>\n",
       "      <td>0.0</td>\n",
       "      <td>1.0</td>\n",
       "    </tr>\n",
       "    <tr>\n",
       "      <th>2</th>\n",
       "      <td>660727.0</td>\n",
       "      <td>1.0</td>\n",
       "      <td>0.0</td>\n",
       "      <td>0.0</td>\n",
       "      <td>1.0</td>\n",
       "      <td>2.0</td>\n",
       "      <td>1532.0</td>\n",
       "      <td>2.00</td>\n",
       "      <td>3.0</td>\n",
       "      <td>1.0</td>\n",
       "      <td>3.0</td>\n",
       "      <td>3.0</td>\n",
       "      <td>2.0</td>\n",
       "      <td>3.0</td>\n",
       "      <td>0.0</td>\n",
       "      <td>2.0</td>\n",
       "      <td>0.0</td>\n",
       "      <td>14.0</td>\n",
       "      <td>20.0</td>\n",
       "      <td>1.0</td>\n",
       "      <td>1.0</td>\n",
       "    </tr>\n",
       "    <tr>\n",
       "      <th>3</th>\n",
       "      <td>660719.0</td>\n",
       "      <td>1.0</td>\n",
       "      <td>0.0</td>\n",
       "      <td>0.0</td>\n",
       "      <td>0.0</td>\n",
       "      <td>1.0</td>\n",
       "      <td>305.0</td>\n",
       "      <td>1.00</td>\n",
       "      <td>9.0</td>\n",
       "      <td>6.0</td>\n",
       "      <td>9.0</td>\n",
       "      <td>4.0</td>\n",
       "      <td>3.0</td>\n",
       "      <td>5.0</td>\n",
       "      <td>0.0</td>\n",
       "      <td>2.0</td>\n",
       "      <td>0.0</td>\n",
       "      <td>13.0</td>\n",
       "      <td>17.0</td>\n",
       "      <td>0.0</td>\n",
       "      <td>2.0</td>\n",
       "    </tr>\n",
       "    <tr>\n",
       "      <th>4</th>\n",
       "      <td>660681.0</td>\n",
       "      <td>1.0</td>\n",
       "      <td>2.0</td>\n",
       "      <td>0.0</td>\n",
       "      <td>1.0</td>\n",
       "      <td>2.0</td>\n",
       "      <td>1428.0</td>\n",
       "      <td>1.00</td>\n",
       "      <td>0.0</td>\n",
       "      <td>7.0</td>\n",
       "      <td>5.0</td>\n",
       "      <td>4.0</td>\n",
       "      <td>2.0</td>\n",
       "      <td>5.0</td>\n",
       "      <td>0.0</td>\n",
       "      <td>2.0</td>\n",
       "      <td>0.0</td>\n",
       "      <td>15.0</td>\n",
       "      <td>18.0</td>\n",
       "      <td>0.0</td>\n",
       "      <td>2.0</td>\n",
       "    </tr>\n",
       "    <tr>\n",
       "      <th>...</th>\n",
       "      <td>...</td>\n",
       "      <td>...</td>\n",
       "      <td>...</td>\n",
       "      <td>...</td>\n",
       "      <td>...</td>\n",
       "      <td>...</td>\n",
       "      <td>...</td>\n",
       "      <td>...</td>\n",
       "      <td>...</td>\n",
       "      <td>...</td>\n",
       "      <td>...</td>\n",
       "      <td>...</td>\n",
       "      <td>...</td>\n",
       "      <td>...</td>\n",
       "      <td>...</td>\n",
       "      <td>...</td>\n",
       "      <td>...</td>\n",
       "      <td>...</td>\n",
       "      <td>...</td>\n",
       "      <td>...</td>\n",
       "      <td>...</td>\n",
       "    </tr>\n",
       "    <tr>\n",
       "      <th>9234</th>\n",
       "      <td>579564.0</td>\n",
       "      <td>1.0</td>\n",
       "      <td>0.0</td>\n",
       "      <td>1.0</td>\n",
       "      <td>1.0</td>\n",
       "      <td>8.0</td>\n",
       "      <td>1845.0</td>\n",
       "      <td>2.67</td>\n",
       "      <td>11.0</td>\n",
       "      <td>5.0</td>\n",
       "      <td>3.0</td>\n",
       "      <td>4.0</td>\n",
       "      <td>0.0</td>\n",
       "      <td>3.0</td>\n",
       "      <td>0.0</td>\n",
       "      <td>2.0</td>\n",
       "      <td>0.0</td>\n",
       "      <td>15.0</td>\n",
       "      <td>17.0</td>\n",
       "      <td>0.0</td>\n",
       "      <td>6.0</td>\n",
       "    </tr>\n",
       "    <tr>\n",
       "      <th>9235</th>\n",
       "      <td>579546.0</td>\n",
       "      <td>1.0</td>\n",
       "      <td>0.0</td>\n",
       "      <td>0.0</td>\n",
       "      <td>0.0</td>\n",
       "      <td>2.0</td>\n",
       "      <td>238.0</td>\n",
       "      <td>2.00</td>\n",
       "      <td>8.0</td>\n",
       "      <td>6.0</td>\n",
       "      <td>3.0</td>\n",
       "      <td>4.0</td>\n",
       "      <td>2.0</td>\n",
       "      <td>3.0</td>\n",
       "      <td>0.0</td>\n",
       "      <td>2.0</td>\n",
       "      <td>0.0</td>\n",
       "      <td>14.0</td>\n",
       "      <td>19.0</td>\n",
       "      <td>1.0</td>\n",
       "      <td>5.0</td>\n",
       "    </tr>\n",
       "    <tr>\n",
       "      <th>9236</th>\n",
       "      <td>579545.0</td>\n",
       "      <td>1.0</td>\n",
       "      <td>0.0</td>\n",
       "      <td>1.0</td>\n",
       "      <td>0.0</td>\n",
       "      <td>2.0</td>\n",
       "      <td>199.0</td>\n",
       "      <td>2.00</td>\n",
       "      <td>8.0</td>\n",
       "      <td>1.0</td>\n",
       "      <td>3.0</td>\n",
       "      <td>4.0</td>\n",
       "      <td>3.0</td>\n",
       "      <td>3.0</td>\n",
       "      <td>0.0</td>\n",
       "      <td>2.0</td>\n",
       "      <td>0.0</td>\n",
       "      <td>13.0</td>\n",
       "      <td>20.0</td>\n",
       "      <td>1.0</td>\n",
       "      <td>5.0</td>\n",
       "    </tr>\n",
       "    <tr>\n",
       "      <th>9237</th>\n",
       "      <td>579538.0</td>\n",
       "      <td>1.0</td>\n",
       "      <td>2.0</td>\n",
       "      <td>0.0</td>\n",
       "      <td>1.0</td>\n",
       "      <td>3.0</td>\n",
       "      <td>499.0</td>\n",
       "      <td>3.00</td>\n",
       "      <td>8.0</td>\n",
       "      <td>5.0</td>\n",
       "      <td>4.0</td>\n",
       "      <td>6.0</td>\n",
       "      <td>5.0</td>\n",
       "      <td>5.0</td>\n",
       "      <td>3.0</td>\n",
       "      <td>2.0</td>\n",
       "      <td>2.0</td>\n",
       "      <td>15.0</td>\n",
       "      <td>16.0</td>\n",
       "      <td>0.0</td>\n",
       "      <td>5.0</td>\n",
       "    </tr>\n",
       "    <tr>\n",
       "      <th>9238</th>\n",
       "      <td>579533.0</td>\n",
       "      <td>1.0</td>\n",
       "      <td>0.0</td>\n",
       "      <td>0.0</td>\n",
       "      <td>1.0</td>\n",
       "      <td>6.0</td>\n",
       "      <td>1279.0</td>\n",
       "      <td>3.00</td>\n",
       "      <td>8.0</td>\n",
       "      <td>5.0</td>\n",
       "      <td>3.0</td>\n",
       "      <td>4.0</td>\n",
       "      <td>2.0</td>\n",
       "      <td>3.0</td>\n",
       "      <td>1.0</td>\n",
       "      <td>2.0</td>\n",
       "      <td>0.0</td>\n",
       "      <td>15.0</td>\n",
       "      <td>18.0</td>\n",
       "      <td>1.0</td>\n",
       "      <td>2.0</td>\n",
       "    </tr>\n",
       "  </tbody>\n",
       "</table>\n",
       "<p>8678 rows × 21 columns</p>\n",
       "</div>"
      ],
      "text/plain": [
       "      Lead Number  Lead Origin  Lead Source  Do Not Email  Converted  TotalVisits  Total Time Spent on Website  Page Views Per Visit  Last Activity  Specialization  How did you hear about X Education  What is your current occupation  Lead Quality  Lead Profile  City  Asymmetrique Activity Index  Asymmetrique Profile Index  Asymmetrique Activity Score  Asymmetrique Profile Score  A free copy of Mastering The Interview  Last Notable Activity\n",
       "0        660737.0          0.0          3.0           0.0        0.0          0.0                          0.0                  0.00            7.0             7.0                                 3.0                              4.0           1.0           5.0   6.0                          2.0                         2.0                         15.0                        15.0                                     0.0                    2.0\n",
       "1        660728.0          0.0          4.0           0.0        0.0          5.0                        674.0                  2.50            3.0             7.0                                 3.0                              4.0           5.0           5.0   6.0                          2.0                         2.0                         15.0                        15.0                                     0.0                    1.0\n",
       "2        660727.0          1.0          0.0           0.0        1.0          2.0                       1532.0                  2.00            3.0             1.0                                 3.0                              3.0           2.0           3.0   0.0                          2.0                         0.0                         14.0                        20.0                                     1.0                    1.0\n",
       "3        660719.0          1.0          0.0           0.0        0.0          1.0                        305.0                  1.00            9.0             6.0                                 9.0                              4.0           3.0           5.0   0.0                          2.0                         0.0                         13.0                        17.0                                     0.0                    2.0\n",
       "4        660681.0          1.0          2.0           0.0        1.0          2.0                       1428.0                  1.00            0.0             7.0                                 5.0                              4.0           2.0           5.0   0.0                          2.0                         0.0                         15.0                        18.0                                     0.0                    2.0\n",
       "...           ...          ...          ...           ...        ...          ...                          ...                   ...            ...             ...                                 ...                              ...           ...           ...   ...                          ...                         ...                          ...                         ...                                     ...                    ...\n",
       "9234     579564.0          1.0          0.0           1.0        1.0          8.0                       1845.0                  2.67           11.0             5.0                                 3.0                              4.0           0.0           3.0   0.0                          2.0                         0.0                         15.0                        17.0                                     0.0                    6.0\n",
       "9235     579546.0          1.0          0.0           0.0        0.0          2.0                        238.0                  2.00            8.0             6.0                                 3.0                              4.0           2.0           3.0   0.0                          2.0                         0.0                         14.0                        19.0                                     1.0                    5.0\n",
       "9236     579545.0          1.0          0.0           1.0        0.0          2.0                        199.0                  2.00            8.0             1.0                                 3.0                              4.0           3.0           3.0   0.0                          2.0                         0.0                         13.0                        20.0                                     1.0                    5.0\n",
       "9237     579538.0          1.0          2.0           0.0        1.0          3.0                        499.0                  3.00            8.0             5.0                                 4.0                              6.0           5.0           5.0   3.0                          2.0                         2.0                         15.0                        16.0                                     0.0                    5.0\n",
       "9238     579533.0          1.0          0.0           0.0        1.0          6.0                       1279.0                  3.00            8.0             5.0                                 3.0                              4.0           2.0           3.0   1.0                          2.0                         0.0                         15.0                        18.0                                     1.0                    2.0\n",
       "\n",
       "[8678 rows x 21 columns]"
      ]
     },
     "execution_count": 81,
     "metadata": {},
     "output_type": "execute_result"
    }
   ],
   "source": [
    "df_clean"
   ]
  },
  {
   "cell_type": "code",
   "execution_count": 82,
   "id": "ef554d1c",
   "metadata": {
    "execution": {
     "iopub.execute_input": "2023-06-13T13:48:12.029704Z",
     "iopub.status.busy": "2023-06-13T13:48:12.029280Z",
     "iopub.status.idle": "2023-06-13T13:48:12.038305Z",
     "shell.execute_reply": "2023-06-13T13:48:12.037161Z"
    },
    "papermill": {
     "duration": 0.064894,
     "end_time": "2023-06-13T13:48:12.040803",
     "exception": false,
     "start_time": "2023-06-13T13:48:11.975909",
     "status": "completed"
    },
    "tags": []
   },
   "outputs": [
    {
     "data": {
      "text/plain": [
       "Lead Number                               0\n",
       "Lead Origin                               0\n",
       "Lead Source                               0\n",
       "Do Not Email                              0\n",
       "Converted                                 0\n",
       "TotalVisits                               0\n",
       "Total Time Spent on Website               0\n",
       "Page Views Per Visit                      0\n",
       "Last Activity                             0\n",
       "Specialization                            0\n",
       "How did you hear about X Education        0\n",
       "What is your current occupation           0\n",
       "Lead Quality                              0\n",
       "Lead Profile                              0\n",
       "City                                      0\n",
       "Asymmetrique Activity Index               0\n",
       "Asymmetrique Profile Index                0\n",
       "Asymmetrique Activity Score               0\n",
       "Asymmetrique Profile Score                0\n",
       "A free copy of Mastering The Interview    0\n",
       "Last Notable Activity                     0\n",
       "dtype: int64"
      ]
     },
     "execution_count": 82,
     "metadata": {},
     "output_type": "execute_result"
    }
   ],
   "source": [
    "df_clean.isnull().sum()"
   ]
  },
  {
   "cell_type": "code",
   "execution_count": 83,
   "id": "c57ef738",
   "metadata": {
    "execution": {
     "iopub.execute_input": "2023-06-13T13:48:12.146394Z",
     "iopub.status.busy": "2023-06-13T13:48:12.146000Z",
     "iopub.status.idle": "2023-06-13T13:48:12.157008Z",
     "shell.execute_reply": "2023-06-13T13:48:12.156112Z"
    },
    "papermill": {
     "duration": 0.066686,
     "end_time": "2023-06-13T13:48:12.159181",
     "exception": false,
     "start_time": "2023-06-13T13:48:12.092495",
     "status": "completed"
    },
    "tags": []
   },
   "outputs": [],
   "source": [
    "\n",
    "from sklearn.model_selection import train_test_split\n",
    "X=df_clean.drop('Converted', axis=1)\n",
    "Y = df_clean['Converted']\n",
    "# Splitting the data into train and test\n",
    "X_train, X_test, y_train, y_test = train_test_split(X, Y, test_size=0.3, random_state=1)\n",
    "\n",
    "\n"
   ]
  },
  {
   "cell_type": "code",
   "execution_count": 84,
   "id": "303c1f1a",
   "metadata": {
    "execution": {
     "iopub.execute_input": "2023-06-13T13:48:12.264440Z",
     "iopub.status.busy": "2023-06-13T13:48:12.264013Z",
     "iopub.status.idle": "2023-06-13T13:48:12.277102Z",
     "shell.execute_reply": "2023-06-13T13:48:12.276328Z"
    },
    "papermill": {
     "duration": 0.068315,
     "end_time": "2023-06-13T13:48:12.279272",
     "exception": false,
     "start_time": "2023-06-13T13:48:12.210957",
     "status": "completed"
    },
    "tags": []
   },
   "outputs": [],
   "source": [
    "from sklearn.preprocessing import StandardScaler\n",
    "scaler=StandardScaler()\n",
    "x_train_scaled=scaler.fit_transform(X_train)\n",
    "x_test_scaled=scaler.transform(X_test)"
   ]
  },
  {
   "cell_type": "code",
   "execution_count": 85,
   "id": "455c6ec1",
   "metadata": {
    "execution": {
     "iopub.execute_input": "2023-06-13T13:48:12.384208Z",
     "iopub.status.busy": "2023-06-13T13:48:12.383113Z",
     "iopub.status.idle": "2023-06-13T13:48:12.429816Z",
     "shell.execute_reply": "2023-06-13T13:48:12.427907Z"
    },
    "papermill": {
     "duration": 0.103608,
     "end_time": "2023-06-13T13:48:12.434035",
     "exception": false,
     "start_time": "2023-06-13T13:48:12.330427",
     "status": "completed"
    },
    "tags": []
   },
   "outputs": [],
   "source": [
    "from sklearn.linear_model import LogisticRegression\n",
    "logreg = LogisticRegression()\n",
    "model=logreg.fit(x_train_scaled,y_train)\n"
   ]
  },
  {
   "cell_type": "code",
   "execution_count": 86,
   "id": "a9c2ca21",
   "metadata": {
    "execution": {
     "iopub.execute_input": "2023-06-13T13:48:12.600045Z",
     "iopub.status.busy": "2023-06-13T13:48:12.599566Z",
     "iopub.status.idle": "2023-06-13T13:48:12.608235Z",
     "shell.execute_reply": "2023-06-13T13:48:12.606792Z"
    },
    "papermill": {
     "duration": 0.067027,
     "end_time": "2023-06-13T13:48:12.611883",
     "exception": false,
     "start_time": "2023-06-13T13:48:12.544856",
     "status": "completed"
    },
    "tags": []
   },
   "outputs": [],
   "source": [
    "y_pred=logreg.predict(x_test_scaled)"
   ]
  },
  {
   "cell_type": "code",
   "execution_count": 87,
   "id": "54704e00",
   "metadata": {
    "execution": {
     "iopub.execute_input": "2023-06-13T13:48:12.775244Z",
     "iopub.status.busy": "2023-06-13T13:48:12.774823Z",
     "iopub.status.idle": "2023-06-13T13:48:12.781947Z",
     "shell.execute_reply": "2023-06-13T13:48:12.781143Z"
    },
    "papermill": {
     "duration": 0.063104,
     "end_time": "2023-06-13T13:48:12.784005",
     "exception": false,
     "start_time": "2023-06-13T13:48:12.720901",
     "status": "completed"
    },
    "tags": []
   },
   "outputs": [],
   "source": [
    "from sklearn.metrics import accuracy_score\n",
    "\n",
    "accuracy = accuracy_score(y_test, y_pred)\n"
   ]
  },
  {
   "cell_type": "code",
   "execution_count": 88,
   "id": "022082e3",
   "metadata": {
    "execution": {
     "iopub.execute_input": "2023-06-13T13:48:12.888602Z",
     "iopub.status.busy": "2023-06-13T13:48:12.887858Z",
     "iopub.status.idle": "2023-06-13T13:48:12.893590Z",
     "shell.execute_reply": "2023-06-13T13:48:12.892337Z"
    },
    "papermill": {
     "duration": 0.060498,
     "end_time": "2023-06-13T13:48:12.895717",
     "exception": false,
     "start_time": "2023-06-13T13:48:12.835219",
     "status": "completed"
    },
    "tags": []
   },
   "outputs": [
    {
     "name": "stdout",
     "output_type": "stream",
     "text": [
      "Accuracy: 0.8437019969278033\n"
     ]
    }
   ],
   "source": [
    "print(\"Accuracy:\",accuracy)"
   ]
  },
  {
   "cell_type": "code",
   "execution_count": 89,
   "id": "6af2665e",
   "metadata": {
    "execution": {
     "iopub.execute_input": "2023-06-13T13:48:13.001441Z",
     "iopub.status.busy": "2023-06-13T13:48:13.000321Z",
     "iopub.status.idle": "2023-06-13T13:48:13.009471Z",
     "shell.execute_reply": "2023-06-13T13:48:13.008054Z"
    },
    "papermill": {
     "duration": 0.066699,
     "end_time": "2023-06-13T13:48:13.013825",
     "exception": false,
     "start_time": "2023-06-13T13:48:12.947126",
     "status": "completed"
    },
    "tags": []
   },
   "outputs": [],
   "source": [
    "y_pred_proba = logreg.predict_proba(x_train_scaled)\n"
   ]
  },
  {
   "cell_type": "code",
   "execution_count": 90,
   "id": "68a6642e",
   "metadata": {
    "execution": {
     "iopub.execute_input": "2023-06-13T13:48:13.178322Z",
     "iopub.status.busy": "2023-06-13T13:48:13.177917Z",
     "iopub.status.idle": "2023-06-13T13:48:13.182876Z",
     "shell.execute_reply": "2023-06-13T13:48:13.181791Z"
    },
    "papermill": {
     "duration": 0.061646,
     "end_time": "2023-06-13T13:48:13.185114",
     "exception": false,
     "start_time": "2023-06-13T13:48:13.123468",
     "status": "completed"
    },
    "tags": []
   },
   "outputs": [],
   "source": [
    "prob_class_1 = y_pred_proba[:, 1]\n"
   ]
  },
  {
   "cell_type": "code",
   "execution_count": 91,
   "id": "d662c06d",
   "metadata": {
    "execution": {
     "iopub.execute_input": "2023-06-13T13:48:13.290042Z",
     "iopub.status.busy": "2023-06-13T13:48:13.289645Z",
     "iopub.status.idle": "2023-06-13T13:48:13.296133Z",
     "shell.execute_reply": "2023-06-13T13:48:13.295371Z"
    },
    "papermill": {
     "duration": 0.061247,
     "end_time": "2023-06-13T13:48:13.298232",
     "exception": false,
     "start_time": "2023-06-13T13:48:13.236985",
     "status": "completed"
    },
    "tags": []
   },
   "outputs": [
    {
     "data": {
      "text/plain": [
       "array([0.17641415, 0.97544516, 0.19677372, ..., 0.07238224, 0.10155538,\n",
       "       0.40963604])"
      ]
     },
     "execution_count": 91,
     "metadata": {},
     "output_type": "execute_result"
    }
   ],
   "source": [
    "prob_class_1"
   ]
  },
  {
   "cell_type": "code",
   "execution_count": 92,
   "id": "13f1c784",
   "metadata": {
    "execution": {
     "iopub.execute_input": "2023-06-13T13:48:13.402840Z",
     "iopub.status.busy": "2023-06-13T13:48:13.402430Z",
     "iopub.status.idle": "2023-06-13T13:48:13.416627Z",
     "shell.execute_reply": "2023-06-13T13:48:13.415215Z"
    },
    "papermill": {
     "duration": 0.069919,
     "end_time": "2023-06-13T13:48:13.419833",
     "exception": false,
     "start_time": "2023-06-13T13:48:13.349914",
     "status": "completed"
    },
    "tags": []
   },
   "outputs": [
    {
     "data": {
      "text/html": [
       "<div>\n",
       "<style scoped>\n",
       "    .dataframe tbody tr th:only-of-type {\n",
       "        vertical-align: middle;\n",
       "    }\n",
       "\n",
       "    .dataframe tbody tr th {\n",
       "        vertical-align: top;\n",
       "    }\n",
       "\n",
       "    .dataframe thead th {\n",
       "        text-align: right;\n",
       "    }\n",
       "</style>\n",
       "<table border=\"1\" class=\"dataframe\">\n",
       "  <thead>\n",
       "    <tr style=\"text-align: right;\">\n",
       "      <th></th>\n",
       "      <th>Converted</th>\n",
       "      <th>Converted_prob</th>\n",
       "      <th>Prospect ID</th>\n",
       "    </tr>\n",
       "  </thead>\n",
       "  <tbody>\n",
       "    <tr>\n",
       "      <th>0</th>\n",
       "      <td>0.0</td>\n",
       "      <td>0.176414</td>\n",
       "      <td>1639</td>\n",
       "    </tr>\n",
       "    <tr>\n",
       "      <th>1</th>\n",
       "      <td>1.0</td>\n",
       "      <td>0.975445</td>\n",
       "      <td>8079</td>\n",
       "    </tr>\n",
       "    <tr>\n",
       "      <th>2</th>\n",
       "      <td>0.0</td>\n",
       "      <td>0.196774</td>\n",
       "      <td>6536</td>\n",
       "    </tr>\n",
       "    <tr>\n",
       "      <th>3</th>\n",
       "      <td>0.0</td>\n",
       "      <td>0.086689</td>\n",
       "      <td>2705</td>\n",
       "    </tr>\n",
       "    <tr>\n",
       "      <th>4</th>\n",
       "      <td>0.0</td>\n",
       "      <td>0.327767</td>\n",
       "      <td>6571</td>\n",
       "    </tr>\n",
       "  </tbody>\n",
       "</table>\n",
       "</div>"
      ],
      "text/plain": [
       "   Converted  Converted_prob  Prospect ID\n",
       "0        0.0        0.176414         1639\n",
       "1        1.0        0.975445         8079\n",
       "2        0.0        0.196774         6536\n",
       "3        0.0        0.086689         2705\n",
       "4        0.0        0.327767         6571"
      ]
     },
     "execution_count": 92,
     "metadata": {},
     "output_type": "execute_result"
    }
   ],
   "source": [
    "y_train_pred_final = pd.DataFrame({'Converted':y_train.values, 'Converted_prob':prob_class_1})\n",
    "y_train_pred_final['Prospect ID'] = y_train.index\n",
    "y_train_pred_final.head()"
   ]
  },
  {
   "cell_type": "code",
   "execution_count": 93,
   "id": "5d1b288b",
   "metadata": {
    "execution": {
     "iopub.execute_input": "2023-06-13T13:48:13.547514Z",
     "iopub.status.busy": "2023-06-13T13:48:13.546689Z",
     "iopub.status.idle": "2023-06-13T13:48:13.564763Z",
     "shell.execute_reply": "2023-06-13T13:48:13.563961Z"
    },
    "papermill": {
     "duration": 0.079715,
     "end_time": "2023-06-13T13:48:13.566910",
     "exception": false,
     "start_time": "2023-06-13T13:48:13.487195",
     "status": "completed"
    },
    "tags": []
   },
   "outputs": [
    {
     "data": {
      "text/html": [
       "<div>\n",
       "<style scoped>\n",
       "    .dataframe tbody tr th:only-of-type {\n",
       "        vertical-align: middle;\n",
       "    }\n",
       "\n",
       "    .dataframe tbody tr th {\n",
       "        vertical-align: top;\n",
       "    }\n",
       "\n",
       "    .dataframe thead th {\n",
       "        text-align: right;\n",
       "    }\n",
       "</style>\n",
       "<table border=\"1\" class=\"dataframe\">\n",
       "  <thead>\n",
       "    <tr style=\"text-align: right;\">\n",
       "      <th></th>\n",
       "      <th>Converted</th>\n",
       "      <th>Converted_prob</th>\n",
       "      <th>Prospect ID</th>\n",
       "      <th>Predicted</th>\n",
       "    </tr>\n",
       "  </thead>\n",
       "  <tbody>\n",
       "    <tr>\n",
       "      <th>0</th>\n",
       "      <td>0.0</td>\n",
       "      <td>0.176414</td>\n",
       "      <td>1639</td>\n",
       "      <td>0</td>\n",
       "    </tr>\n",
       "    <tr>\n",
       "      <th>1</th>\n",
       "      <td>1.0</td>\n",
       "      <td>0.975445</td>\n",
       "      <td>8079</td>\n",
       "      <td>1</td>\n",
       "    </tr>\n",
       "    <tr>\n",
       "      <th>2</th>\n",
       "      <td>0.0</td>\n",
       "      <td>0.196774</td>\n",
       "      <td>6536</td>\n",
       "      <td>0</td>\n",
       "    </tr>\n",
       "    <tr>\n",
       "      <th>3</th>\n",
       "      <td>0.0</td>\n",
       "      <td>0.086689</td>\n",
       "      <td>2705</td>\n",
       "      <td>0</td>\n",
       "    </tr>\n",
       "    <tr>\n",
       "      <th>4</th>\n",
       "      <td>0.0</td>\n",
       "      <td>0.327767</td>\n",
       "      <td>6571</td>\n",
       "      <td>0</td>\n",
       "    </tr>\n",
       "  </tbody>\n",
       "</table>\n",
       "</div>"
      ],
      "text/plain": [
       "   Converted  Converted_prob  Prospect ID  Predicted\n",
       "0        0.0        0.176414         1639          0\n",
       "1        1.0        0.975445         8079          1\n",
       "2        0.0        0.196774         6536          0\n",
       "3        0.0        0.086689         2705          0\n",
       "4        0.0        0.327767         6571          0"
      ]
     },
     "execution_count": 93,
     "metadata": {},
     "output_type": "execute_result"
    }
   ],
   "source": [
    "y_train_pred_final['Predicted'] = y_train_pred_final.Converted_prob.map(lambda x: 1 if x > 0.5 else 0)\n",
    "y_train_pred_final.head()"
   ]
  },
  {
   "cell_type": "code",
   "execution_count": 94,
   "id": "1ecb665e",
   "metadata": {
    "execution": {
     "iopub.execute_input": "2023-06-13T13:48:13.675180Z",
     "iopub.status.busy": "2023-06-13T13:48:13.674417Z",
     "iopub.status.idle": "2023-06-13T13:48:13.746879Z",
     "shell.execute_reply": "2023-06-13T13:48:13.745830Z"
    },
    "papermill": {
     "duration": 0.129597,
     "end_time": "2023-06-13T13:48:13.749176",
     "exception": false,
     "start_time": "2023-06-13T13:48:13.619579",
     "status": "completed"
    },
    "tags": []
   },
   "outputs": [
    {
     "data": {
      "text/html": [
       "<div>\n",
       "<style scoped>\n",
       "    .dataframe tbody tr th:only-of-type {\n",
       "        vertical-align: middle;\n",
       "    }\n",
       "\n",
       "    .dataframe tbody tr th {\n",
       "        vertical-align: top;\n",
       "    }\n",
       "\n",
       "    .dataframe thead th {\n",
       "        text-align: right;\n",
       "    }\n",
       "</style>\n",
       "<table border=\"1\" class=\"dataframe\">\n",
       "  <thead>\n",
       "    <tr style=\"text-align: right;\">\n",
       "      <th></th>\n",
       "      <th>Converted</th>\n",
       "      <th>Converted_prob</th>\n",
       "      <th>Prospect ID</th>\n",
       "      <th>Predicted</th>\n",
       "      <th>0.0</th>\n",
       "      <th>0.1</th>\n",
       "      <th>0.2</th>\n",
       "      <th>0.3</th>\n",
       "      <th>0.4</th>\n",
       "      <th>0.5</th>\n",
       "      <th>0.6</th>\n",
       "      <th>0.7</th>\n",
       "      <th>0.8</th>\n",
       "      <th>0.9</th>\n",
       "    </tr>\n",
       "  </thead>\n",
       "  <tbody>\n",
       "    <tr>\n",
       "      <th>0</th>\n",
       "      <td>0.0</td>\n",
       "      <td>0.176414</td>\n",
       "      <td>1639</td>\n",
       "      <td>0</td>\n",
       "      <td>1</td>\n",
       "      <td>1</td>\n",
       "      <td>0</td>\n",
       "      <td>0</td>\n",
       "      <td>0</td>\n",
       "      <td>0</td>\n",
       "      <td>0</td>\n",
       "      <td>0</td>\n",
       "      <td>0</td>\n",
       "      <td>0</td>\n",
       "    </tr>\n",
       "    <tr>\n",
       "      <th>1</th>\n",
       "      <td>1.0</td>\n",
       "      <td>0.975445</td>\n",
       "      <td>8079</td>\n",
       "      <td>1</td>\n",
       "      <td>1</td>\n",
       "      <td>1</td>\n",
       "      <td>1</td>\n",
       "      <td>1</td>\n",
       "      <td>1</td>\n",
       "      <td>1</td>\n",
       "      <td>1</td>\n",
       "      <td>1</td>\n",
       "      <td>1</td>\n",
       "      <td>1</td>\n",
       "    </tr>\n",
       "    <tr>\n",
       "      <th>2</th>\n",
       "      <td>0.0</td>\n",
       "      <td>0.196774</td>\n",
       "      <td>6536</td>\n",
       "      <td>0</td>\n",
       "      <td>1</td>\n",
       "      <td>1</td>\n",
       "      <td>0</td>\n",
       "      <td>0</td>\n",
       "      <td>0</td>\n",
       "      <td>0</td>\n",
       "      <td>0</td>\n",
       "      <td>0</td>\n",
       "      <td>0</td>\n",
       "      <td>0</td>\n",
       "    </tr>\n",
       "    <tr>\n",
       "      <th>3</th>\n",
       "      <td>0.0</td>\n",
       "      <td>0.086689</td>\n",
       "      <td>2705</td>\n",
       "      <td>0</td>\n",
       "      <td>1</td>\n",
       "      <td>0</td>\n",
       "      <td>0</td>\n",
       "      <td>0</td>\n",
       "      <td>0</td>\n",
       "      <td>0</td>\n",
       "      <td>0</td>\n",
       "      <td>0</td>\n",
       "      <td>0</td>\n",
       "      <td>0</td>\n",
       "    </tr>\n",
       "    <tr>\n",
       "      <th>4</th>\n",
       "      <td>0.0</td>\n",
       "      <td>0.327767</td>\n",
       "      <td>6571</td>\n",
       "      <td>0</td>\n",
       "      <td>1</td>\n",
       "      <td>1</td>\n",
       "      <td>1</td>\n",
       "      <td>1</td>\n",
       "      <td>0</td>\n",
       "      <td>0</td>\n",
       "      <td>0</td>\n",
       "      <td>0</td>\n",
       "      <td>0</td>\n",
       "      <td>0</td>\n",
       "    </tr>\n",
       "  </tbody>\n",
       "</table>\n",
       "</div>"
      ],
      "text/plain": [
       "   Converted  Converted_prob  Prospect ID  Predicted  0.0  0.1  0.2  0.3  0.4  0.5  0.6  0.7  0.8  0.9\n",
       "0        0.0        0.176414         1639          0    1    1    0    0    0    0    0    0    0    0\n",
       "1        1.0        0.975445         8079          1    1    1    1    1    1    1    1    1    1    1\n",
       "2        0.0        0.196774         6536          0    1    1    0    0    0    0    0    0    0    0\n",
       "3        0.0        0.086689         2705          0    1    0    0    0    0    0    0    0    0    0\n",
       "4        0.0        0.327767         6571          0    1    1    1    1    0    0    0    0    0    0"
      ]
     },
     "execution_count": 94,
     "metadata": {},
     "output_type": "execute_result"
    }
   ],
   "source": [
    "numbers = [float(x)/10 for x in range(10)]\n",
    "for i in numbers:\n",
    "    y_train_pred_final[i]= y_train_pred_final.Converted_prob.map(lambda x: 1 if x > i else 0)\n",
    "y_train_pred_final.head()"
   ]
  },
  {
   "cell_type": "code",
   "execution_count": 95,
   "id": "7b926c05",
   "metadata": {
    "execution": {
     "iopub.execute_input": "2023-06-13T13:48:13.856107Z",
     "iopub.status.busy": "2023-06-13T13:48:13.855447Z",
     "iopub.status.idle": "2023-06-13T13:48:13.980270Z",
     "shell.execute_reply": "2023-06-13T13:48:13.979237Z"
    },
    "papermill": {
     "duration": 0.181864,
     "end_time": "2023-06-13T13:48:13.982818",
     "exception": false,
     "start_time": "2023-06-13T13:48:13.800954",
     "status": "completed"
    },
    "tags": []
   },
   "outputs": [
    {
     "name": "stdout",
     "output_type": "stream",
     "text": [
      "     prob  accuracy     sensi     speci\n",
      "0.0   0.0  0.385249  1.000000  0.000000\n",
      "0.1   0.1  0.629898  0.958120  0.424210\n",
      "0.2   0.2  0.768686  0.901282  0.685592\n",
      "0.3   0.3  0.806553  0.850000  0.779325\n",
      "0.4   0.4  0.825156  0.792735  0.845474\n",
      "0.5   0.5  0.825321  0.727350  0.886717\n",
      "0.6   0.6  0.823510  0.669658  0.919925\n",
      "0.7   0.7  0.804577  0.574786  0.948581\n",
      "0.8   0.8  0.778729  0.470513  0.971880\n",
      "0.9   0.9  0.725058  0.302564  0.989823\n"
     ]
    }
   ],
   "source": [
    "# Now let's calculate accuracy sensitivity and specificity for various probability cutoffs.\n",
    "cutoff_df = pd.DataFrame( columns = ['prob','accuracy','sensi','speci'])\n",
    "from sklearn.metrics import confusion_matrix\n",
    "from sklearn import metrics\n",
    "\n",
    "# TP = confusion[1,1] # true positive \n",
    "# TN = confusion[0,0] # true negatives\n",
    "# FP = confusion[0,1] # false positives\n",
    "# FN = confusion[1,0] # false negatives\n",
    "\n",
    "num = [0.0,0.1,0.2,0.3,0.4,0.5,0.6,0.7,0.8,0.9]\n",
    "for i in num:\n",
    "    cm1 = metrics.confusion_matrix(y_train_pred_final.Converted, y_train_pred_final[i] )\n",
    "    total1=sum(sum(cm1))\n",
    "    accuracy = (cm1[0,0]+cm1[1,1])/total1\n",
    "    \n",
    "    speci = cm1[0,0]/(cm1[0,0]+cm1[0,1])\n",
    "    sensi = cm1[1,1]/(cm1[1,0]+cm1[1,1])\n",
    "    cutoff_df.loc[i] =[ i ,accuracy,sensi,speci]\n",
    "print(cutoff_df)"
   ]
  },
  {
   "cell_type": "code",
   "execution_count": 96,
   "id": "fc5f960d",
   "metadata": {
    "execution": {
     "iopub.execute_input": "2023-06-13T13:48:14.092103Z",
     "iopub.status.busy": "2023-06-13T13:48:14.091732Z",
     "iopub.status.idle": "2023-06-13T13:48:14.446670Z",
     "shell.execute_reply": "2023-06-13T13:48:14.445231Z"
    },
    "papermill": {
     "duration": 0.41296,
     "end_time": "2023-06-13T13:48:14.449606",
     "exception": false,
     "start_time": "2023-06-13T13:48:14.036646",
     "status": "completed"
    },
    "tags": []
   },
   "outputs": [
    {
     "data": {
      "image/png": "[encoded data removed]",
      "text/plain": [
       "<Figure size 640x480 with 1 Axes>"
      ]
     },
     "metadata": {},
     "output_type": "display_data"
    }
   ],
   "source": [
    "cutoff_df.plot.line(x='prob', y=['accuracy','sensi','speci'])\n",
    "plt.show()"
   ]
  },
  {
   "cell_type": "code",
   "execution_count": 97,
   "id": "94cb86d5",
   "metadata": {
    "execution": {
     "iopub.execute_input": "2023-06-13T13:48:14.559433Z",
     "iopub.status.busy": "2023-06-13T13:48:14.559003Z",
     "iopub.status.idle": "2023-06-13T13:48:14.581864Z",
     "shell.execute_reply": "2023-06-13T13:48:14.580972Z"
    },
    "papermill": {
     "duration": 0.080338,
     "end_time": "2023-06-13T13:48:14.584182",
     "exception": false,
     "start_time": "2023-06-13T13:48:14.503844",
     "status": "completed"
    },
    "tags": []
   },
   "outputs": [
    {
     "data": {
      "text/html": [
       "<div>\n",
       "<style scoped>\n",
       "    .dataframe tbody tr th:only-of-type {\n",
       "        vertical-align: middle;\n",
       "    }\n",
       "\n",
       "    .dataframe tbody tr th {\n",
       "        vertical-align: top;\n",
       "    }\n",
       "\n",
       "    .dataframe thead th {\n",
       "        text-align: right;\n",
       "    }\n",
       "</style>\n",
       "<table border=\"1\" class=\"dataframe\">\n",
       "  <thead>\n",
       "    <tr style=\"text-align: right;\">\n",
       "      <th></th>\n",
       "      <th>Converted</th>\n",
       "      <th>Converted_prob</th>\n",
       "      <th>Prospect ID</th>\n",
       "      <th>Predicted</th>\n",
       "      <th>0.0</th>\n",
       "      <th>0.1</th>\n",
       "      <th>0.2</th>\n",
       "      <th>0.3</th>\n",
       "      <th>0.4</th>\n",
       "      <th>0.5</th>\n",
       "      <th>0.6</th>\n",
       "      <th>0.7</th>\n",
       "      <th>0.8</th>\n",
       "      <th>0.9</th>\n",
       "      <th>final_Predicted</th>\n",
       "    </tr>\n",
       "  </thead>\n",
       "  <tbody>\n",
       "    <tr>\n",
       "      <th>0</th>\n",
       "      <td>0.0</td>\n",
       "      <td>0.176414</td>\n",
       "      <td>1639</td>\n",
       "      <td>0</td>\n",
       "      <td>1</td>\n",
       "      <td>1</td>\n",
       "      <td>0</td>\n",
       "      <td>0</td>\n",
       "      <td>0</td>\n",
       "      <td>0</td>\n",
       "      <td>0</td>\n",
       "      <td>0</td>\n",
       "      <td>0</td>\n",
       "      <td>0</td>\n",
       "      <td>0</td>\n",
       "    </tr>\n",
       "    <tr>\n",
       "      <th>1</th>\n",
       "      <td>1.0</td>\n",
       "      <td>0.975445</td>\n",
       "      <td>8079</td>\n",
       "      <td>1</td>\n",
       "      <td>1</td>\n",
       "      <td>1</td>\n",
       "      <td>1</td>\n",
       "      <td>1</td>\n",
       "      <td>1</td>\n",
       "      <td>1</td>\n",
       "      <td>1</td>\n",
       "      <td>1</td>\n",
       "      <td>1</td>\n",
       "      <td>1</td>\n",
       "      <td>1</td>\n",
       "    </tr>\n",
       "    <tr>\n",
       "      <th>2</th>\n",
       "      <td>0.0</td>\n",
       "      <td>0.196774</td>\n",
       "      <td>6536</td>\n",
       "      <td>0</td>\n",
       "      <td>1</td>\n",
       "      <td>1</td>\n",
       "      <td>0</td>\n",
       "      <td>0</td>\n",
       "      <td>0</td>\n",
       "      <td>0</td>\n",
       "      <td>0</td>\n",
       "      <td>0</td>\n",
       "      <td>0</td>\n",
       "      <td>0</td>\n",
       "      <td>0</td>\n",
       "    </tr>\n",
       "    <tr>\n",
       "      <th>3</th>\n",
       "      <td>0.0</td>\n",
       "      <td>0.086689</td>\n",
       "      <td>2705</td>\n",
       "      <td>0</td>\n",
       "      <td>1</td>\n",
       "      <td>0</td>\n",
       "      <td>0</td>\n",
       "      <td>0</td>\n",
       "      <td>0</td>\n",
       "      <td>0</td>\n",
       "      <td>0</td>\n",
       "      <td>0</td>\n",
       "      <td>0</td>\n",
       "      <td>0</td>\n",
       "      <td>0</td>\n",
       "    </tr>\n",
       "    <tr>\n",
       "      <th>4</th>\n",
       "      <td>0.0</td>\n",
       "      <td>0.327767</td>\n",
       "      <td>6571</td>\n",
       "      <td>0</td>\n",
       "      <td>1</td>\n",
       "      <td>1</td>\n",
       "      <td>1</td>\n",
       "      <td>1</td>\n",
       "      <td>0</td>\n",
       "      <td>0</td>\n",
       "      <td>0</td>\n",
       "      <td>0</td>\n",
       "      <td>0</td>\n",
       "      <td>0</td>\n",
       "      <td>0</td>\n",
       "    </tr>\n",
       "  </tbody>\n",
       "</table>\n",
       "</div>"
      ],
      "text/plain": [
       "   Converted  Converted_prob  Prospect ID  Predicted  0.0  0.1  0.2  0.3  0.4  0.5  0.6  0.7  0.8  0.9  final_Predicted\n",
       "0        0.0        0.176414         1639          0    1    1    0    0    0    0    0    0    0    0                0\n",
       "1        1.0        0.975445         8079          1    1    1    1    1    1    1    1    1    1    1                1\n",
       "2        0.0        0.196774         6536          0    1    1    0    0    0    0    0    0    0    0                0\n",
       "3        0.0        0.086689         2705          0    1    0    0    0    0    0    0    0    0    0                0\n",
       "4        0.0        0.327767         6571          0    1    1    1    1    0    0    0    0    0    0                0"
      ]
     },
     "execution_count": 97,
     "metadata": {},
     "output_type": "execute_result"
    }
   ],
   "source": [
    "#### From the curve above, 0.4 is the optimum point to take it as a cutoff probability.\n",
    "\n",
    "y_train_pred_final['final_Predicted'] = y_train_pred_final.Converted_prob.map( lambda x: 1 if x > 0.4 else 0)\n",
    "\n",
    "y_train_pred_final.head()"
   ]
  },
  {
   "cell_type": "code",
   "execution_count": 98,
   "id": "993ac0e6",
   "metadata": {
    "execution": {
     "iopub.execute_input": "2023-06-13T13:48:14.693925Z",
     "iopub.status.busy": "2023-06-13T13:48:14.693549Z",
     "iopub.status.idle": "2023-06-13T13:48:14.713892Z",
     "shell.execute_reply": "2023-06-13T13:48:14.713073Z"
    },
    "papermill": {
     "duration": 0.077991,
     "end_time": "2023-06-13T13:48:14.716021",
     "exception": false,
     "start_time": "2023-06-13T13:48:14.638030",
     "status": "completed"
    },
    "tags": []
   },
   "outputs": [
    {
     "data": {
      "text/html": [
       "<div>\n",
       "<style scoped>\n",
       "    .dataframe tbody tr th:only-of-type {\n",
       "        vertical-align: middle;\n",
       "    }\n",
       "\n",
       "    .dataframe tbody tr th {\n",
       "        vertical-align: top;\n",
       "    }\n",
       "\n",
       "    .dataframe thead th {\n",
       "        text-align: right;\n",
       "    }\n",
       "</style>\n",
       "<table border=\"1\" class=\"dataframe\">\n",
       "  <thead>\n",
       "    <tr style=\"text-align: right;\">\n",
       "      <th></th>\n",
       "      <th>Converted</th>\n",
       "      <th>Converted_prob</th>\n",
       "      <th>Prospect ID</th>\n",
       "      <th>final_Predicted</th>\n",
       "      <th>Lead_Score</th>\n",
       "    </tr>\n",
       "  </thead>\n",
       "  <tbody>\n",
       "    <tr>\n",
       "      <th>0</th>\n",
       "      <td>0.0</td>\n",
       "      <td>0.176414</td>\n",
       "      <td>1639</td>\n",
       "      <td>0</td>\n",
       "      <td>18</td>\n",
       "    </tr>\n",
       "    <tr>\n",
       "      <th>1</th>\n",
       "      <td>1.0</td>\n",
       "      <td>0.975445</td>\n",
       "      <td>8079</td>\n",
       "      <td>1</td>\n",
       "      <td>98</td>\n",
       "    </tr>\n",
       "    <tr>\n",
       "      <th>2</th>\n",
       "      <td>0.0</td>\n",
       "      <td>0.196774</td>\n",
       "      <td>6536</td>\n",
       "      <td>0</td>\n",
       "      <td>20</td>\n",
       "    </tr>\n",
       "    <tr>\n",
       "      <th>3</th>\n",
       "      <td>0.0</td>\n",
       "      <td>0.086689</td>\n",
       "      <td>2705</td>\n",
       "      <td>0</td>\n",
       "      <td>9</td>\n",
       "    </tr>\n",
       "    <tr>\n",
       "      <th>4</th>\n",
       "      <td>0.0</td>\n",
       "      <td>0.327767</td>\n",
       "      <td>6571</td>\n",
       "      <td>0</td>\n",
       "      <td>33</td>\n",
       "    </tr>\n",
       "  </tbody>\n",
       "</table>\n",
       "</div>"
      ],
      "text/plain": [
       "   Converted  Converted_prob  Prospect ID  final_Predicted  Lead_Score\n",
       "0        0.0        0.176414         1639                0          18\n",
       "1        1.0        0.975445         8079                1          98\n",
       "2        0.0        0.196774         6536                0          20\n",
       "3        0.0        0.086689         2705                0           9\n",
       "4        0.0        0.327767         6571                0          33"
      ]
     },
     "execution_count": 98,
     "metadata": {},
     "output_type": "execute_result"
    }
   ],
   "source": [
    "y_train_pred_final['Lead_Score'] = y_train_pred_final.Converted_prob.map( lambda x: round(x*100))\n",
    "\n",
    "y_train_pred_final[['Converted','Converted_prob','Prospect ID','final_Predicted','Lead_Score']].head()"
   ]
  },
  {
   "cell_type": "code",
   "execution_count": 99,
   "id": "4bf44ae2",
   "metadata": {
    "execution": {
     "iopub.execute_input": "2023-06-13T13:48:14.824612Z",
     "iopub.status.busy": "2023-06-13T13:48:14.823880Z",
     "iopub.status.idle": "2023-06-13T13:48:14.831899Z",
     "shell.execute_reply": "2023-06-13T13:48:14.831059Z"
    },
    "papermill": {
     "duration": 0.064735,
     "end_time": "2023-06-13T13:48:14.833960",
     "exception": false,
     "start_time": "2023-06-13T13:48:14.769225",
     "status": "completed"
    },
    "tags": []
   },
   "outputs": [
    {
     "data": {
      "text/plain": [
       "0.8251564043463945"
      ]
     },
     "execution_count": 99,
     "metadata": {},
     "output_type": "execute_result"
    }
   ],
   "source": [
    "metrics.accuracy_score(y_train_pred_final.Converted, y_train_pred_final.final_Predicted)"
   ]
  },
  {
   "cell_type": "code",
   "execution_count": null,
   "id": "1b0667dc",
   "metadata": {
    "papermill": {
     "duration": 0.053969,
     "end_time": "2023-06-13T13:48:14.941231",
     "exception": false,
     "start_time": "2023-06-13T13:48:14.887262",
     "status": "completed"
    },
    "tags": []
   },
   "outputs": [],
   "source": []
  }
 ],
 "metadata": {
  "kernelspec": {
   "display_name": "Python 3",
   "language": "python",
   "name": "python3"
  },
  "language_info": {
   "codemirror_mode": {
    "name": "ipython",
    "version": 3
   },
   "file_extension": ".py",
   "mimetype": "text/x-python",
   "name": "python",
   "nbconvert_exporter": "python",
   "pygments_lexer": "ipython3",
   "version": "3.10.10"
  },
  "papermill": {
   "default_parameters": {},
   "duration": 35.179902,
   "end_time": "2023-06-13T13:48:16.016987",
   "environment_variables": {},
   "exception": null,
   "input_path": "__notebook__.ipynb",
   "output_path": "__notebook__.ipynb",
   "parameters": {},
   "start_time": "2023-06-13T13:47:40.837085",
   "version": "2.4.0"
  }
 },
 "nbformat": 4,
 "nbformat_minor": 5
}
